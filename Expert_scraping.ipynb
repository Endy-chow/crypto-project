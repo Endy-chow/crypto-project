{
 "cells": [
  {
   "cell_type": "code",
   "execution_count": 11,
   "id": "8775925d",
   "metadata": {},
   "outputs": [],
   "source": [
    "import snscrape.modules.twitter as sntwitter\n",
    "import pandas as pd\n",
    "# For sending GET requests from the API\n",
    "import requests\n",
    "# For saving access tokens and for file management when creating and adding to the dataset\n",
    "import os\n",
    "# For dealing with json responses we receive from the API\n",
    "import json\n",
    "# For saving the response data in CSV format\n",
    "import csv\n",
    "# For parsing the dates received from twitter in readable formats\n",
    "import datetime\n",
    "import dateutil.parser\n",
    "import unicodedata\n",
    "#To add wait time between requests\n",
    "import time\n",
    "from datetime import datetime\n",
    "from datetime import timedelta"
   ]
  },
  {
   "cell_type": "code",
   "execution_count": 5,
   "id": "d4a8af3f",
   "metadata": {},
   "outputs": [
    {
     "name": "stdout",
     "output_type": "stream",
     "text": [
      "[['@saylor'], ['@icebergy_'], ['@LSDinmycoffee'], ['@Crypto_Chase'], ['@Anbessa100'], ['@jebus911'], ['@DeeZe'], ['@MrsDeeze'], ['@zhusu'], ['@Tetranode'], ['@ThisIsNuse'], ['@IamNomad'], ['@scottmelker'], ['@lawmaster'], ['@udiWertheimer'], ['@AWice'], ['@mattysino'], ['@gainzy222'], ['@219_eth'], ['@McDonaldsXBT'], ['@GCRClassic'], ['@DaRealMilkBagz'], ['@GCRIntern'], ['@Vince_Van_Dough'], ['@Cheguevoblin'], ['@0xSisyphus'], ['@cmsintern'], ['@KeyboardMonkey3'], ['@crypto_bitlord7'], ['@GiganticRebirth'], ['@conzimp'], ['@Awawat_Trades'], ['@stockmart_'], ['@scooterxbt'], ['@AlamedaTrabucco'], ['@satsdart'], ['@SizeChad'], ['@fishxbt'], ['@basedkarbon'], ['@AlgodTrading'], ['@bigdsenpai'], ['@Pentosh1'], ['@crypto_iso'], ['@SBF_FTX'], ['@ByzGeneral'], ['@screentimes'], ['@ShardiB2'], ['@devchart'], ['@CL207'], ['@inversebrah'], ['@bitcoinpanda69'], ['@CryptoFinally'], ['@hentaiavenger66'], ['@Bagsy'], ['@LomahCrypto'], ['@ColeThereum'], ['@CryptoCapo_'], ['@ColdBloodShill'], ['@CryptoHayes'], ['@naniXBT'], ['@pwnlord69'], ['@HsakaTrades'], ['@AltcoinPsycho'], ['@CanteringClark'], ['@CryptoWendyO'], ['@100trillionUSD'], ['@CryptoKaleo'], ['@CryptoCred'], ['@IamCryptoWolf'], ['@ledgerstatus'], ['@PeterMcCormack'], ['@lightcrypto'], ['@TheCryptoDog'], ['@CryptoDonAlt'], ['@tradinglord'], ['@cryptunez'], ['@heartereum'], ['@AviFelman'], ['@zachxbt'], ['@trader1sz'], ['@0x_Messi'], ['@notsofast'], ['@loomdart'], ['@RookieXBT'], ['@CryptoBull'], ['@Tradermayne'], ['@Cryptopathic'], ['@Sicarious_'], ['@cobie'], ['@cryptostardust'], ['@DegenSpartan'], ['@SalsaTekila'], ['@Trader_XO'], ['@AngeloBTC'], ['@AndreCronjeTech'], ['@mattomattik'], ['@pierre_crypt0'], ['@hasufl'], ['@cubantobacco'], ['@kerneltrader'], ['@jimtalbot'], ['@PeterLBrandt'], ['@TraderKoz'], ['@RektProof']]\n"
     ]
    }
   ],
   "source": [
    "with open('raw_data/Usernames - Sheet1.csv', newline='') as f:\n",
    "    reader = csv.reader(f)\n",
    "    data = list(reader)\n",
    "\n",
    "print(data)"
   ]
  },
  {
   "cell_type": "code",
   "execution_count": 59,
   "id": "85a475aa",
   "metadata": {},
   "outputs": [
    {
     "data": {
      "text/plain": [
       "['saylor',\n",
       " 'icebergy_',\n",
       " 'LSDinmycoffee',\n",
       " 'Crypto_Chase',\n",
       " 'Anbessa100',\n",
       " 'jebus911',\n",
       " 'DeeZe',\n",
       " 'MrsDeeze',\n",
       " 'zhusu',\n",
       " 'Tetranode',\n",
       " 'ThisIsNuse',\n",
       " 'IamNomad',\n",
       " 'scottmelker',\n",
       " 'lawmaster',\n",
       " 'udiWertheimer',\n",
       " 'AWice',\n",
       " 'mattysino',\n",
       " 'gainzy222',\n",
       " '219_eth',\n",
       " 'McDonaldsXBT',\n",
       " 'GCRClassic',\n",
       " 'DaRealMilkBagz',\n",
       " 'GCRIntern',\n",
       " 'Vince_Van_Dough',\n",
       " 'Cheguevoblin',\n",
       " '0xSisyphus',\n",
       " 'cmsintern',\n",
       " 'KeyboardMonkey3',\n",
       " 'crypto_bitlord7',\n",
       " 'GiganticRebirth',\n",
       " 'conzimp',\n",
       " 'Awawat_Trades',\n",
       " 'stockmart_',\n",
       " 'scooterxbt',\n",
       " 'AlamedaTrabucco',\n",
       " 'satsdart',\n",
       " 'SizeChad',\n",
       " 'fishxbt',\n",
       " 'basedkarbon',\n",
       " 'AlgodTrading',\n",
       " 'bigdsenpai',\n",
       " 'Pentosh1',\n",
       " 'crypto_iso',\n",
       " 'SBF_FTX',\n",
       " 'ByzGeneral',\n",
       " 'screentimes',\n",
       " 'ShardiB2',\n",
       " 'devchart',\n",
       " 'CL207',\n",
       " 'inversebrah',\n",
       " 'bitcoinpanda69',\n",
       " 'CryptoFinally',\n",
       " 'hentaiavenger66',\n",
       " 'Bagsy',\n",
       " 'LomahCrypto',\n",
       " 'ColeThereum',\n",
       " 'CryptoCapo_',\n",
       " 'ColdBloodShill',\n",
       " 'CryptoHayes',\n",
       " 'naniXBT',\n",
       " 'pwnlord69',\n",
       " 'HsakaTrades',\n",
       " 'AltcoinPsycho',\n",
       " 'CanteringClark',\n",
       " 'CryptoWendyO',\n",
       " '100trillionUSD',\n",
       " 'CryptoKaleo',\n",
       " 'CryptoCred',\n",
       " 'IamCryptoWolf',\n",
       " 'ledgerstatus',\n",
       " 'PeterMcCormack',\n",
       " 'lightcrypto',\n",
       " 'TheCryptoDog',\n",
       " 'CryptoDonAlt',\n",
       " 'tradinglord',\n",
       " 'cryptunez',\n",
       " 'heartereum',\n",
       " 'AviFelman',\n",
       " 'zachxbt',\n",
       " 'trader1sz',\n",
       " '0x_Messi',\n",
       " 'notsofast',\n",
       " 'loomdart',\n",
       " 'RookieXBT',\n",
       " 'CryptoBull',\n",
       " 'Tradermayne',\n",
       " 'Cryptopathic',\n",
       " 'Sicarious_',\n",
       " 'cobie',\n",
       " 'cryptostardust',\n",
       " 'DegenSpartan',\n",
       " 'SalsaTekila',\n",
       " 'Trader_XO',\n",
       " 'AngeloBTC',\n",
       " 'AndreCronjeTech',\n",
       " 'mattomattik',\n",
       " 'pierre_crypt0',\n",
       " 'hasufl',\n",
       " 'cubantobacco',\n",
       " 'kerneltrader',\n",
       " 'jimtalbot',\n",
       " 'PeterLBrandt',\n",
       " 'TraderKoz',\n",
       " 'RektProof']"
      ]
     },
     "execution_count": 59,
     "metadata": {},
     "output_type": "execute_result"
    }
   ],
   "source": [
    "experts"
   ]
  },
  {
   "cell_type": "code",
   "execution_count": 30,
   "id": "d7c03f2b",
   "metadata": {},
   "outputs": [],
   "source": [
    "def append_to_csv(tweet, fileName):\n",
    "\n",
    "    #A counter variable\n",
    "    counter = 0\n",
    "\n",
    "    #Open OR create the target CSV file\n",
    "    csvFile = open(fileName, \"a\", newline=\"\", encoding='utf-8')\n",
    "    csvWriter = csv.writer(csvFile)\n",
    "\n",
    "    #Loop through each tweet\n",
    "\n",
    "\n",
    "    # We will create a variable for each since some of the keys might not exist for some tweets\n",
    "    # So we will account for that\n",
    "#         tweet.date, tweet.id, tweet.content, tweet.user.username\n",
    "\n",
    "    # 1. Tweet Date\n",
    "    datetime = tweet.date\n",
    "\n",
    "    # 2. username\n",
    "    username = tweet.user.username\n",
    "\n",
    "    # 8. Tweet text\n",
    "    text = tweet.content\n",
    "\n",
    "    # Assemble all data in a list\n",
    "    res = [datetime, username, text]\n",
    "\n",
    "    # Append the result to the CSV file\n",
    "    csvWriter.writerow(res)\n",
    "    counter += 1\n",
    "\n",
    "    # When done, close the CSV file\n",
    "    csvFile.close()\n",
    "\n",
    "\n",
    "    return"
   ]
  },
  {
   "cell_type": "code",
   "execution_count": 54,
   "id": "0b758c8d",
   "metadata": {},
   "outputs": [],
   "source": [
    "def snscrape_expert(start_date='2023-03-05T06:00:00.000Z',end_date='2023-03-06T06:00:00.000Z',filename='raw_data/experts.csv',users_name=['ElonMusk'],make_csv=True):\n",
    "    \n",
    "    \n",
    "\n",
    "    # Create file\n",
    "    csvFile = open(filename, \"a\", newline=\"\", encoding='utf-8')\n",
    "    csvWriter = csv.writer(csvFile)\n",
    "\n",
    "    #Create headers for the data you want to save, in this example, we only want save these columns in our dataset\n",
    "    csvWriter.writerow(['datetime', 'username', 'text'])\n",
    "    csvFile.close()\n",
    "    \n",
    "    \n",
    "    for n, k in enumerate(users_name):\n",
    "#         print(k)\n",
    "        # for i,tweet in enumerate(sntwitter.TwitterSearchScraper(f'#bitcoin from:{k} since:{start_list[i]} until:{end_list[i]} lang:en').get_items()):\n",
    "        for i,tweet in enumerate(sntwitter.TwitterSearchScraper(f\"user:{users_name[n]} since:{st}\").get_items()):\n",
    "            append_to_csv(tweet, filename)\n",
    "\n",
    "\n",
    "    if make_csv:\n",
    "        return pd.read_csv(filename)\n",
    "    else:\n",
    "        return\n"
   ]
  },
  {
   "cell_type": "code",
   "execution_count": 55,
   "id": "3c7cdea7",
   "metadata": {},
   "outputs": [],
   "source": [
    "def get_usernames(file_csv='raw_data/Usernames - Sheet1.csv'):\n",
    "    with open(file_csv, newline='') as f:\n",
    "        reader = csv.reader(f)\n",
    "        data = list(reader)\n",
    "        experts = []\n",
    "        for i in range(len(data)):\n",
    "            experts.append(data[i][0][1:])\n",
    "        return experts"
   ]
  },
  {
   "cell_type": "code",
   "execution_count": 56,
   "id": "38292c9f",
   "metadata": {},
   "outputs": [],
   "source": [
    "experts = get_usernames(file_csv='raw_data/Usernames - Sheet1.csv')"
   ]
  },
  {
   "cell_type": "code",
   "execution_count": 58,
   "id": "4661e8ac",
   "metadata": {},
   "outputs": [
    {
     "data": {
      "text/html": [
       "<div>\n",
       "<style scoped>\n",
       "    .dataframe tbody tr th:only-of-type {\n",
       "        vertical-align: middle;\n",
       "    }\n",
       "\n",
       "    .dataframe tbody tr th {\n",
       "        vertical-align: top;\n",
       "    }\n",
       "\n",
       "    .dataframe thead th {\n",
       "        text-align: right;\n",
       "    }\n",
       "</style>\n",
       "<table border=\"1\" class=\"dataframe\">\n",
       "  <thead>\n",
       "    <tr style=\"text-align: right;\">\n",
       "      <th></th>\n",
       "      <th>datetime</th>\n",
       "      <th>username</th>\n",
       "      <th>text</th>\n",
       "    </tr>\n",
       "  </thead>\n",
       "  <tbody>\n",
       "    <tr>\n",
       "      <th>0</th>\n",
       "      <td>datetime</td>\n",
       "      <td>username</td>\n",
       "      <td>text</td>\n",
       "    </tr>\n",
       "  </tbody>\n",
       "</table>\n",
       "</div>"
      ],
      "text/plain": [
       "   datetime  username  text\n",
       "0  datetime  username  text"
      ]
     },
     "execution_count": 58,
     "metadata": {},
     "output_type": "execute_result"
    }
   ],
   "source": [
    "snscrape_expert(start_date='2023-03-05T06:00:00.000Z',end_date='2023-03-06_06:00:00_UTC',filename='raw_data/experts_test8.csv',users_name=experts,make_csv=True)    \n",
    "    \n",
    "    "
   ]
  },
  {
   "cell_type": "code",
   "execution_count": 67,
   "id": "e9c4d882",
   "metadata": {},
   "outputs": [],
   "source": [
    "tts = sntwitter.TwitterSearchScraper(f\"user:'saylor' since:'2023-03-011_06:00:00_UTC'\").get_items()"
   ]
  },
  {
   "cell_type": "code",
   "execution_count": 68,
   "id": "14db69fe",
   "metadata": {},
   "outputs": [
    {
     "ename": "AttributeError",
     "evalue": "'generator' object has no attribute 'date'",
     "output_type": "error",
     "traceback": [
      "\u001b[0;31m---------------------------------------------------------------------------\u001b[0m",
      "\u001b[0;31mAttributeError\u001b[0m                            Traceback (most recent call last)",
      "Cell \u001b[0;32mIn[68], line 1\u001b[0m\n\u001b[0;32m----> 1\u001b[0m \u001b[43mtts\u001b[49m\u001b[38;5;241;43m.\u001b[39;49m\u001b[43mdate\u001b[49m\n",
      "\u001b[0;31mAttributeError\u001b[0m: 'generator' object has no attribute 'date'"
     ]
    }
   ],
   "source": [
    "tts.date"
   ]
  },
  {
   "cell_type": "code",
   "execution_count": null,
   "id": "83b8f710",
   "metadata": {},
   "outputs": [],
   "source": []
  }
 ],
 "metadata": {
  "kernelspec": {
   "display_name": "Python 3 (ipykernel)",
   "language": "python",
   "name": "python3"
  },
  "language_info": {
   "codemirror_mode": {
    "name": "ipython",
    "version": 3
   },
   "file_extension": ".py",
   "mimetype": "text/x-python",
   "name": "python",
   "nbconvert_exporter": "python",
   "pygments_lexer": "ipython3",
   "version": "3.10.6"
  },
  "toc": {
   "base_numbering": 1,
   "nav_menu": {},
   "number_sections": true,
   "sideBar": true,
   "skip_h1_title": false,
   "title_cell": "Table of Contents",
   "title_sidebar": "Contents",
   "toc_cell": false,
   "toc_position": {},
   "toc_section_display": true,
   "toc_window_display": false
  }
 },
 "nbformat": 4,
 "nbformat_minor": 5
}
