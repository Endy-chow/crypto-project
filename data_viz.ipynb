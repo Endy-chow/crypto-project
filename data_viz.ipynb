{
 "cells": [
  {
   "cell_type": "code",
   "execution_count": 36,
   "id": "5ec98448",
   "metadata": {},
   "outputs": [],
   "source": [
    "import pandas as pd\n",
    "import matplotlib.pyplot as plt"
   ]
  },
  {
   "cell_type": "code",
   "execution_count": 2,
   "id": "46d59cb7",
   "metadata": {},
   "outputs": [
    {
     "data": {
      "text/html": [
       "<div>\n",
       "<style scoped>\n",
       "    .dataframe tbody tr th:only-of-type {\n",
       "        vertical-align: middle;\n",
       "    }\n",
       "\n",
       "    .dataframe tbody tr th {\n",
       "        vertical-align: top;\n",
       "    }\n",
       "\n",
       "    .dataframe thead th {\n",
       "        text-align: right;\n",
       "    }\n",
       "</style>\n",
       "<table border=\"1\" class=\"dataframe\">\n",
       "  <thead>\n",
       "    <tr style=\"text-align: right;\">\n",
       "      <th></th>\n",
       "      <th>Unnamed: 0</th>\n",
       "      <th>date</th>\n",
       "      <th>negative_bert</th>\n",
       "      <th>neutral_bert</th>\n",
       "      <th>positive_bert</th>\n",
       "    </tr>\n",
       "  </thead>\n",
       "  <tbody>\n",
       "    <tr>\n",
       "      <th>0</th>\n",
       "      <td>0</td>\n",
       "      <td>2022-01-01</td>\n",
       "      <td>32.794384</td>\n",
       "      <td>162.44478</td>\n",
       "      <td>128.76099</td>\n",
       "    </tr>\n",
       "    <tr>\n",
       "      <th>1</th>\n",
       "      <td>1</td>\n",
       "      <td>2022-01-02</td>\n",
       "      <td>30.321379</td>\n",
       "      <td>162.43115</td>\n",
       "      <td>123.24740</td>\n",
       "    </tr>\n",
       "    <tr>\n",
       "      <th>2</th>\n",
       "      <td>2</td>\n",
       "      <td>2022-01-03</td>\n",
       "      <td>51.884796</td>\n",
       "      <td>251.08696</td>\n",
       "      <td>219.02808</td>\n",
       "    </tr>\n",
       "    <tr>\n",
       "      <th>3</th>\n",
       "      <td>3</td>\n",
       "      <td>2022-01-04</td>\n",
       "      <td>39.254400</td>\n",
       "      <td>226.56316</td>\n",
       "      <td>176.18260</td>\n",
       "    </tr>\n",
       "    <tr>\n",
       "      <th>4</th>\n",
       "      <td>4</td>\n",
       "      <td>2022-01-05</td>\n",
       "      <td>74.387710</td>\n",
       "      <td>288.17532</td>\n",
       "      <td>211.43690</td>\n",
       "    </tr>\n",
       "    <tr>\n",
       "      <th>...</th>\n",
       "      <td>...</td>\n",
       "      <td>...</td>\n",
       "      <td>...</td>\n",
       "      <td>...</td>\n",
       "      <td>...</td>\n",
       "    </tr>\n",
       "    <tr>\n",
       "      <th>176</th>\n",
       "      <td>176</td>\n",
       "      <td>2022-06-26</td>\n",
       "      <td>48.231260</td>\n",
       "      <td>264.08527</td>\n",
       "      <td>147.68365</td>\n",
       "    </tr>\n",
       "    <tr>\n",
       "      <th>177</th>\n",
       "      <td>177</td>\n",
       "      <td>2022-06-27</td>\n",
       "      <td>69.526820</td>\n",
       "      <td>326.43304</td>\n",
       "      <td>188.04004</td>\n",
       "    </tr>\n",
       "    <tr>\n",
       "      <th>178</th>\n",
       "      <td>178</td>\n",
       "      <td>2022-06-28</td>\n",
       "      <td>47.574753</td>\n",
       "      <td>322.94010</td>\n",
       "      <td>181.48535</td>\n",
       "    </tr>\n",
       "    <tr>\n",
       "      <th>179</th>\n",
       "      <td>179</td>\n",
       "      <td>2022-06-29</td>\n",
       "      <td>69.620320</td>\n",
       "      <td>310.96848</td>\n",
       "      <td>196.41122</td>\n",
       "    </tr>\n",
       "    <tr>\n",
       "      <th>180</th>\n",
       "      <td>180</td>\n",
       "      <td>2022-06-30</td>\n",
       "      <td>87.227660</td>\n",
       "      <td>336.76544</td>\n",
       "      <td>214.00702</td>\n",
       "    </tr>\n",
       "  </tbody>\n",
       "</table>\n",
       "<p>181 rows × 5 columns</p>\n",
       "</div>"
      ],
      "text/plain": [
       "     Unnamed: 0        date  negative_bert  neutral_bert  positive_bert\n",
       "0             0  2022-01-01      32.794384     162.44478      128.76099\n",
       "1             1  2022-01-02      30.321379     162.43115      123.24740\n",
       "2             2  2022-01-03      51.884796     251.08696      219.02808\n",
       "3             3  2022-01-04      39.254400     226.56316      176.18260\n",
       "4             4  2022-01-05      74.387710     288.17532      211.43690\n",
       "..          ...         ...            ...           ...            ...\n",
       "176         176  2022-06-26      48.231260     264.08527      147.68365\n",
       "177         177  2022-06-27      69.526820     326.43304      188.04004\n",
       "178         178  2022-06-28      47.574753     322.94010      181.48535\n",
       "179         179  2022-06-29      69.620320     310.96848      196.41122\n",
       "180         180  2022-06-30      87.227660     336.76544      214.00702\n",
       "\n",
       "[181 rows x 5 columns]"
      ]
     },
     "execution_count": 2,
     "metadata": {},
     "output_type": "execute_result"
    }
   ],
   "source": [
    "raw_df = pd.read_csv('raw_data/2022-01-01_2022-06-30_twitter_transferlearning.csv')\n",
    "raw_df"
   ]
  },
  {
   "cell_type": "code",
   "execution_count": 4,
   "id": "27f412ca",
   "metadata": {},
   "outputs": [
    {
     "data": {
      "text/html": [
       "<div>\n",
       "<style scoped>\n",
       "    .dataframe tbody tr th:only-of-type {\n",
       "        vertical-align: middle;\n",
       "    }\n",
       "\n",
       "    .dataframe tbody tr th {\n",
       "        vertical-align: top;\n",
       "    }\n",
       "\n",
       "    .dataframe thead th {\n",
       "        text-align: right;\n",
       "    }\n",
       "</style>\n",
       "<table border=\"1\" class=\"dataframe\">\n",
       "  <thead>\n",
       "    <tr style=\"text-align: right;\">\n",
       "      <th></th>\n",
       "      <th>date</th>\n",
       "      <th>negative_bert</th>\n",
       "      <th>neutral_bert</th>\n",
       "      <th>positive_bert</th>\n",
       "    </tr>\n",
       "  </thead>\n",
       "  <tbody>\n",
       "    <tr>\n",
       "      <th>0</th>\n",
       "      <td>2022-01-01</td>\n",
       "      <td>32.794384</td>\n",
       "      <td>162.44478</td>\n",
       "      <td>128.76099</td>\n",
       "    </tr>\n",
       "    <tr>\n",
       "      <th>1</th>\n",
       "      <td>2022-01-02</td>\n",
       "      <td>30.321379</td>\n",
       "      <td>162.43115</td>\n",
       "      <td>123.24740</td>\n",
       "    </tr>\n",
       "    <tr>\n",
       "      <th>2</th>\n",
       "      <td>2022-01-03</td>\n",
       "      <td>51.884796</td>\n",
       "      <td>251.08696</td>\n",
       "      <td>219.02808</td>\n",
       "    </tr>\n",
       "    <tr>\n",
       "      <th>3</th>\n",
       "      <td>2022-01-04</td>\n",
       "      <td>39.254400</td>\n",
       "      <td>226.56316</td>\n",
       "      <td>176.18260</td>\n",
       "    </tr>\n",
       "    <tr>\n",
       "      <th>4</th>\n",
       "      <td>2022-01-05</td>\n",
       "      <td>74.387710</td>\n",
       "      <td>288.17532</td>\n",
       "      <td>211.43690</td>\n",
       "    </tr>\n",
       "    <tr>\n",
       "      <th>...</th>\n",
       "      <td>...</td>\n",
       "      <td>...</td>\n",
       "      <td>...</td>\n",
       "      <td>...</td>\n",
       "    </tr>\n",
       "    <tr>\n",
       "      <th>176</th>\n",
       "      <td>2022-06-26</td>\n",
       "      <td>48.231260</td>\n",
       "      <td>264.08527</td>\n",
       "      <td>147.68365</td>\n",
       "    </tr>\n",
       "    <tr>\n",
       "      <th>177</th>\n",
       "      <td>2022-06-27</td>\n",
       "      <td>69.526820</td>\n",
       "      <td>326.43304</td>\n",
       "      <td>188.04004</td>\n",
       "    </tr>\n",
       "    <tr>\n",
       "      <th>178</th>\n",
       "      <td>2022-06-28</td>\n",
       "      <td>47.574753</td>\n",
       "      <td>322.94010</td>\n",
       "      <td>181.48535</td>\n",
       "    </tr>\n",
       "    <tr>\n",
       "      <th>179</th>\n",
       "      <td>2022-06-29</td>\n",
       "      <td>69.620320</td>\n",
       "      <td>310.96848</td>\n",
       "      <td>196.41122</td>\n",
       "    </tr>\n",
       "    <tr>\n",
       "      <th>180</th>\n",
       "      <td>2022-06-30</td>\n",
       "      <td>87.227660</td>\n",
       "      <td>336.76544</td>\n",
       "      <td>214.00702</td>\n",
       "    </tr>\n",
       "  </tbody>\n",
       "</table>\n",
       "<p>181 rows × 4 columns</p>\n",
       "</div>"
      ],
      "text/plain": [
       "           date  negative_bert  neutral_bert  positive_bert\n",
       "0    2022-01-01      32.794384     162.44478      128.76099\n",
       "1    2022-01-02      30.321379     162.43115      123.24740\n",
       "2    2022-01-03      51.884796     251.08696      219.02808\n",
       "3    2022-01-04      39.254400     226.56316      176.18260\n",
       "4    2022-01-05      74.387710     288.17532      211.43690\n",
       "..          ...            ...           ...            ...\n",
       "176  2022-06-26      48.231260     264.08527      147.68365\n",
       "177  2022-06-27      69.526820     326.43304      188.04004\n",
       "178  2022-06-28      47.574753     322.94010      181.48535\n",
       "179  2022-06-29      69.620320     310.96848      196.41122\n",
       "180  2022-06-30      87.227660     336.76544      214.00702\n",
       "\n",
       "[181 rows x 4 columns]"
      ]
     },
     "execution_count": 4,
     "metadata": {},
     "output_type": "execute_result"
    }
   ],
   "source": [
    "df = raw_df.drop('Unnamed: 0',axis=1)\n",
    "df"
   ]
  },
  {
   "cell_type": "code",
   "execution_count": 10,
   "id": "fb855f96",
   "metadata": {},
   "outputs": [],
   "source": [
    "y = df['positive_bert']/df.iloc[:,1:].sum(axis=1)"
   ]
  },
  {
   "cell_type": "code",
   "execution_count": 12,
   "id": "152c1da1",
   "metadata": {},
   "outputs": [
    {
     "data": {
      "text/plain": [
       "0      0.397410\n",
       "1      0.390024\n",
       "2      0.419594\n",
       "3      0.398603\n",
       "4      0.368357\n",
       "         ...   \n",
       "176    0.321051\n",
       "177    0.321986\n",
       "178    0.328778\n",
       "179    0.340401\n",
       "180    0.335434\n",
       "Length: 181, dtype: float64"
      ]
     },
     "execution_count": 12,
     "metadata": {},
     "output_type": "execute_result"
    }
   ],
   "source": [
    "y"
   ]
  },
  {
   "cell_type": "code",
   "execution_count": 23,
   "id": "3d8f2b2e",
   "metadata": {},
   "outputs": [
    {
     "data": {
      "text/plain": [
       "0           NaN\n",
       "1      0.393717\n",
       "2      0.404809\n",
       "3      0.409099\n",
       "4      0.383480\n",
       "         ...   \n",
       "176    0.332954\n",
       "177    0.321519\n",
       "178    0.325382\n",
       "179    0.334589\n",
       "180    0.337917\n",
       "Length: 181, dtype: float64"
      ]
     },
     "execution_count": 23,
     "metadata": {},
     "output_type": "execute_result"
    }
   ],
   "source": [
    "y.rolling(window=2).mean()"
   ]
  },
  {
   "cell_type": "code",
   "execution_count": 9,
   "id": "bd7f9143",
   "metadata": {},
   "outputs": [
    {
     "data": {
      "text/plain": [
       "0.39741027407042523"
      ]
     },
     "execution_count": 9,
     "metadata": {},
     "output_type": "execute_result"
    }
   ],
   "source": [
    "128.76099/(32.794384+162.44478+128.76099)"
   ]
  },
  {
   "cell_type": "code",
   "execution_count": null,
   "id": "6fb4ba37",
   "metadata": {},
   "outputs": [],
   "source": []
  },
  {
   "cell_type": "code",
   "execution_count": 30,
   "id": "2b9b4700",
   "metadata": {},
   "outputs": [],
   "source": [
    "def trad_strat(df):\n",
    "    X = df[['date']]\n",
    "#     print(X)\n",
    "    X['Daily_Average_Sentiment']=df['positive_bert']/df.iloc[:,1:].sum(axis=1)\n",
    "#     print(X)\n",
    "    X['MA20_Sentiment'] = X['Daily_Average_Sentiment'].rolling(window=21).mean()\n",
    "    X['MA50_Sentiment'] = X['Daily_Average_Sentiment'].rolling(window=51).mean()\n",
    "    X['Threshold'] = X['Daily_Average_Sentiment']>X['MA50_Sentiment']\n",
    "    return X"
   ]
  },
  {
   "cell_type": "code",
   "execution_count": 32,
   "id": "a6bd789f",
   "metadata": {},
   "outputs": [
    {
     "name": "stderr",
     "output_type": "stream",
     "text": [
      "/var/folders/m3/wrwzlkcn30j_t2hg5r1616g80000gn/T/ipykernel_50424/2822860479.py:4: SettingWithCopyWarning: \n",
      "A value is trying to be set on a copy of a slice from a DataFrame.\n",
      "Try using .loc[row_indexer,col_indexer] = value instead\n",
      "\n",
      "See the caveats in the documentation: https://pandas.pydata.org/pandas-docs/stable/user_guide/indexing.html#returning-a-view-versus-a-copy\n",
      "  X['Daily_Average_Sentiment']=df['positive_bert']/df.iloc[:,1:].sum(axis=1)\n",
      "/var/folders/m3/wrwzlkcn30j_t2hg5r1616g80000gn/T/ipykernel_50424/2822860479.py:6: SettingWithCopyWarning: \n",
      "A value is trying to be set on a copy of a slice from a DataFrame.\n",
      "Try using .loc[row_indexer,col_indexer] = value instead\n",
      "\n",
      "See the caveats in the documentation: https://pandas.pydata.org/pandas-docs/stable/user_guide/indexing.html#returning-a-view-versus-a-copy\n",
      "  X['MA20_Sentiment'] = X['Daily_Average_Sentiment'].rolling(window=21).mean()\n"
     ]
    }
   ],
   "source": [
    "X = trad_strat(df)"
   ]
  },
  {
   "cell_type": "code",
   "execution_count": 39,
   "id": "9a4f8a80",
   "metadata": {},
   "outputs": [
    {
     "data": {
      "text/plain": [
       "[<matplotlib.lines.Line2D at 0x128643bb0>]"
      ]
     },
     "execution_count": 39,
     "metadata": {},
     "output_type": "execute_result"
    },
    {
     "data": {
      "image/png": "[encoded data removed]",
      "text/plain": [
       "<Figure size 640x480 with 1 Axes>"
      ]
     },
     "metadata": {},
     "output_type": "display_data"
    }
   ],
   "source": [
    "plt.plot(X['date'],X['Daily_Average_Sentiment'])\n",
    "plt.plot(X['date'],X['MA50_Sentiment'])"
   ]
  },
  {
   "cell_type": "code",
   "execution_count": null,
   "id": "60a6a2ca",
   "metadata": {},
   "outputs": [],
   "source": [
    "def plot_big(X):\n",
    "    "
   ]
  },
  {
   "cell_type": "code",
   "execution_count": 40,
   "id": "91314afb",
   "metadata": {},
   "outputs": [
    {
     "name": "stdout",
     "output_type": "stream",
     "text": [
      "/Users/suraj/code/giadapi/crypto\r\n"
     ]
    }
   ],
   "source": [
    "!pwd"
   ]
  }
 ],
 "metadata": {
  "kernelspec": {
   "display_name": "Python 3 (ipykernel)",
   "language": "python",
   "name": "python3"
  },
  "language_info": {
   "codemirror_mode": {
    "name": "ipython",
    "version": 3
   },
   "file_extension": ".py",
   "mimetype": "text/x-python",
   "name": "python",
   "nbconvert_exporter": "python",
   "pygments_lexer": "ipython3",
   "version": "3.10.6"
  },
  "toc": {
   "base_numbering": 1,
   "nav_menu": {},
   "number_sections": true,
   "sideBar": true,
   "skip_h1_title": false,
   "title_cell": "Table of Contents",
   "title_sidebar": "Contents",
   "toc_cell": false,
   "toc_position": {},
   "toc_section_display": true,
   "toc_window_display": false
  }
 },
 "nbformat": 4,
 "nbformat_minor": 5
}
