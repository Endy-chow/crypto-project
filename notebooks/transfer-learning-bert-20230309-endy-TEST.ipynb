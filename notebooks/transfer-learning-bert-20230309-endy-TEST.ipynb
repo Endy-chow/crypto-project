{
 "cells": [
  {
   "cell_type": "markdown",
   "id": "8e7441a2",
   "metadata": {},
   "source": [
    "Transfer learning using cryptobert and roberta"
   ]
  },
  {
   "cell_type": "code",
   "execution_count": 1,
   "id": "28f08c21",
   "metadata": {},
   "outputs": [
    {
     "name": "stderr",
     "output_type": "stream",
     "text": [
      "/Users/endy/.pyenv/versions/3.10.6/envs/crypto/lib/python3.10/site-packages/tqdm/auto.py:21: TqdmWarning: IProgress not found. Please update jupyter and ipywidgets. See https://ipywidgets.readthedocs.io/en/stable/user_install.html\n",
      "  from .autonotebook import tqdm as notebook_tqdm\n"
     ]
    }
   ],
   "source": [
    "from transformers import AutoModelForSequenceClassification\n",
    "from transformers import TFAutoModelForSequenceClassification\n",
    "from transformers import AutoTokenizer, AutoConfig, TextClassificationPipeline\n",
    "from transformers import pipeline\n",
    "import numpy as np\n",
    "import pandas as pd\n",
    "from scipy.special import softmax\n",
    "import datetime"
   ]
  },
  {
   "cell_type": "code",
   "execution_count": 2,
   "id": "fe56af4b",
   "metadata": {},
   "outputs": [
    {
     "name": "stdout",
     "output_type": "stream",
     "text": [
      "Requirement already satisfied: torch in /Users/endy/.pyenv/versions/3.10.6/envs/crypto/lib/python3.10/site-packages (1.13.1)\r\n",
      "Requirement already satisfied: typing-extensions in /Users/endy/.pyenv/versions/3.10.6/envs/crypto/lib/python3.10/site-packages (from torch) (4.5.0)\r\n"
     ]
    }
   ],
   "source": [
    "!pip install torch"
   ]
  },
  {
   "cell_type": "code",
   "execution_count": 3,
   "id": "d4e60cb9",
   "metadata": {},
   "outputs": [
    {
     "name": "stdout",
     "output_type": "stream",
     "text": [
      "Requirement already satisfied: protobuf==3.20.0 in /Users/endy/.pyenv/versions/3.10.6/envs/crypto/lib/python3.10/site-packages (3.20.0)\r\n"
     ]
    }
   ],
   "source": [
    "!pip install protobuf==3.20.0"
   ]
  },
  {
   "cell_type": "markdown",
   "id": "20081cbe",
   "metadata": {},
   "source": [
    "## Step 1 - Importing a sample of some Bitcoin Tweet Data to begin analysing the model"
   ]
  },
  {
   "cell_type": "code",
   "execution_count": 4,
   "id": "42f73c91",
   "metadata": {},
   "outputs": [],
   "source": [
    "# 20230308 - test data from twitter api, from 20220624 to 20220812 \n",
    "data = pd.read_csv('~/Code/giadapi/crypto/data/raw/tweets_2022_reduced.csv')\n",
    "\n",
    "# 20230307 - test data from kaggle\n",
    "# data = pd.read_csv('~/code/giadapi/crypto/data/raw/bitcoin_tweets1000000.csv', nrows = 1000)\n",
    "# \"\\\\wsl.localhost\\Ubuntu\\home\\peter\\code\\giadapi\\crypto\\kaggle-tweets.zip\""
   ]
  },
  {
   "cell_type": "code",
   "execution_count": 5,
   "id": "aec789df",
   "metadata": {},
   "outputs": [
    {
     "data": {
      "text/html": [
       "<div>\n",
       "<style scoped>\n",
       "    .dataframe tbody tr th:only-of-type {\n",
       "        vertical-align: middle;\n",
       "    }\n",
       "\n",
       "    .dataframe tbody tr th {\n",
       "        vertical-align: top;\n",
       "    }\n",
       "\n",
       "    .dataframe thead th {\n",
       "        text-align: right;\n",
       "    }\n",
       "</style>\n",
       "<table border=\"1\" class=\"dataframe\">\n",
       "  <thead>\n",
       "    <tr style=\"text-align: right;\">\n",
       "      <th></th>\n",
       "      <th>datetime</th>\n",
       "      <th>date</th>\n",
       "      <th>username</th>\n",
       "      <th>text</th>\n",
       "      <th>has_#bitcoin</th>\n",
       "    </tr>\n",
       "  </thead>\n",
       "  <tbody>\n",
       "    <tr>\n",
       "      <th>0</th>\n",
       "      <td>2022-01-01 22:09:49+00:00</td>\n",
       "      <td>2022-01-01</td>\n",
       "      <td>ahmad00816</td>\n",
       "      <td>Bitcoin 1-month social activity:\\n\\nGalaxy Sco...</td>\n",
       "      <td>True</td>\n",
       "    </tr>\n",
       "    <tr>\n",
       "      <th>1</th>\n",
       "      <td>2022-01-01 22:09:40+00:00</td>\n",
       "      <td>2022-01-01</td>\n",
       "      <td>davidgokhshtein</td>\n",
       "      <td>@PeterSchiff You accept #Bitcoin.</td>\n",
       "      <td>True</td>\n",
       "    </tr>\n",
       "    <tr>\n",
       "      <th>2</th>\n",
       "      <td>2022-01-01 22:09:34+00:00</td>\n",
       "      <td>2022-01-01</td>\n",
       "      <td>CircleCryptic</td>\n",
       "      <td>Someone gunna send #bitcoin then? $btc</td>\n",
       "      <td>True</td>\n",
       "    </tr>\n",
       "    <tr>\n",
       "      <th>3</th>\n",
       "      <td>2022-01-01 22:09:23+00:00</td>\n",
       "      <td>2022-01-01</td>\n",
       "      <td>fcwilson</td>\n",
       "      <td>\"Welcome,  I like to invest in companies, with...</td>\n",
       "      <td>True</td>\n",
       "    </tr>\n",
       "    <tr>\n",
       "      <th>4</th>\n",
       "      <td>2022-01-01 22:09:17+00:00</td>\n",
       "      <td>2022-01-01</td>\n",
       "      <td>beat_brunner</td>\n",
       "      <td>@LianLia71340337 @mikealfred @saylor I think 4...</td>\n",
       "      <td>True</td>\n",
       "    </tr>\n",
       "    <tr>\n",
       "      <th>...</th>\n",
       "      <td>...</td>\n",
       "      <td>...</td>\n",
       "      <td>...</td>\n",
       "      <td>...</td>\n",
       "      <td>...</td>\n",
       "    </tr>\n",
       "    <tr>\n",
       "      <th>93337</th>\n",
       "      <td>2022-06-30 06:00:01+00:00</td>\n",
       "      <td>2022-06-30</td>\n",
       "      <td>SocietySatoshi</td>\n",
       "      <td>Good morning #crypto Twitter🌤️\\n\\nHow are you ...</td>\n",
       "      <td>True</td>\n",
       "    </tr>\n",
       "    <tr>\n",
       "      <th>93338</th>\n",
       "      <td>2022-06-30 06:00:00+00:00</td>\n",
       "      <td>2022-06-30</td>\n",
       "      <td>AltalixLTD</td>\n",
       "      <td>Since its peak, Bitcoin’s entire market valuat...</td>\n",
       "      <td>True</td>\n",
       "    </tr>\n",
       "    <tr>\n",
       "      <th>93339</th>\n",
       "      <td>2022-06-30 06:00:00+00:00</td>\n",
       "      <td>2022-06-30</td>\n",
       "      <td>BasitCrypto98</td>\n",
       "      <td>People who purchased #Bitcoin at the ATH are n...</td>\n",
       "      <td>True</td>\n",
       "    </tr>\n",
       "    <tr>\n",
       "      <th>93340</th>\n",
       "      <td>2022-06-30 06:00:00+00:00</td>\n",
       "      <td>2022-06-30</td>\n",
       "      <td>CryptingUp</td>\n",
       "      <td>Bitcoin price $19,976.70 - Decreased by -1.03%...</td>\n",
       "      <td>True</td>\n",
       "    </tr>\n",
       "    <tr>\n",
       "      <th>93341</th>\n",
       "      <td>2022-06-30 06:00:00+00:00</td>\n",
       "      <td>2022-06-30</td>\n",
       "      <td>DeepR_BTC</td>\n",
       "      <td>AI trading session based on the DeepR BTC pred...</td>\n",
       "      <td>True</td>\n",
       "    </tr>\n",
       "  </tbody>\n",
       "</table>\n",
       "<p>93342 rows × 5 columns</p>\n",
       "</div>"
      ],
      "text/plain": [
       "                        datetime        date         username  \\\n",
       "0      2022-01-01 22:09:49+00:00  2022-01-01       ahmad00816   \n",
       "1      2022-01-01 22:09:40+00:00  2022-01-01  davidgokhshtein   \n",
       "2      2022-01-01 22:09:34+00:00  2022-01-01    CircleCryptic   \n",
       "3      2022-01-01 22:09:23+00:00  2022-01-01         fcwilson   \n",
       "4      2022-01-01 22:09:17+00:00  2022-01-01     beat_brunner   \n",
       "...                          ...         ...              ...   \n",
       "93337  2022-06-30 06:00:01+00:00  2022-06-30   SocietySatoshi   \n",
       "93338  2022-06-30 06:00:00+00:00  2022-06-30       AltalixLTD   \n",
       "93339  2022-06-30 06:00:00+00:00  2022-06-30    BasitCrypto98   \n",
       "93340  2022-06-30 06:00:00+00:00  2022-06-30       CryptingUp   \n",
       "93341  2022-06-30 06:00:00+00:00  2022-06-30        DeepR_BTC   \n",
       "\n",
       "                                                    text  has_#bitcoin  \n",
       "0      Bitcoin 1-month social activity:\\n\\nGalaxy Sco...          True  \n",
       "1                      @PeterSchiff You accept #Bitcoin.          True  \n",
       "2                 Someone gunna send #bitcoin then? $btc          True  \n",
       "3      \"Welcome,  I like to invest in companies, with...          True  \n",
       "4      @LianLia71340337 @mikealfred @saylor I think 4...          True  \n",
       "...                                                  ...           ...  \n",
       "93337  Good morning #crypto Twitter🌤️\\n\\nHow are you ...          True  \n",
       "93338  Since its peak, Bitcoin’s entire market valuat...          True  \n",
       "93339  People who purchased #Bitcoin at the ATH are n...          True  \n",
       "93340  Bitcoin price $19,976.70 - Decreased by -1.03%...          True  \n",
       "93341  AI trading session based on the DeepR BTC pred...          True  \n",
       "\n",
       "[93342 rows x 5 columns]"
      ]
     },
     "execution_count": 5,
     "metadata": {},
     "output_type": "execute_result"
    }
   ],
   "source": [
    "data"
   ]
  },
  {
   "cell_type": "code",
   "execution_count": 6,
   "id": "5e950bc0",
   "metadata": {},
   "outputs": [],
   "source": [
    "#only run it if the dataset is from Twitter API\n",
    "# data['text'] = data[['tweet']]\n",
    "# data['date'] = data[['created_at']]"
   ]
  },
  {
   "cell_type": "code",
   "execution_count": 7,
   "id": "841439f7",
   "metadata": {},
   "outputs": [],
   "source": [
    "data = data[['text', 'date']]"
   ]
  },
  {
   "cell_type": "code",
   "execution_count": 8,
   "id": "68f887c9",
   "metadata": {},
   "outputs": [
    {
     "data": {
      "text/html": [
       "<div>\n",
       "<style scoped>\n",
       "    .dataframe tbody tr th:only-of-type {\n",
       "        vertical-align: middle;\n",
       "    }\n",
       "\n",
       "    .dataframe tbody tr th {\n",
       "        vertical-align: top;\n",
       "    }\n",
       "\n",
       "    .dataframe thead th {\n",
       "        text-align: right;\n",
       "    }\n",
       "</style>\n",
       "<table border=\"1\" class=\"dataframe\">\n",
       "  <thead>\n",
       "    <tr style=\"text-align: right;\">\n",
       "      <th></th>\n",
       "      <th>text</th>\n",
       "      <th>date</th>\n",
       "    </tr>\n",
       "  </thead>\n",
       "  <tbody>\n",
       "    <tr>\n",
       "      <th>0</th>\n",
       "      <td>Bitcoin 1-month social activity:\\n\\nGalaxy Sco...</td>\n",
       "      <td>2022-01-01</td>\n",
       "    </tr>\n",
       "    <tr>\n",
       "      <th>1</th>\n",
       "      <td>@PeterSchiff You accept #Bitcoin.</td>\n",
       "      <td>2022-01-01</td>\n",
       "    </tr>\n",
       "    <tr>\n",
       "      <th>2</th>\n",
       "      <td>Someone gunna send #bitcoin then? $btc</td>\n",
       "      <td>2022-01-01</td>\n",
       "    </tr>\n",
       "    <tr>\n",
       "      <th>3</th>\n",
       "      <td>\"Welcome,  I like to invest in companies, with...</td>\n",
       "      <td>2022-01-01</td>\n",
       "    </tr>\n",
       "    <tr>\n",
       "      <th>4</th>\n",
       "      <td>@LianLia71340337 @mikealfred @saylor I think 4...</td>\n",
       "      <td>2022-01-01</td>\n",
       "    </tr>\n",
       "    <tr>\n",
       "      <th>...</th>\n",
       "      <td>...</td>\n",
       "      <td>...</td>\n",
       "    </tr>\n",
       "    <tr>\n",
       "      <th>93337</th>\n",
       "      <td>Good morning #crypto Twitter🌤️\\n\\nHow are you ...</td>\n",
       "      <td>2022-06-30</td>\n",
       "    </tr>\n",
       "    <tr>\n",
       "      <th>93338</th>\n",
       "      <td>Since its peak, Bitcoin’s entire market valuat...</td>\n",
       "      <td>2022-06-30</td>\n",
       "    </tr>\n",
       "    <tr>\n",
       "      <th>93339</th>\n",
       "      <td>People who purchased #Bitcoin at the ATH are n...</td>\n",
       "      <td>2022-06-30</td>\n",
       "    </tr>\n",
       "    <tr>\n",
       "      <th>93340</th>\n",
       "      <td>Bitcoin price $19,976.70 - Decreased by -1.03%...</td>\n",
       "      <td>2022-06-30</td>\n",
       "    </tr>\n",
       "    <tr>\n",
       "      <th>93341</th>\n",
       "      <td>AI trading session based on the DeepR BTC pred...</td>\n",
       "      <td>2022-06-30</td>\n",
       "    </tr>\n",
       "  </tbody>\n",
       "</table>\n",
       "<p>93342 rows × 2 columns</p>\n",
       "</div>"
      ],
      "text/plain": [
       "                                                    text        date\n",
       "0      Bitcoin 1-month social activity:\\n\\nGalaxy Sco...  2022-01-01\n",
       "1                      @PeterSchiff You accept #Bitcoin.  2022-01-01\n",
       "2                 Someone gunna send #bitcoin then? $btc  2022-01-01\n",
       "3      \"Welcome,  I like to invest in companies, with...  2022-01-01\n",
       "4      @LianLia71340337 @mikealfred @saylor I think 4...  2022-01-01\n",
       "...                                                  ...         ...\n",
       "93337  Good morning #crypto Twitter🌤️\\n\\nHow are you ...  2022-06-30\n",
       "93338  Since its peak, Bitcoin’s entire market valuat...  2022-06-30\n",
       "93339  People who purchased #Bitcoin at the ATH are n...  2022-06-30\n",
       "93340  Bitcoin price $19,976.70 - Decreased by -1.03%...  2022-06-30\n",
       "93341  AI trading session based on the DeepR BTC pred...  2022-06-30\n",
       "\n",
       "[93342 rows x 2 columns]"
      ]
     },
     "execution_count": 8,
     "metadata": {},
     "output_type": "execute_result"
    }
   ],
   "source": [
    "data"
   ]
  },
  {
   "cell_type": "markdown",
   "id": "2de89806",
   "metadata": {},
   "source": [
    "## Step 2 - Cleaning the data"
   ]
  },
  {
   "cell_type": "code",
   "execution_count": 9,
   "id": "3f64e58b",
   "metadata": {},
   "outputs": [],
   "source": [
    "# I have changed this to remove more information\n",
    "\n",
    "def preprocess_2(text):\n",
    "    new_text = []\n",
    "    text = str(text)\n",
    "    text = text.replace(\"\\n\", \" \")\n",
    "    for t in text.split(\" \"):\n",
    "        t = '' if t.startswith('@') and len(t) > 1 else t\n",
    "        t = '' if t.startswith('http') else t\n",
    "        new_text.append(t)\n",
    "    return \" \".join(new_text)"
   ]
  },
  {
   "cell_type": "code",
   "execution_count": 10,
   "id": "09e82154",
   "metadata": {},
   "outputs": [
    {
     "name": "stderr",
     "output_type": "stream",
     "text": [
      "/var/folders/d5/bxgljmg10q70y4xmy233dhfr0000gn/T/ipykernel_94430/3802788975.py:2: SettingWithCopyWarning: \n",
      "A value is trying to be set on a copy of a slice from a DataFrame.\n",
      "Try using .loc[row_indexer,col_indexer] = value instead\n",
      "\n",
      "See the caveats in the documentation: https://pandas.pydata.org/pandas-docs/stable/user_guide/indexing.html#returning-a-view-versus-a-copy\n",
      "  data['process_text'] = data.text\n",
      "/var/folders/d5/bxgljmg10q70y4xmy233dhfr0000gn/T/ipykernel_94430/3802788975.py:3: SettingWithCopyWarning: \n",
      "A value is trying to be set on a copy of a slice from a DataFrame.\n",
      "Try using .loc[row_indexer,col_indexer] = value instead\n",
      "\n",
      "See the caveats in the documentation: https://pandas.pydata.org/pandas-docs/stable/user_guide/indexing.html#returning-a-view-versus-a-copy\n",
      "  data['negative_bert'] = data.text\n"
     ]
    }
   ],
   "source": [
    "#Create a dummy data\n",
    "data['process_text'] = data.text\n",
    "data['negative_bert'] = data.text\n",
    "data['neutral_bert'] = data.text\n",
    "data['positive_bert'] = data.text\n",
    "\n",
    "#use the preprocess_2 to clean the data\n",
    "data['process_text'] = data['text'].apply(preprocess_2)"
   ]
  },
  {
   "cell_type": "code",
   "execution_count": 11,
   "id": "9b13fb15",
   "metadata": {},
   "outputs": [
    {
     "data": {
      "text/html": [
       "<div>\n",
       "<style scoped>\n",
       "    .dataframe tbody tr th:only-of-type {\n",
       "        vertical-align: middle;\n",
       "    }\n",
       "\n",
       "    .dataframe tbody tr th {\n",
       "        vertical-align: top;\n",
       "    }\n",
       "\n",
       "    .dataframe thead th {\n",
       "        text-align: right;\n",
       "    }\n",
       "</style>\n",
       "<table border=\"1\" class=\"dataframe\">\n",
       "  <thead>\n",
       "    <tr style=\"text-align: right;\">\n",
       "      <th></th>\n",
       "      <th>text</th>\n",
       "      <th>date</th>\n",
       "      <th>process_text</th>\n",
       "      <th>negative_bert</th>\n",
       "      <th>neutral_bert</th>\n",
       "      <th>positive_bert</th>\n",
       "    </tr>\n",
       "  </thead>\n",
       "  <tbody>\n",
       "    <tr>\n",
       "      <th>0</th>\n",
       "      <td>Bitcoin 1-month social activity:\\n\\nGalaxy Sco...</td>\n",
       "      <td>2022-01-01</td>\n",
       "      <td>Bitcoin 1-month social activity:  Galaxy Score...</td>\n",
       "      <td>Bitcoin 1-month social activity:\\n\\nGalaxy Sco...</td>\n",
       "      <td>Bitcoin 1-month social activity:\\n\\nGalaxy Sco...</td>\n",
       "      <td>Bitcoin 1-month social activity:\\n\\nGalaxy Sco...</td>\n",
       "    </tr>\n",
       "    <tr>\n",
       "      <th>1</th>\n",
       "      <td>@PeterSchiff You accept #Bitcoin.</td>\n",
       "      <td>2022-01-01</td>\n",
       "      <td>You accept #Bitcoin.</td>\n",
       "      <td>@PeterSchiff You accept #Bitcoin.</td>\n",
       "      <td>@PeterSchiff You accept #Bitcoin.</td>\n",
       "      <td>@PeterSchiff You accept #Bitcoin.</td>\n",
       "    </tr>\n",
       "    <tr>\n",
       "      <th>2</th>\n",
       "      <td>Someone gunna send #bitcoin then? $btc</td>\n",
       "      <td>2022-01-01</td>\n",
       "      <td>Someone gunna send #bitcoin then? $btc</td>\n",
       "      <td>Someone gunna send #bitcoin then? $btc</td>\n",
       "      <td>Someone gunna send #bitcoin then? $btc</td>\n",
       "      <td>Someone gunna send #bitcoin then? $btc</td>\n",
       "    </tr>\n",
       "    <tr>\n",
       "      <th>3</th>\n",
       "      <td>\"Welcome,  I like to invest in companies, with...</td>\n",
       "      <td>2022-01-01</td>\n",
       "      <td>\"Welcome,  I like to invest in companies, with...</td>\n",
       "      <td>\"Welcome,  I like to invest in companies, with...</td>\n",
       "      <td>\"Welcome,  I like to invest in companies, with...</td>\n",
       "      <td>\"Welcome,  I like to invest in companies, with...</td>\n",
       "    </tr>\n",
       "    <tr>\n",
       "      <th>4</th>\n",
       "      <td>@LianLia71340337 @mikealfred @saylor I think 4...</td>\n",
       "      <td>2022-01-01</td>\n",
       "      <td>I think 47-48k is bottom for #bitcoin in 20...</td>\n",
       "      <td>@LianLia71340337 @mikealfred @saylor I think 4...</td>\n",
       "      <td>@LianLia71340337 @mikealfred @saylor I think 4...</td>\n",
       "      <td>@LianLia71340337 @mikealfred @saylor I think 4...</td>\n",
       "    </tr>\n",
       "    <tr>\n",
       "      <th>...</th>\n",
       "      <td>...</td>\n",
       "      <td>...</td>\n",
       "      <td>...</td>\n",
       "      <td>...</td>\n",
       "      <td>...</td>\n",
       "      <td>...</td>\n",
       "    </tr>\n",
       "    <tr>\n",
       "      <th>93337</th>\n",
       "      <td>Good morning #crypto Twitter🌤️\\n\\nHow are you ...</td>\n",
       "      <td>2022-06-30</td>\n",
       "      <td>Good morning #crypto Twitter🌤️  How are you fe...</td>\n",
       "      <td>Good morning #crypto Twitter🌤️\\n\\nHow are you ...</td>\n",
       "      <td>Good morning #crypto Twitter🌤️\\n\\nHow are you ...</td>\n",
       "      <td>Good morning #crypto Twitter🌤️\\n\\nHow are you ...</td>\n",
       "    </tr>\n",
       "    <tr>\n",
       "      <th>93338</th>\n",
       "      <td>Since its peak, Bitcoin’s entire market valuat...</td>\n",
       "      <td>2022-06-30</td>\n",
       "      <td>Since its peak, Bitcoin’s entire market valuat...</td>\n",
       "      <td>Since its peak, Bitcoin’s entire market valuat...</td>\n",
       "      <td>Since its peak, Bitcoin’s entire market valuat...</td>\n",
       "      <td>Since its peak, Bitcoin’s entire market valuat...</td>\n",
       "    </tr>\n",
       "    <tr>\n",
       "      <th>93339</th>\n",
       "      <td>People who purchased #Bitcoin at the ATH are n...</td>\n",
       "      <td>2022-06-30</td>\n",
       "      <td>People who purchased #Bitcoin at the ATH are n...</td>\n",
       "      <td>People who purchased #Bitcoin at the ATH are n...</td>\n",
       "      <td>People who purchased #Bitcoin at the ATH are n...</td>\n",
       "      <td>People who purchased #Bitcoin at the ATH are n...</td>\n",
       "    </tr>\n",
       "    <tr>\n",
       "      <th>93340</th>\n",
       "      <td>Bitcoin price $19,976.70 - Decreased by -1.03%...</td>\n",
       "      <td>2022-06-30</td>\n",
       "      <td>Bitcoin price $19,976.70 - Decreased by -1.03%...</td>\n",
       "      <td>Bitcoin price $19,976.70 - Decreased by -1.03%...</td>\n",
       "      <td>Bitcoin price $19,976.70 - Decreased by -1.03%...</td>\n",
       "      <td>Bitcoin price $19,976.70 - Decreased by -1.03%...</td>\n",
       "    </tr>\n",
       "    <tr>\n",
       "      <th>93341</th>\n",
       "      <td>AI trading session based on the DeepR BTC pred...</td>\n",
       "      <td>2022-06-30</td>\n",
       "      <td>AI trading session based on the DeepR BTC pred...</td>\n",
       "      <td>AI trading session based on the DeepR BTC pred...</td>\n",
       "      <td>AI trading session based on the DeepR BTC pred...</td>\n",
       "      <td>AI trading session based on the DeepR BTC pred...</td>\n",
       "    </tr>\n",
       "  </tbody>\n",
       "</table>\n",
       "<p>93342 rows × 6 columns</p>\n",
       "</div>"
      ],
      "text/plain": [
       "                                                    text        date  \\\n",
       "0      Bitcoin 1-month social activity:\\n\\nGalaxy Sco...  2022-01-01   \n",
       "1                      @PeterSchiff You accept #Bitcoin.  2022-01-01   \n",
       "2                 Someone gunna send #bitcoin then? $btc  2022-01-01   \n",
       "3      \"Welcome,  I like to invest in companies, with...  2022-01-01   \n",
       "4      @LianLia71340337 @mikealfred @saylor I think 4...  2022-01-01   \n",
       "...                                                  ...         ...   \n",
       "93337  Good morning #crypto Twitter🌤️\\n\\nHow are you ...  2022-06-30   \n",
       "93338  Since its peak, Bitcoin’s entire market valuat...  2022-06-30   \n",
       "93339  People who purchased #Bitcoin at the ATH are n...  2022-06-30   \n",
       "93340  Bitcoin price $19,976.70 - Decreased by -1.03%...  2022-06-30   \n",
       "93341  AI trading session based on the DeepR BTC pred...  2022-06-30   \n",
       "\n",
       "                                            process_text  \\\n",
       "0      Bitcoin 1-month social activity:  Galaxy Score...   \n",
       "1                                   You accept #Bitcoin.   \n",
       "2                 Someone gunna send #bitcoin then? $btc   \n",
       "3      \"Welcome,  I like to invest in companies, with...   \n",
       "4         I think 47-48k is bottom for #bitcoin in 20...   \n",
       "...                                                  ...   \n",
       "93337  Good morning #crypto Twitter🌤️  How are you fe...   \n",
       "93338  Since its peak, Bitcoin’s entire market valuat...   \n",
       "93339  People who purchased #Bitcoin at the ATH are n...   \n",
       "93340  Bitcoin price $19,976.70 - Decreased by -1.03%...   \n",
       "93341  AI trading session based on the DeepR BTC pred...   \n",
       "\n",
       "                                           negative_bert  \\\n",
       "0      Bitcoin 1-month social activity:\\n\\nGalaxy Sco...   \n",
       "1                      @PeterSchiff You accept #Bitcoin.   \n",
       "2                 Someone gunna send #bitcoin then? $btc   \n",
       "3      \"Welcome,  I like to invest in companies, with...   \n",
       "4      @LianLia71340337 @mikealfred @saylor I think 4...   \n",
       "...                                                  ...   \n",
       "93337  Good morning #crypto Twitter🌤️\\n\\nHow are you ...   \n",
       "93338  Since its peak, Bitcoin’s entire market valuat...   \n",
       "93339  People who purchased #Bitcoin at the ATH are n...   \n",
       "93340  Bitcoin price $19,976.70 - Decreased by -1.03%...   \n",
       "93341  AI trading session based on the DeepR BTC pred...   \n",
       "\n",
       "                                            neutral_bert  \\\n",
       "0      Bitcoin 1-month social activity:\\n\\nGalaxy Sco...   \n",
       "1                      @PeterSchiff You accept #Bitcoin.   \n",
       "2                 Someone gunna send #bitcoin then? $btc   \n",
       "3      \"Welcome,  I like to invest in companies, with...   \n",
       "4      @LianLia71340337 @mikealfred @saylor I think 4...   \n",
       "...                                                  ...   \n",
       "93337  Good morning #crypto Twitter🌤️\\n\\nHow are you ...   \n",
       "93338  Since its peak, Bitcoin’s entire market valuat...   \n",
       "93339  People who purchased #Bitcoin at the ATH are n...   \n",
       "93340  Bitcoin price $19,976.70 - Decreased by -1.03%...   \n",
       "93341  AI trading session based on the DeepR BTC pred...   \n",
       "\n",
       "                                           positive_bert  \n",
       "0      Bitcoin 1-month social activity:\\n\\nGalaxy Sco...  \n",
       "1                      @PeterSchiff You accept #Bitcoin.  \n",
       "2                 Someone gunna send #bitcoin then? $btc  \n",
       "3      \"Welcome,  I like to invest in companies, with...  \n",
       "4      @LianLia71340337 @mikealfred @saylor I think 4...  \n",
       "...                                                  ...  \n",
       "93337  Good morning #crypto Twitter🌤️\\n\\nHow are you ...  \n",
       "93338  Since its peak, Bitcoin’s entire market valuat...  \n",
       "93339  People who purchased #Bitcoin at the ATH are n...  \n",
       "93340  Bitcoin price $19,976.70 - Decreased by -1.03%...  \n",
       "93341  AI trading session based on the DeepR BTC pred...  \n",
       "\n",
       "[93342 rows x 6 columns]"
      ]
     },
     "execution_count": 11,
     "metadata": {},
     "output_type": "execute_result"
    }
   ],
   "source": [
    "data"
   ]
  },
  {
   "cell_type": "markdown",
   "id": "c95de5a6",
   "metadata": {},
   "source": [
    "## Step 3 - analyse the language and sentiments by pretrained model"
   ]
  },
  {
   "cell_type": "code",
   "execution_count": 12,
   "id": "9dfe8563",
   "metadata": {},
   "outputs": [],
   "source": [
    "!pyenv local crypto"
   ]
  },
  {
   "cell_type": "code",
   "execution_count": 13,
   "id": "b5d07bd8",
   "metadata": {},
   "outputs": [],
   "source": [
    "#Model 2b - Use the bert model, with full scores\n",
    "MODEL_bert = f\"ElKulako/cryptobert\"\n",
    "tokenizer_bert = AutoTokenizer.from_pretrained(MODEL_bert)\n",
    "config_bert = AutoConfig.from_pretrained(MODEL_bert)\n",
    "\n",
    "# PT\n",
    "model_bert = AutoModelForSequenceClassification.from_pretrained(MODEL_bert)"
   ]
  },
  {
   "cell_type": "code",
   "execution_count": 14,
   "id": "63456b7a",
   "metadata": {},
   "outputs": [],
   "source": [
    "def scores_bert(sample_text):\n",
    "    encoded_input_bert = tokenizer_bert(sample_text, return_tensors='pt')\n",
    "    output_bert = model_bert(**encoded_input_bert)\n",
    "    scores_bert = output_bert[0][0].detach().numpy()\n",
    "    scores_bert = softmax(scores_bert) #1st score is negative, 2nd score is netural, 3rd score is positive\n",
    "    return scores_bert"
   ]
  },
  {
   "cell_type": "code",
   "execution_count": null,
   "id": "781feb44",
   "metadata": {},
   "outputs": [],
   "source": [
    "data['text'] = data['process_text'].apply(scores_bert)"
   ]
  },
  {
   "cell_type": "code",
   "execution_count": null,
   "id": "d1c6545c",
   "metadata": {},
   "outputs": [],
   "source": [
    "for i in range(len(data)):    \n",
    "    data['negative_bert'][i] = data['text'][i][0]\n",
    "    data['neutral_bert'][i] = data['text'][i][1]\n",
    "    data['positive_bert'][i] = data['text'][i][2]"
   ]
  },
  {
   "cell_type": "code",
   "execution_count": null,
   "id": "260aa351",
   "metadata": {},
   "outputs": [],
   "source": [
    "data = data[['date', 'process_text', 'negative_bert', 'neutral_bert','positive_bert']]"
   ]
  },
  {
   "cell_type": "code",
   "execution_count": null,
   "id": "771f1211",
   "metadata": {},
   "outputs": [],
   "source": [
    "data"
   ]
  },
  {
   "cell_type": "markdown",
   "id": "a164c5fd",
   "metadata": {},
   "source": [
    "## Step 5: Count the total number of labels/scores (positive, negative vs neutral) by date"
   ]
  },
  {
   "cell_type": "code",
   "execution_count": null,
   "id": "04d67cba",
   "metadata": {},
   "outputs": [],
   "source": [
    "grouped_data = pd.DataFrame(data.groupby(['date'])[['negative_bert', 'neutral_bert', 'positive_bert']].sum().fillna(0).reset_index())\n",
    "grouped_data = grouped_data.rename_axis(\"\", axis=\"columns\")"
   ]
  },
  {
   "cell_type": "code",
   "execution_count": null,
   "id": "b2c4ddab",
   "metadata": {},
   "outputs": [],
   "source": [
    "grouped_data"
   ]
  },
  {
   "cell_type": "markdown",
   "id": "41232498",
   "metadata": {},
   "source": [
    "## Step 6 - Download the data"
   ]
  },
  {
   "cell_type": "code",
   "execution_count": null,
   "id": "43f8d86a",
   "metadata": {},
   "outputs": [],
   "source": [
    "start_date = grouped_data['date'][0]\n",
    "start_date_str = datetime.datetime.strftime(start_date, \"%Y-%m-%d\")\n",
    "start_date_str"
   ]
  },
  {
   "cell_type": "code",
   "execution_count": null,
   "id": "a2154ff9",
   "metadata": {},
   "outputs": [],
   "source": [
    "end_date = grouped_data['date'][len(grouped_data)-1]\n",
    "end_date_str = datetime.datetime.strftime(end_date, \"%Y-%m-%d\")\n",
    "end_date_str"
   ]
  },
  {
   "cell_type": "code",
   "execution_count": null,
   "id": "df93ef88",
   "metadata": {},
   "outputs": [],
   "source": [
    "file_name = f\"{start_date_str}_{end_date_str}_twitter_comments.csv\"\n",
    "data.to_csv(f\"~/code/giadapi/crypto/data/processed/{file_name}\")"
   ]
  },
  {
   "cell_type": "code",
   "execution_count": null,
   "id": "26fe0d78",
   "metadata": {},
   "outputs": [],
   "source": [
    "file_name = f\"{start_date_str}_{end_date_str}_twitter_transferlearning.csv\"\n",
    "grouped_data.to_csv(f\"~/code/giadapi/crypto/data/processed/{file_name}\")"
   ]
  },
  {
   "cell_type": "code",
   "execution_count": null,
   "id": "b546cb12",
   "metadata": {},
   "outputs": [],
   "source": []
  }
 ],
 "metadata": {
  "kernelspec": {
   "display_name": "Python 3 (ipykernel)",
   "language": "python",
   "name": "python3"
  },
  "language_info": {
   "codemirror_mode": {
    "name": "ipython",
    "version": 3
   },
   "file_extension": ".py",
   "mimetype": "text/x-python",
   "name": "python",
   "nbconvert_exporter": "python",
   "pygments_lexer": "ipython3",
   "version": "3.10.6"
  },
  "toc": {
   "base_numbering": 1,
   "nav_menu": {},
   "number_sections": true,
   "sideBar": true,
   "skip_h1_title": false,
   "title_cell": "Table of Contents",
   "title_sidebar": "Contents",
   "toc_cell": false,
   "toc_position": {},
   "toc_section_display": true,
   "toc_window_display": false
  }
 },
 "nbformat": 4,
 "nbformat_minor": 5
}
