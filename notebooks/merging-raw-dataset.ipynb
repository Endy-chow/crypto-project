{
 "cells": [
  {
   "cell_type": "code",
   "execution_count": 2,
   "id": "674d190a",
   "metadata": {},
   "outputs": [],
   "source": [
    "import pandas as pd \n",
    "import seaborn as sns\n",
    "import numpy as np\n",
    "import matplotlib.pyplot as plt\n",
    "import matplotlib\n",
    "import datetime as dt\n",
    "import time\n",
    "import statistics\n"
   ]
  },
  {
   "cell_type": "code",
   "execution_count": null,
   "id": "cbf4eace",
   "metadata": {},
   "outputs": [],
   "source": [
    "datasets = [\n",
    "'24-12-22_to_08-03-23.csv',\n",
    "'24-09-22_to_24-12-23.csv',\n",
    "'24-6-22_to_24-9-23.csv',\n",
    "'tweets_2022_reduced.csv',\n",
    "'tweets_2021_reduced.csv'\n",
    "]"
   ]
  },
  {
   "cell_type": "code",
   "execution_count": null,
   "id": "8a7198b8",
   "metadata": {},
   "outputs": [],
   "source": [
    "data = {}\n",
    "for index, file in enumerate(datasets):\n",
    "    data[index] = pd.read_csv(f'../raw_data/data-to-process/{file}', lineterminator='\\n')"
   ]
  },
  {
   "cell_type": "code",
   "execution_count": null,
   "id": "12578c96",
   "metadata": {},
   "outputs": [],
   "source": [
    "data4 = data[4]\n",
    "# data4[14003] = Feb"
   ]
  },
  {
   "cell_type": "code",
   "execution_count": null,
   "id": "9267ed6d",
   "metadata": {},
   "outputs": [],
   "source": [
    "error =14003+8120\n",
    "data4['text'][error]"
   ]
  },
  {
   "cell_type": "code",
   "execution_count": null,
   "id": "41cc6b11",
   "metadata": {},
   "outputs": [],
   "source": [
    "data4.drop(error, inplace=True)"
   ]
  },
  {
   "cell_type": "code",
   "execution_count": null,
   "id": "eb89824b",
   "metadata": {},
   "outputs": [],
   "source": [
    "data4['text'][error]"
   ]
  },
  {
   "cell_type": "code",
   "execution_count": null,
   "id": "c3cbba55",
   "metadata": {},
   "outputs": [],
   "source": [
    "data[4] = data4"
   ]
  },
  {
   "cell_type": "code",
   "execution_count": null,
   "id": "a331d28d",
   "metadata": {},
   "outputs": [],
   "source": [
    "\n",
    "data[4].iloc[61685]"
   ]
  },
  {
   "cell_type": "code",
   "execution_count": null,
   "id": "97ef9d5b",
   "metadata": {},
   "outputs": [],
   "source": [
    "error2 = 61685 + 6690\n",
    "data4.drop(error2, inplace=True)"
   ]
  },
  {
   "cell_type": "code",
   "execution_count": null,
   "id": "5c458c4b",
   "metadata": {},
   "outputs": [],
   "source": [
    "data[4] = data4"
   ]
  },
  {
   "cell_type": "code",
   "execution_count": null,
   "id": "1b203707",
   "metadata": {},
   "outputs": [],
   "source": []
  },
  {
   "cell_type": "code",
   "execution_count": null,
   "id": "3d301143",
   "metadata": {},
   "outputs": [],
   "source": [
    "datasets_sentiment = [\n",
    "'2021-01-01_2021-01-31_twitter_comments.csv',\n",
    "'2021-02-01_2021-02-28_twitter_comments.csv',\n",
    "'2021-03-01_2021-03-31_twitter_comments.csv',\n",
    "'2021-04-01_2021-04-30_twitter_comments.csv',\n",
    "'2021-05-01_2021-05-31_twitter_comments.csv',\n",
    "'2021-06-01_2021-06-30_twitter_comments.csv',\n",
    "'2021-07-01_2021-07-31_twitter_comments.csv',\n",
    "'2021-08-01_2021-08-31_twitter_comments.csv',\n",
    "'2021-09-01_2021-09-30_twitter_comments.csv',\n",
    "'2021-10-01_2021-10-31_twitter_comments.csv',\n",
    "'2021-11-01_2021-11-30_twitter_comments.csv',\n",
    "'2021-12-01_2021-12-31_twitter_comments.csv',\n",
    "'2022-01-01_2022-06-30_twitter_comments.csv',\n",
    "'2022-06-24_2022-09-23_twitter_comments.csv',\n",
    "'2022-09-24_2022-12-23_twitter_comments.csv',\n",
    "'2022-12-24_2023-03-09_twitter_comments.csv',\n",
    "]"
   ]
  },
  {
   "cell_type": "code",
   "execution_count": null,
   "id": "71cc067c",
   "metadata": {},
   "outputs": [],
   "source": [
    "data_sentiment = {}\n",
    "for index, file in enumerate(datasets_sentiment):\n",
    "    data_sentiment[index] = pd.read_csv(f'../raw_data/data-to-process/sentiment-data/{file}', lineterminator='\\n')"
   ]
  },
  {
   "cell_type": "code",
   "execution_count": null,
   "id": "0d3af607",
   "metadata": {},
   "outputs": [],
   "source": [
    "data_sentiment[1]"
   ]
  },
  {
   "cell_type": "code",
   "execution_count": null,
   "id": "d4166569",
   "metadata": {},
   "outputs": [],
   "source": [
    "sentiment_data_master = pd.DataFrame()\n",
    "for dataset in data_sentiment.values():\n",
    "    sentiment_data_master = pd.concat([sentiment_data_master, dataset])"
   ]
  },
  {
   "cell_type": "code",
   "execution_count": null,
   "id": "83a36015",
   "metadata": {},
   "outputs": [],
   "source": [
    "sentiment_data_master.to_csv('sentiment_data_master_no_ts.csv')\n"
   ]
  },
  {
   "cell_type": "code",
   "execution_count": null,
   "id": "1c622da0",
   "metadata": {},
   "outputs": [],
   "source": [
    "sentiment_data_master.shape[0]"
   ]
  },
  {
   "cell_type": "code",
   "execution_count": null,
   "id": "824b320a",
   "metadata": {
    "scrolled": true
   },
   "outputs": [],
   "source": [
    "sentiment_data_master[sentiment_data_master.isna() == False].shape"
   ]
  },
  {
   "cell_type": "code",
   "execution_count": null,
   "id": "47526413",
   "metadata": {},
   "outputs": [],
   "source": [
    "sentiment_data_master = sentiment_data_master.dropna()"
   ]
  },
  {
   "cell_type": "code",
   "execution_count": null,
   "id": "3844fa13",
   "metadata": {},
   "outputs": [],
   "source": [
    "sentiment_data_master.shape[0]"
   ]
  },
  {
   "cell_type": "code",
   "execution_count": null,
   "id": "c5cf0304",
   "metadata": {},
   "outputs": [],
   "source": [
    "(data[0].shape)[0]+(data[1].shape)[0]+(data[2].shape)[0]+(data[3].shape)[0]+(data[4].shape)[0]"
   ]
  },
  {
   "cell_type": "code",
   "execution_count": null,
   "id": "6640da48",
   "metadata": {},
   "outputs": [],
   "source": [
    "data[2]"
   ]
  },
  {
   "cell_type": "code",
   "execution_count": null,
   "id": "2bb832c4",
   "metadata": {},
   "outputs": [],
   "source": [
    "data_basic = pd.concat([data[2],data[1],data[0]])\n"
   ]
  },
  {
   "cell_type": "code",
   "execution_count": null,
   "id": "a7dc2d27",
   "metadata": {},
   "outputs": [],
   "source": [
    "data_basic['datetime'] = pd.to_datetime(data_basic['datetime'])"
   ]
  },
  {
   "cell_type": "code",
   "execution_count": null,
   "id": "8a9f1204",
   "metadata": {
    "scrolled": true
   },
   "outputs": [],
   "source": [
    "data3 = data[3]\n",
    "data3['datetime'] = pd.to_datetime(data3['datetime'])"
   ]
  },
  {
   "cell_type": "code",
   "execution_count": null,
   "id": "82b5f734",
   "metadata": {},
   "outputs": [],
   "source": [
    "data4 = data[4]\n",
    "data4['datetime'] = pd.to_datetime(data4['datetime'])"
   ]
  },
  {
   "cell_type": "code",
   "execution_count": null,
   "id": "4d39490b",
   "metadata": {},
   "outputs": [],
   "source": [
    "data_basic['text'] = data_basic['text\\r']\n",
    "data_basic = data_basic[['datetime','username','text']]"
   ]
  },
  {
   "cell_type": "code",
   "execution_count": null,
   "id": "e43397b8",
   "metadata": {},
   "outputs": [],
   "source": [
    "data3 = data3[['datetime','date','username','text']]"
   ]
  },
  {
   "cell_type": "code",
   "execution_count": null,
   "id": "b36ee48d",
   "metadata": {},
   "outputs": [],
   "source": [
    "data4 = data4[['datetime','username','text']]"
   ]
  },
  {
   "cell_type": "code",
   "execution_count": null,
   "id": "a9e1b20f",
   "metadata": {},
   "outputs": [],
   "source": [
    "data_basic['date'] = data_basic['datetime'].dt.date"
   ]
  },
  {
   "cell_type": "code",
   "execution_count": null,
   "id": "85ae389f",
   "metadata": {},
   "outputs": [],
   "source": [
    "data3.head()"
   ]
  },
  {
   "cell_type": "code",
   "execution_count": null,
   "id": "deada99f",
   "metadata": {},
   "outputs": [],
   "source": [
    "data4['date'] = data4['datetime'].dt.date"
   ]
  },
  {
   "cell_type": "code",
   "execution_count": null,
   "id": "1a082891",
   "metadata": {},
   "outputs": [],
   "source": [
    "data_with_datetime = pd.concat([data4,data3,data_basic])"
   ]
  },
  {
   "cell_type": "code",
   "execution_count": null,
   "id": "72d866cd",
   "metadata": {},
   "outputs": [],
   "source": [
    "data_basic"
   ]
  },
  {
   "cell_type": "code",
   "execution_count": null,
   "id": "17f5e0a3",
   "metadata": {},
   "outputs": [],
   "source": [
    "sentiment_data_master"
   ]
  },
  {
   "cell_type": "code",
   "execution_count": null,
   "id": "52889473",
   "metadata": {},
   "outputs": [],
   "source": [
    "sentiment_data_master.reset_index"
   ]
  },
  {
   "cell_type": "code",
   "execution_count": null,
   "id": "b65eefa9",
   "metadata": {},
   "outputs": [],
   "source": [
    "sentiment_data_master = sentiment_data_master"
   ]
  },
  {
   "cell_type": "code",
   "execution_count": null,
   "id": "ad7b6ccb",
   "metadata": {},
   "outputs": [],
   "source": [
    "sentiment_data_master['date'] = pd.to_datetime(sentiment_data_master['date'])"
   ]
  },
  {
   "cell_type": "code",
   "execution_count": null,
   "id": "3587289f",
   "metadata": {},
   "outputs": [],
   "source": [
    "sentiment_data_master['date'].iloc[200000]"
   ]
  },
  {
   "cell_type": "code",
   "execution_count": null,
   "id": "c67f5b4b",
   "metadata": {},
   "outputs": [],
   "source": [
    "data_with_datetime['date'] = pd.to_datetime(data_with_datetime['date'])"
   ]
  },
  {
   "cell_type": "code",
   "execution_count": null,
   "id": "059ca7b1",
   "metadata": {},
   "outputs": [],
   "source": [
    "data_with_datetime['date'].iloc[200000]"
   ]
  },
  {
   "cell_type": "code",
   "execution_count": null,
   "id": "c64ac67b",
   "metadata": {},
   "outputs": [],
   "source": [
    "sentiment_data_master.to_csv('sentiment_data_master_tomerge1.csv')"
   ]
  },
  {
   "cell_type": "code",
   "execution_count": null,
   "id": "e7aa63e1",
   "metadata": {},
   "outputs": [],
   "source": [
    "data_with_datetime.to_csv('data_with_datetime_tomerge2.csv')"
   ]
  },
  {
   "cell_type": "code",
   "execution_count": 3,
   "id": "48e234ff",
   "metadata": {},
   "outputs": [],
   "source": [
    "tomerge2 = pd.read_csv('data_with_datetime_tomerge2.csv', lineterminator='\\n')\n"
   ]
  },
  {
   "cell_type": "code",
   "execution_count": 4,
   "id": "71d7caa1",
   "metadata": {},
   "outputs": [],
   "source": [
    "tomerge1 = pd.read_csv('sentiment_data_master_tomerge1.csv', lineterminator='\\n')"
   ]
  },
  {
   "cell_type": "code",
   "execution_count": null,
   "id": "e6382fb1",
   "metadata": {},
   "outputs": [],
   "source": [
    "import pandas as pd \n",
    "final_master_data = tomerge1.merge(tomerge2, on = 'date')"
   ]
  },
  {
   "cell_type": "code",
   "execution_count": null,
   "id": "f9fb88d4",
   "metadata": {},
   "outputs": [],
   "source": [
    "final_master_data.shape()"
   ]
  }
 ],
 "metadata": {
  "kernelspec": {
   "display_name": "Python 3 (ipykernel)",
   "language": "python",
   "name": "python3"
  },
  "language_info": {
   "codemirror_mode": {
    "name": "ipython",
    "version": 3
   },
   "file_extension": ".py",
   "mimetype": "text/x-python",
   "name": "python",
   "nbconvert_exporter": "python",
   "pygments_lexer": "ipython3",
   "version": "3.10.6"
  },
  "toc": {
   "base_numbering": 1,
   "nav_menu": {},
   "number_sections": true,
   "sideBar": true,
   "skip_h1_title": false,
   "title_cell": "Table of Contents",
   "title_sidebar": "Contents",
   "toc_cell": false,
   "toc_position": {},
   "toc_section_display": true,
   "toc_window_display": false
  }
 },
 "nbformat": 4,
 "nbformat_minor": 5
}
