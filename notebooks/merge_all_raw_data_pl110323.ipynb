{
 "cells": [
  {
   "cell_type": "code",
   "execution_count": 1,
   "id": "8a98ae2d",
   "metadata": {},
   "outputs": [],
   "source": [
    "import pandas as pd \n",
    "import seaborn as sns\n",
    "import numpy as np\n",
    "import matplotlib.pyplot as plt\n",
    "import matplotlib"
   ]
  },
  {
   "cell_type": "code",
   "execution_count": 3,
   "id": "3c334a89",
   "metadata": {},
   "outputs": [],
   "source": [
    "data1 = pd.read_csv('data_with_datetime_tomerge2.csv', lineterminator='\\n')\n",
    "data2 = pd.read_csv('sentiment_data_master_tomerge1.csv', lineterminator='\\n')"
   ]
  },
  {
   "cell_type": "code",
   "execution_count": 9,
   "id": "fccfc814",
   "metadata": {},
   "outputs": [
    {
     "data": {
      "text/html": [
       "<div>\n",
       "<style scoped>\n",
       "    .dataframe tbody tr th:only-of-type {\n",
       "        vertical-align: middle;\n",
       "    }\n",
       "\n",
       "    .dataframe tbody tr th {\n",
       "        vertical-align: top;\n",
       "    }\n",
       "\n",
       "    .dataframe thead th {\n",
       "        text-align: right;\n",
       "    }\n",
       "</style>\n",
       "<table border=\"1\" class=\"dataframe\">\n",
       "  <thead>\n",
       "    <tr style=\"text-align: right;\">\n",
       "      <th></th>\n",
       "      <th>Unnamed: 0</th>\n",
       "      <th>datetime</th>\n",
       "      <th>username</th>\n",
       "      <th>text</th>\n",
       "      <th>date</th>\n",
       "    </tr>\n",
       "  </thead>\n",
       "  <tbody>\n",
       "    <tr>\n",
       "      <th>405379</th>\n",
       "      <td>30001</td>\n",
       "      <td>2023-03-09 06:00:01+00:00</td>\n",
       "      <td>HourlyBTCUpdate</td>\n",
       "      <td>Bitcoin: $21739.58\\n💔 -1.72 last 1 Hour (-0.01...</td>\n",
       "      <td>2023-03-09</td>\n",
       "    </tr>\n",
       "    <tr>\n",
       "      <th>405380</th>\n",
       "      <td>30002</td>\n",
       "      <td>2023-03-09 06:00:01+00:00</td>\n",
       "      <td>Mannny23</td>\n",
       "      <td>Popular crypto latest prices:\\n $BTC 21751.00\\...</td>\n",
       "      <td>2023-03-09</td>\n",
       "    </tr>\n",
       "    <tr>\n",
       "      <th>405381</th>\n",
       "      <td>30003</td>\n",
       "      <td>2023-03-09 06:00:01+00:00</td>\n",
       "      <td>whalesradar_com</td>\n",
       "      <td>#CTXCUSDT #CTXC \\nSignal #4  \\n\\nLast Signal: ...</td>\n",
       "      <td>2023-03-09</td>\n",
       "    </tr>\n",
       "    <tr>\n",
       "      <th>405382</th>\n",
       "      <td>30004</td>\n",
       "      <td>2023-03-09 06:00:00+00:00</td>\n",
       "      <td>croxroadnews</td>\n",
       "      <td>The Wings of #Bitcoin: A Symbol of Strength an...</td>\n",
       "      <td>2023-03-09</td>\n",
       "    </tr>\n",
       "    <tr>\n",
       "      <th>405383</th>\n",
       "      <td>30005</td>\n",
       "      <td>2023-03-09 06:00:00+00:00</td>\n",
       "      <td>AlphaImpact_fi</td>\n",
       "      <td>#GM Alphas, it’s time to announce a GOLDEN Rew...</td>\n",
       "      <td>2023-03-09</td>\n",
       "    </tr>\n",
       "  </tbody>\n",
       "</table>\n",
       "</div>"
      ],
      "text/plain": [
       "        Unnamed: 0                   datetime         username  \\\n",
       "405379       30001  2023-03-09 06:00:01+00:00  HourlyBTCUpdate   \n",
       "405380       30002  2023-03-09 06:00:01+00:00         Mannny23   \n",
       "405381       30003  2023-03-09 06:00:01+00:00  whalesradar_com   \n",
       "405382       30004  2023-03-09 06:00:00+00:00     croxroadnews   \n",
       "405383       30005  2023-03-09 06:00:00+00:00   AlphaImpact_fi   \n",
       "\n",
       "                                                     text        date  \n",
       "405379  Bitcoin: $21739.58\\n💔 -1.72 last 1 Hour (-0.01...  2023-03-09  \n",
       "405380  Popular crypto latest prices:\\n $BTC 21751.00\\...  2023-03-09  \n",
       "405381  #CTXCUSDT #CTXC \\nSignal #4  \\n\\nLast Signal: ...  2023-03-09  \n",
       "405382  The Wings of #Bitcoin: A Symbol of Strength an...  2023-03-09  \n",
       "405383  #GM Alphas, it’s time to announce a GOLDEN Rew...  2023-03-09  "
      ]
     },
     "execution_count": 9,
     "metadata": {},
     "output_type": "execute_result"
    }
   ],
   "source": [
    "data1.tail()"
   ]
  },
  {
   "cell_type": "code",
   "execution_count": 10,
   "id": "e9dc1c02",
   "metadata": {},
   "outputs": [
    {
     "data": {
      "text/html": [
       "<div>\n",
       "<style scoped>\n",
       "    .dataframe tbody tr th:only-of-type {\n",
       "        vertical-align: middle;\n",
       "    }\n",
       "\n",
       "    .dataframe tbody tr th {\n",
       "        vertical-align: top;\n",
       "    }\n",
       "\n",
       "    .dataframe thead th {\n",
       "        text-align: right;\n",
       "    }\n",
       "</style>\n",
       "<table border=\"1\" class=\"dataframe\">\n",
       "  <thead>\n",
       "    <tr style=\"text-align: right;\">\n",
       "      <th></th>\n",
       "      <th>Unnamed: 0.1</th>\n",
       "      <th>Unnamed: 0</th>\n",
       "      <th>date</th>\n",
       "      <th>process_text</th>\n",
       "      <th>negative_bert</th>\n",
       "      <th>neutral_bert</th>\n",
       "      <th>positive_bert</th>\n",
       "    </tr>\n",
       "  </thead>\n",
       "  <tbody>\n",
       "    <tr>\n",
       "      <th>405379</th>\n",
       "      <td>30001</td>\n",
       "      <td>30001</td>\n",
       "      <td>2023-03-09</td>\n",
       "      <td>Bitcoin: $21739.58 💔 -1.72 last 1 Hour (-0.01%...</td>\n",
       "      <td>0.001016</td>\n",
       "      <td>0.870834</td>\n",
       "      <td>0.128149</td>\n",
       "    </tr>\n",
       "    <tr>\n",
       "      <th>405380</th>\n",
       "      <td>30002</td>\n",
       "      <td>30002</td>\n",
       "      <td>2023-03-09</td>\n",
       "      <td>Popular crypto latest prices:  $BTC 21751.00  ...</td>\n",
       "      <td>0.003519</td>\n",
       "      <td>0.907121</td>\n",
       "      <td>0.089360</td>\n",
       "    </tr>\n",
       "    <tr>\n",
       "      <th>405381</th>\n",
       "      <td>30003</td>\n",
       "      <td>30003</td>\n",
       "      <td>2023-03-09</td>\n",
       "      <td>#CTXCUSDT #CTXC  Signal #4    Last Signal: 119...</td>\n",
       "      <td>0.000521</td>\n",
       "      <td>0.964454</td>\n",
       "      <td>0.035024</td>\n",
       "    </tr>\n",
       "    <tr>\n",
       "      <th>405382</th>\n",
       "      <td>30004</td>\n",
       "      <td>30004</td>\n",
       "      <td>2023-03-09</td>\n",
       "      <td>The Wings of #Bitcoin: A Symbol of Strength an...</td>\n",
       "      <td>0.007388</td>\n",
       "      <td>0.532228</td>\n",
       "      <td>0.460384</td>\n",
       "    </tr>\n",
       "    <tr>\n",
       "      <th>405383</th>\n",
       "      <td>30005</td>\n",
       "      <td>30005</td>\n",
       "      <td>2023-03-09</td>\n",
       "      <td>#GM Alphas, it’s time to announce a GOLDEN Rew...</td>\n",
       "      <td>0.001678</td>\n",
       "      <td>0.591128</td>\n",
       "      <td>0.407194</td>\n",
       "    </tr>\n",
       "  </tbody>\n",
       "</table>\n",
       "</div>"
      ],
      "text/plain": [
       "        Unnamed: 0.1  Unnamed: 0        date  \\\n",
       "405379         30001       30001  2023-03-09   \n",
       "405380         30002       30002  2023-03-09   \n",
       "405381         30003       30003  2023-03-09   \n",
       "405382         30004       30004  2023-03-09   \n",
       "405383         30005       30005  2023-03-09   \n",
       "\n",
       "                                             process_text  negative_bert  \\\n",
       "405379  Bitcoin: $21739.58 💔 -1.72 last 1 Hour (-0.01%...       0.001016   \n",
       "405380  Popular crypto latest prices:  $BTC 21751.00  ...       0.003519   \n",
       "405381  #CTXCUSDT #CTXC  Signal #4    Last Signal: 119...       0.000521   \n",
       "405382  The Wings of #Bitcoin: A Symbol of Strength an...       0.007388   \n",
       "405383  #GM Alphas, it’s time to announce a GOLDEN Rew...       0.001678   \n",
       "\n",
       "        neutral_bert  positive_bert  \n",
       "405379      0.870834       0.128149  \n",
       "405380      0.907121       0.089360  \n",
       "405381      0.964454       0.035024  \n",
       "405382      0.532228       0.460384  \n",
       "405383      0.591128       0.407194  "
      ]
     },
     "execution_count": 10,
     "metadata": {},
     "output_type": "execute_result"
    }
   ],
   "source": [
    "data2.tail()"
   ]
  },
  {
   "cell_type": "code",
   "execution_count": 17,
   "id": "23bf682f",
   "metadata": {},
   "outputs": [],
   "source": [
    "data1[['negative_bert','neutral_bert','positive_bert']] = data2[['negative_bert','neutral_bert','positive_bert']] "
   ]
  },
  {
   "cell_type": "code",
   "execution_count": 20,
   "id": "2b2b833b",
   "metadata": {},
   "outputs": [],
   "source": [
    "merged_raw_data = data1"
   ]
  },
  {
   "cell_type": "code",
   "execution_count": 33,
   "id": "3a9f0186",
   "metadata": {
    "scrolled": true
   },
   "outputs": [],
   "source": [
    "data1.to_csv('merged_raw_data_sentiment_timestamp_pl110323.csv')"
   ]
  }
 ],
 "metadata": {
  "kernelspec": {
   "display_name": "Python 3 (ipykernel)",
   "language": "python",
   "name": "python3"
  },
  "language_info": {
   "codemirror_mode": {
    "name": "ipython",
    "version": 3
   },
   "file_extension": ".py",
   "mimetype": "text/x-python",
   "name": "python",
   "nbconvert_exporter": "python",
   "pygments_lexer": "ipython3",
   "version": "3.10.6"
  },
  "toc": {
   "base_numbering": 1,
   "nav_menu": {},
   "number_sections": true,
   "sideBar": true,
   "skip_h1_title": false,
   "title_cell": "Table of Contents",
   "title_sidebar": "Contents",
   "toc_cell": false,
   "toc_position": {},
   "toc_section_display": true,
   "toc_window_display": false
  }
 },
 "nbformat": 4,
 "nbformat_minor": 5
}
