{
 "cells": [
  {
   "cell_type": "code",
   "execution_count": 2,
   "id": "01d5ced4",
   "metadata": {},
   "outputs": [],
   "source": [
    "import pandas as pd\n",
    "from datetime import datetime\n",
    "from model import preprocess, run_model, remove_spam\n",
    "from snsscrape_scripter_live import snscrape_expert, snscrape, get_usernames\n",
    "from data import update_prices"
   ]
  },
  {
   "cell_type": "code",
   "execution_count": 22,
   "id": "00738a0d",
   "metadata": {},
   "outputs": [],
   "source": [
    "data = pd.read_csv('../raw_data/cleaned_tweets_without_dupes_120323.csv', nrows=10000)"
   ]
  },
  {
   "cell_type": "code",
   "execution_count": 56,
   "id": "3a181efa",
   "metadata": {},
   "outputs": [
    {
     "data": {
      "text/html": [
       "<div>\n",
       "<style scoped>\n",
       "    .dataframe tbody tr th:only-of-type {\n",
       "        vertical-align: middle;\n",
       "    }\n",
       "\n",
       "    .dataframe tbody tr th {\n",
       "        vertical-align: top;\n",
       "    }\n",
       "\n",
       "    .dataframe thead th {\n",
       "        text-align: right;\n",
       "    }\n",
       "</style>\n",
       "<table border=\"1\" class=\"dataframe\">\n",
       "  <thead>\n",
       "    <tr style=\"text-align: right;\">\n",
       "      <th></th>\n",
       "      <th>Unnamed: 0</th>\n",
       "      <th>datetime</th>\n",
       "      <th>username</th>\n",
       "      <th>text</th>\n",
       "      <th>date</th>\n",
       "      <th>negative_bert</th>\n",
       "      <th>neutral_bert</th>\n",
       "      <th>positive_bert</th>\n",
       "    </tr>\n",
       "  </thead>\n",
       "  <tbody>\n",
       "    <tr>\n",
       "      <th>0</th>\n",
       "      <td>0</td>\n",
       "      <td>2021-01-01 22:09:59+00:00</td>\n",
       "      <td>sivilianlife</td>\n",
       "      <td>What's the chances @Grayscale is hedging short...</td>\n",
       "      <td>2021-01-01</td>\n",
       "      <td>0.002040</td>\n",
       "      <td>0.951312</td>\n",
       "      <td>0.046648</td>\n",
       "    </tr>\n",
       "    <tr>\n",
       "      <th>1</th>\n",
       "      <td>1</td>\n",
       "      <td>2021-01-01 22:09:39+00:00</td>\n",
       "      <td>LudicrousSpeed9</td>\n",
       "      <td>@CNBC Buy #Bitcoin to hedge against the result...</td>\n",
       "      <td>2021-01-01</td>\n",
       "      <td>0.004157</td>\n",
       "      <td>0.400750</td>\n",
       "      <td>0.595093</td>\n",
       "    </tr>\n",
       "    <tr>\n",
       "      <th>2</th>\n",
       "      <td>2</td>\n",
       "      <td>2021-01-01 22:09:35+00:00</td>\n",
       "      <td>SergioBowers1</td>\n",
       "      <td>@APompliano @pepsi  @MonsterEnergy  $DEO $KO e...</td>\n",
       "      <td>2021-01-01</td>\n",
       "      <td>0.000248</td>\n",
       "      <td>0.582107</td>\n",
       "      <td>0.417644</td>\n",
       "    </tr>\n",
       "    <tr>\n",
       "      <th>3</th>\n",
       "      <td>3</td>\n",
       "      <td>2021-01-01 22:09:21+00:00</td>\n",
       "      <td>bitvestor</td>\n",
       "      <td>Closed another chunk of this long now. Remaind...</td>\n",
       "      <td>2021-01-01</td>\n",
       "      <td>0.000974</td>\n",
       "      <td>0.807066</td>\n",
       "      <td>0.191960</td>\n",
       "    </tr>\n",
       "    <tr>\n",
       "      <th>4</th>\n",
       "      <td>4</td>\n",
       "      <td>2021-01-01 22:09:18+00:00</td>\n",
       "      <td>FROMKAIWITHLOVE</td>\n",
       "      <td>When you dig deeper into #kardiachain company ...</td>\n",
       "      <td>2021-01-01</td>\n",
       "      <td>0.000056</td>\n",
       "      <td>0.223449</td>\n",
       "      <td>0.776495</td>\n",
       "    </tr>\n",
       "  </tbody>\n",
       "</table>\n",
       "</div>"
      ],
      "text/plain": [
       "   Unnamed: 0                  datetime         username  \\\n",
       "0           0 2021-01-01 22:09:59+00:00     sivilianlife   \n",
       "1           1 2021-01-01 22:09:39+00:00  LudicrousSpeed9   \n",
       "2           2 2021-01-01 22:09:35+00:00    SergioBowers1   \n",
       "3           3 2021-01-01 22:09:21+00:00        bitvestor   \n",
       "4           4 2021-01-01 22:09:18+00:00  FROMKAIWITHLOVE   \n",
       "\n",
       "                                                text        date  \\\n",
       "0  What's the chances @Grayscale is hedging short...  2021-01-01   \n",
       "1  @CNBC Buy #Bitcoin to hedge against the result...  2021-01-01   \n",
       "2  @APompliano @pepsi  @MonsterEnergy  $DEO $KO e...  2021-01-01   \n",
       "3  Closed another chunk of this long now. Remaind...  2021-01-01   \n",
       "4  When you dig deeper into #kardiachain company ...  2021-01-01   \n",
       "\n",
       "   negative_bert  neutral_bert  positive_bert  \n",
       "0       0.002040      0.951312       0.046648  \n",
       "1       0.004157      0.400750       0.595093  \n",
       "2       0.000248      0.582107       0.417644  \n",
       "3       0.000974      0.807066       0.191960  \n",
       "4       0.000056      0.223449       0.776495  "
      ]
     },
     "execution_count": 56,
     "metadata": {},
     "output_type": "execute_result"
    }
   ],
   "source": [
    "data.head()"
   ]
  },
  {
   "cell_type": "code",
   "execution_count": 55,
   "id": "ce9fc610",
   "metadata": {
    "scrolled": true
   },
   "outputs": [],
   "source": [
    "\n",
    "def update_dataframe(data, num_tweets=149):\n",
    "    data['datetime'] = pd.to_datetime(data['datetime'])\n",
    "    length = (data.shape[0]-1)\n",
    "    latest_time = data['datetime'][length].date()\n",
    "    now = datetime.now().date()\n",
    "    difference = (now - latest_time).days\n",
    "    \n",
    "    if difference > 0:\n",
    "        print('Updating!')\n",
    "        now = pd.Timestamp(now).isoformat('_', 'seconds')+'_UTC'\n",
    "        latest_time = pd.Timestamp(latest_time).isoformat('_', 'seconds')+'_UTC'\n",
    "        \n",
    "        #scrape and process experts\n",
    "        #define a custom remove spam function fof experts\n",
    "        experts = get_usernames(file_csv='raw_data/Usernames - Sheet1.csv')\n",
    "        expert_df_updates = snscrape_expert(start_date=latest_time,end_date=None,filename=f'raw_data/experts_{latest_time}_{now}.csv',users_name=experts,make_csv=True)\n",
    "        expert_df_updates = remove_spam(expert_df_updates)\n",
    "        expert_df_updates = preprocess(expert_df_updates)\n",
    "        expert_df_updates = run_model(expert_df_updates)\n",
    "        expert_df_updates['date'] = expert_df_updates['datetime'].date()\n",
    "        \n",
    "        #we are now assuming we want acerage daily sentiment but we might not\n",
    "        expert_df_updates = expert_df_updates.groupby(by='date').mean()\n",
    "      \n",
    "        all_df_updates = snscrape(num_tweets=num_tweets,start_date=latest_time,end_date=None, hour_delta=8,min_gap=10,filename=f'raw_data/{latest_time}_{now}.csv',make_csv=True)\n",
    "        \n",
    "        #scrape and process all\n",
    "        all_df_updates = remove_spam(all_df_updates)\n",
    "        all_df_updates = preprocess(all_df_updates)\n",
    "        all_df_updates = run_model(all_df_updates)\n",
    "        all_df_updates['date'] = all_df_updates['datetime'].date()\n",
    "        all_df_updates = all_df_updates.groupby(by='date').mean()\n",
    "        \n",
    "        #add the bitcoin data\n",
    "        data2 = update_prices(latest_time, now)\n",
    "        \n",
    "        #moving average sentiment included in df\n",
    "        \n",
    "        \n",
    "        \n",
    "    else:\n",
    "        print('Up to date already!')\n",
    "        \n",
    "    return data\n",
    "\n",
    "    \n"
   ]
  },
  {
   "cell_type": "code",
   "execution_count": 49,
   "id": "03cd09fd",
   "metadata": {},
   "outputs": [
    {
     "data": {
      "text/plain": [
       "datetime.date(2021, 1, 27)"
      ]
     },
     "execution_count": 49,
     "metadata": {},
     "output_type": "execute_result"
    }
   ],
   "source": [
    "#snscrape\n",
    "# get imput of all dates\n",
    "#remove spam "
   ]
  },
  {
   "cell_type": "code",
   "execution_count": 66,
   "id": "5bf323f8",
   "metadata": {},
   "outputs": [
    {
     "data": {
      "text/plain": [
       "'2023-03-13_00:00:00_UTC'"
      ]
     },
     "execution_count": 66,
     "metadata": {},
     "output_type": "execute_result"
    }
   ],
   "source": [
    "pd.Timestamp(now).isoformat('_', 'seconds')+'_UTC'"
   ]
  },
  {
   "cell_type": "code",
   "execution_count": 64,
   "id": "eaf2e535",
   "metadata": {},
   "outputs": [
    {
     "ename": "NameError",
     "evalue": "name 'expoert' is not defined",
     "output_type": "error",
     "traceback": [
      "\u001b[0;31m---------------------------------------------------------------------------\u001b[0m",
      "\u001b[0;31mNameError\u001b[0m                                 Traceback (most recent call last)",
      "Cell \u001b[0;32mIn[64], line 1\u001b[0m\n\u001b[0;32m----> 1\u001b[0m \u001b[38;5;28;01mif\u001b[39;00m expoert:pd\u001b[38;5;241m.\u001b[39mTimestamp(ex_now)\u001b[38;5;241m.\u001b[39misoformat(\u001b[38;5;124m'\u001b[39m\u001b[38;5;124m_\u001b[39m\u001b[38;5;124m'\u001b[39m, \u001b[38;5;124m'\u001b[39m\u001b[38;5;124m'\u001b[39m)\n",
      "\u001b[0;31mNameError\u001b[0m: name 'expoert' is not defined"
     ]
    }
   ],
   "source": [
    "if expert:\n",
    "    pd.Timestamp(ex_now).isoformat('_', 'seconds')+'_UTC'\n",
    "else:\n",
    "    pd.Timestamp(ex_now).isoformat('T', 'seconds')+'_UTC'"
   ]
  },
  {
   "cell_type": "code",
   "execution_count": null,
   "id": "de660703",
   "metadata": {},
   "outputs": [],
   "source": [
    "def function(data):\n",
    "    now = datetime.now()\n",
    "    \n",
    "    #check last entry in dataframe\n",
    "    #fill up data based on the gap\n",
    "        #sns scrape data between\n",
    "            #spam remove and then model this data\n",
    "            #get tweets per day\n",
    "            #make into daily averages\n",
    "            #bitcoin price and volume\n",
    "    #add data to dataframe\n",
    "\n",
    "    #return new dataframe\n",
    "    \n"
   ]
  }
 ],
 "metadata": {
  "kernelspec": {
   "display_name": "Python 3 (ipykernel)",
   "language": "python",
   "name": "python3"
  },
  "language_info": {
   "codemirror_mode": {
    "name": "ipython",
    "version": 3
   },
   "file_extension": ".py",
   "mimetype": "text/x-python",
   "name": "python",
   "nbconvert_exporter": "python",
   "pygments_lexer": "ipython3",
   "version": "3.10.6"
  },
  "toc": {
   "base_numbering": 1,
   "nav_menu": {},
   "number_sections": true,
   "sideBar": true,
   "skip_h1_title": false,
   "title_cell": "Table of Contents",
   "title_sidebar": "Contents",
   "toc_cell": false,
   "toc_position": {},
   "toc_section_display": true,
   "toc_window_display": false
  }
 },
 "nbformat": 4,
 "nbformat_minor": 5
}
