{
 "cells": [
  {
   "cell_type": "code",
   "execution_count": 26,
   "id": "1932e721",
   "metadata": {},
   "outputs": [],
   "source": [
    "import pandas as pd\n",
    "import yfinance as yf\n",
    "import datetime"
   ]
  },
  {
   "cell_type": "markdown",
   "id": "541b32a7",
   "metadata": {},
   "source": [
    "## Step 1 - Create the function to load histroic data"
   ]
  },
  {
   "cell_type": "code",
   "execution_count": 35,
   "id": "64fedfae",
   "metadata": {},
   "outputs": [],
   "source": [
    "def load_historic_data(symbol, start_date_str, today_date_str, period, interval, prepost):\n",
    "    try:\n",
    "        df = yf.download(symbol, start=start_date_str, end=today_date_str, period=period, interval=interval, prepost=prepost)\n",
    "        #  Add symbol\n",
    "        df[\"Symbol\"] = symbol\n",
    "        return df\n",
    "    except:\n",
    "        print('Error loading stock data for ' + symbols)\n",
    "        return None"
   ]
  },
  {
   "cell_type": "markdown",
   "id": "08b21a46",
   "metadata": {},
   "source": [
    "## Step 2 - Define the input variable "
   ]
  },
  {
   "cell_type": "code",
   "execution_count": 28,
   "id": "78119123",
   "metadata": {},
   "outputs": [],
   "source": [
    "# valid periods: 1d,5d,1mo,3mo,6mo,1y,2y,5y,10y,ytd,max\n",
    "period = '1d'\n",
    "\n",
    "# valid intervals: 1m,2m,5m,15m,30m,60m,90m,1h,1d,5d,1wk,1mo,3mo\n",
    "interval = '1d'\n",
    "\n",
    "# input the today value\n",
    "today = datetime.date.today()\n",
    "today_date_str = today.strftime(\"%Y-%m-%d\")\n",
    "prepost = True\n",
    "\n",
    "#download the date in 3 years\n",
    "days = datetime.timedelta(1095)\n",
    "start_date = today - days\n",
    "start_date_str = datetime.datetime.strftime(start_date, \"%Y-%m-%d\")\n",
    "\n",
    "#  Coins to download\n",
    "symbols = ['BTC-USD','ETH-USD','BCH-USD','LTC-USD','BNB-USD','BAT-USD',\n",
    "           'XLM-USD','DOGE-USD','DOGE-USD','COMP-USD','ALGO-USD','OMG-USD']"
   ]
  },
  {
   "cell_type": "code",
   "execution_count": 7,
   "id": "8c6817c0",
   "metadata": {},
   "outputs": [
    {
     "data": {
      "text/plain": [
       "'2023-03-07'"
      ]
     },
     "execution_count": 7,
     "metadata": {},
     "output_type": "execute_result"
    }
   ],
   "source": [
    "print(today_date_str)"
   ]
  },
  {
   "cell_type": "code",
   "execution_count": 10,
   "id": "d68ee8d2",
   "metadata": {},
   "outputs": [
    {
     "data": {
      "text/plain": [
       "'2020-03-07'"
      ]
     },
     "execution_count": 10,
     "metadata": {},
     "output_type": "execute_result"
    }
   ],
   "source": [
    "print(start_date_str)"
   ]
  },
  {
   "cell_type": "markdown",
   "id": "7ddfebab",
   "metadata": {},
   "source": [
    "## Step 3 - Download the data of coins"
   ]
  },
  {
   "cell_type": "code",
   "execution_count": 43,
   "id": "cd00dc9d",
   "metadata": {},
   "outputs": [
    {
     "name": "stdout",
     "output_type": "stream",
     "text": [
      "Loading data for BTC-USD\n",
      "[*********************100%***********************]  1 of 1 completed\n",
      "Loading data for ETH-USD\n",
      "[*********************100%***********************]  1 of 1 completed\n",
      "Loading data for BCH-USD\n",
      "[*********************100%***********************]  1 of 1 completed\n",
      "Loading data for LTC-USD\n",
      "[*********************100%***********************]  1 of 1 completed\n",
      "Loading data for BNB-USD\n",
      "[*********************100%***********************]  1 of 1 completed\n",
      "Loading data for BAT-USD\n",
      "[*********************100%***********************]  1 of 1 completed\n",
      "Loading data for XLM-USD\n",
      "[*********************100%***********************]  1 of 1 completed\n",
      "Loading data for DOGE-USD\n",
      "[*********************100%***********************]  1 of 1 completed\n",
      "Loading data for DOGE-USD\n",
      "[*********************100%***********************]  1 of 1 completed\n",
      "Loading data for COMP-USD\n",
      "[*********************100%***********************]  1 of 1 completed\n",
      "Loading data for ALGO-USD\n",
      "[*********************100%***********************]  1 of 1 completed\n",
      "Loading data for OMG-USD\n",
      "[*********************100%***********************]  1 of 1 completed\n"
     ]
    }
   ],
   "source": [
    "#  Fetch data for coin symbols\n",
    "data = {}\n",
    "\n",
    "for symbol in symbols:\n",
    "    print(f\"Loading data for {symbol}\")\n",
    "    # Save the cryto price into datframe\n",
    "    data[symbol] = pd.DataFrame(load_historic_data(symbol, start_date_str, today_date_str, period, interval, prepost))\n",
    "    \n",
    "    # Output to csv\n",
    "    file_name = f\"{today_date_str}_{symbol}_{period}_{interval}.csv\"\n",
    "    data[symbol].to_csv(f\"~/code/giadapi/crypto/data/{file_name}\")\n",
    "    "
   ]
  },
  {
   "cell_type": "markdown",
   "id": "5f95f1e0",
   "metadata": {},
   "source": [
    "## Step 4 - re-use the df of other cryto"
   ]
  },
  {
   "cell_type": "code",
   "execution_count": 46,
   "id": "c8e5457f",
   "metadata": {},
   "outputs": [
    {
     "data": {
      "text/html": [
       "<div>\n",
       "<style scoped>\n",
       "    .dataframe tbody tr th:only-of-type {\n",
       "        vertical-align: middle;\n",
       "    }\n",
       "\n",
       "    .dataframe tbody tr th {\n",
       "        vertical-align: top;\n",
       "    }\n",
       "\n",
       "    .dataframe thead th {\n",
       "        text-align: right;\n",
       "    }\n",
       "</style>\n",
       "<table border=\"1\" class=\"dataframe\">\n",
       "  <thead>\n",
       "    <tr style=\"text-align: right;\">\n",
       "      <th></th>\n",
       "      <th>Open</th>\n",
       "      <th>High</th>\n",
       "      <th>Low</th>\n",
       "      <th>Close</th>\n",
       "      <th>Adj Close</th>\n",
       "      <th>Volume</th>\n",
       "      <th>Symbol</th>\n",
       "    </tr>\n",
       "    <tr>\n",
       "      <th>Date</th>\n",
       "      <th></th>\n",
       "      <th></th>\n",
       "      <th></th>\n",
       "      <th></th>\n",
       "      <th></th>\n",
       "      <th></th>\n",
       "      <th></th>\n",
       "    </tr>\n",
       "  </thead>\n",
       "  <tbody>\n",
       "    <tr>\n",
       "      <th>2020-03-07</th>\n",
       "      <td>9121.600586</td>\n",
       "      <td>9163.220703</td>\n",
       "      <td>8890.744141</td>\n",
       "      <td>8909.954102</td>\n",
       "      <td>8909.954102</td>\n",
       "      <td>36216930370</td>\n",
       "      <td>BTC-USD</td>\n",
       "    </tr>\n",
       "    <tr>\n",
       "      <th>2020-03-08</th>\n",
       "      <td>8908.206055</td>\n",
       "      <td>8914.343750</td>\n",
       "      <td>8105.252930</td>\n",
       "      <td>8108.116211</td>\n",
       "      <td>8108.116211</td>\n",
       "      <td>39973102121</td>\n",
       "      <td>BTC-USD</td>\n",
       "    </tr>\n",
       "    <tr>\n",
       "      <th>2020-03-09</th>\n",
       "      <td>8111.146484</td>\n",
       "      <td>8177.793457</td>\n",
       "      <td>7690.098145</td>\n",
       "      <td>7923.644531</td>\n",
       "      <td>7923.644531</td>\n",
       "      <td>46936995808</td>\n",
       "      <td>BTC-USD</td>\n",
       "    </tr>\n",
       "    <tr>\n",
       "      <th>2020-03-10</th>\n",
       "      <td>7922.146973</td>\n",
       "      <td>8136.945312</td>\n",
       "      <td>7814.763184</td>\n",
       "      <td>7909.729492</td>\n",
       "      <td>7909.729492</td>\n",
       "      <td>42213940994</td>\n",
       "      <td>BTC-USD</td>\n",
       "    </tr>\n",
       "    <tr>\n",
       "      <th>2020-03-11</th>\n",
       "      <td>7910.089844</td>\n",
       "      <td>7950.814453</td>\n",
       "      <td>7642.812500</td>\n",
       "      <td>7911.430176</td>\n",
       "      <td>7911.430176</td>\n",
       "      <td>38682762605</td>\n",
       "      <td>BTC-USD</td>\n",
       "    </tr>\n",
       "    <tr>\n",
       "      <th>...</th>\n",
       "      <td>...</td>\n",
       "      <td>...</td>\n",
       "      <td>...</td>\n",
       "      <td>...</td>\n",
       "      <td>...</td>\n",
       "      <td>...</td>\n",
       "      <td>...</td>\n",
       "    </tr>\n",
       "    <tr>\n",
       "      <th>2023-03-02</th>\n",
       "      <td>23647.019531</td>\n",
       "      <td>23739.138672</td>\n",
       "      <td>23245.021484</td>\n",
       "      <td>23475.466797</td>\n",
       "      <td>23475.466797</td>\n",
       "      <td>20386398516</td>\n",
       "      <td>BTC-USD</td>\n",
       "    </tr>\n",
       "    <tr>\n",
       "      <th>2023-03-03</th>\n",
       "      <td>23476.632812</td>\n",
       "      <td>23479.347656</td>\n",
       "      <td>22213.238281</td>\n",
       "      <td>22362.679688</td>\n",
       "      <td>22362.679688</td>\n",
       "      <td>26062404610</td>\n",
       "      <td>BTC-USD</td>\n",
       "    </tr>\n",
       "    <tr>\n",
       "      <th>2023-03-04</th>\n",
       "      <td>22362.923828</td>\n",
       "      <td>22405.177734</td>\n",
       "      <td>22198.980469</td>\n",
       "      <td>22353.349609</td>\n",
       "      <td>22353.349609</td>\n",
       "      <td>11166012913</td>\n",
       "      <td>BTC-USD</td>\n",
       "    </tr>\n",
       "    <tr>\n",
       "      <th>2023-03-05</th>\n",
       "      <td>22354.144531</td>\n",
       "      <td>22613.685547</td>\n",
       "      <td>22307.142578</td>\n",
       "      <td>22435.513672</td>\n",
       "      <td>22435.513672</td>\n",
       "      <td>13317001733</td>\n",
       "      <td>BTC-USD</td>\n",
       "    </tr>\n",
       "    <tr>\n",
       "      <th>2023-03-06</th>\n",
       "      <td>22436.816406</td>\n",
       "      <td>22584.292969</td>\n",
       "      <td>22331.314453</td>\n",
       "      <td>22429.757812</td>\n",
       "      <td>22429.757812</td>\n",
       "      <td>17353192895</td>\n",
       "      <td>BTC-USD</td>\n",
       "    </tr>\n",
       "  </tbody>\n",
       "</table>\n",
       "<p>1095 rows × 7 columns</p>\n",
       "</div>"
      ],
      "text/plain": [
       "                    Open          High           Low         Close  \\\n",
       "Date                                                                 \n",
       "2020-03-07   9121.600586   9163.220703   8890.744141   8909.954102   \n",
       "2020-03-08   8908.206055   8914.343750   8105.252930   8108.116211   \n",
       "2020-03-09   8111.146484   8177.793457   7690.098145   7923.644531   \n",
       "2020-03-10   7922.146973   8136.945312   7814.763184   7909.729492   \n",
       "2020-03-11   7910.089844   7950.814453   7642.812500   7911.430176   \n",
       "...                  ...           ...           ...           ...   \n",
       "2023-03-02  23647.019531  23739.138672  23245.021484  23475.466797   \n",
       "2023-03-03  23476.632812  23479.347656  22213.238281  22362.679688   \n",
       "2023-03-04  22362.923828  22405.177734  22198.980469  22353.349609   \n",
       "2023-03-05  22354.144531  22613.685547  22307.142578  22435.513672   \n",
       "2023-03-06  22436.816406  22584.292969  22331.314453  22429.757812   \n",
       "\n",
       "               Adj Close       Volume   Symbol  \n",
       "Date                                            \n",
       "2020-03-07   8909.954102  36216930370  BTC-USD  \n",
       "2020-03-08   8108.116211  39973102121  BTC-USD  \n",
       "2020-03-09   7923.644531  46936995808  BTC-USD  \n",
       "2020-03-10   7909.729492  42213940994  BTC-USD  \n",
       "2020-03-11   7911.430176  38682762605  BTC-USD  \n",
       "...                  ...          ...      ...  \n",
       "2023-03-02  23475.466797  20386398516  BTC-USD  \n",
       "2023-03-03  22362.679688  26062404610  BTC-USD  \n",
       "2023-03-04  22353.349609  11166012913  BTC-USD  \n",
       "2023-03-05  22435.513672  13317001733  BTC-USD  \n",
       "2023-03-06  22429.757812  17353192895  BTC-USD  \n",
       "\n",
       "[1095 rows x 7 columns]"
      ]
     },
     "execution_count": 46,
     "metadata": {},
     "output_type": "execute_result"
    }
   ],
   "source": [
    "data['BTC-USD']"
   ]
  },
  {
   "cell_type": "code",
   "execution_count": null,
   "id": "2b0204d6",
   "metadata": {},
   "outputs": [],
   "source": []
  }
 ],
 "metadata": {
  "kernelspec": {
   "display_name": "Python 3 (ipykernel)",
   "language": "python",
   "name": "python3"
  },
  "language_info": {
   "codemirror_mode": {
    "name": "ipython",
    "version": 3
   },
   "file_extension": ".py",
   "mimetype": "text/x-python",
   "name": "python",
   "nbconvert_exporter": "python",
   "pygments_lexer": "ipython3",
   "version": "3.10.6"
  }
 },
 "nbformat": 4,
 "nbformat_minor": 5
}
