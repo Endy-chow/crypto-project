{
 "cells": [
  {
   "cell_type": "code",
   "execution_count": 4,
   "id": "8a98ae2d",
   "metadata": {},
   "outputs": [],
   "source": [
    "import pandas as pd \n",
    "import seaborn as sns\n",
    "import numpy as np\n",
    "import matplotlib.pyplot as plt\n",
    "import matplotlib"
   ]
  },
  {
   "cell_type": "code",
   "execution_count": 5,
   "id": "3c334a89",
   "metadata": {},
   "outputs": [],
   "source": [
    "data = pd.read_csv('merged_raw_data_sentiment_timestamp_pl110323.csv', lineterminator='\\n')"
   ]
  },
  {
   "cell_type": "code",
   "execution_count": null,
   "id": "3c8dd357",
   "metadata": {},
   "outputs": [],
   "source": [
    "#remove duplicates and add users to blacklist\n",
    "#remove users who post supiciouskly large frequency of tweets\n",
    "#remove suspicious n-grams in tweets"
   ]
  },
  {
   "cell_type": "code",
   "execution_count": null,
   "id": "077c0fe4",
   "metadata": {},
   "outputs": [],
   "source": [
    "#remove duplicates and add users to blacklist"
   ]
  },
  {
   "cell_type": "code",
   "execution_count": 7,
   "id": "8c58c1af",
   "metadata": {},
   "outputs": [
    {
     "data": {
      "text/html": [
       "<div>\n",
       "<style scoped>\n",
       "    .dataframe tbody tr th:only-of-type {\n",
       "        vertical-align: middle;\n",
       "    }\n",
       "\n",
       "    .dataframe tbody tr th {\n",
       "        vertical-align: top;\n",
       "    }\n",
       "\n",
       "    .dataframe thead th {\n",
       "        text-align: right;\n",
       "    }\n",
       "</style>\n",
       "<table border=\"1\" class=\"dataframe\">\n",
       "  <thead>\n",
       "    <tr style=\"text-align: right;\">\n",
       "      <th></th>\n",
       "      <th>Unnamed: 0.1</th>\n",
       "      <th>Unnamed: 0</th>\n",
       "      <th>datetime</th>\n",
       "      <th>username</th>\n",
       "      <th>text</th>\n",
       "      <th>date</th>\n",
       "      <th>negative_bert</th>\n",
       "      <th>neutral_bert</th>\n",
       "      <th>positive_bert</th>\n",
       "    </tr>\n",
       "  </thead>\n",
       "  <tbody>\n",
       "    <tr>\n",
       "      <th>0</th>\n",
       "      <td>0</td>\n",
       "      <td>0</td>\n",
       "      <td>2021-01-01 22:09:59+00:00</td>\n",
       "      <td>sivilianlife</td>\n",
       "      <td>What's the chances @Grayscale is hedging short...</td>\n",
       "      <td>2021-01-01</td>\n",
       "      <td>0.002040</td>\n",
       "      <td>0.951312</td>\n",
       "      <td>0.046648</td>\n",
       "    </tr>\n",
       "    <tr>\n",
       "      <th>1</th>\n",
       "      <td>1</td>\n",
       "      <td>1</td>\n",
       "      <td>2021-01-01 22:09:39+00:00</td>\n",
       "      <td>LudicrousSpeed9</td>\n",
       "      <td>@CNBC Buy #Bitcoin to hedge against the result...</td>\n",
       "      <td>2021-01-01</td>\n",
       "      <td>0.004157</td>\n",
       "      <td>0.400750</td>\n",
       "      <td>0.595093</td>\n",
       "    </tr>\n",
       "    <tr>\n",
       "      <th>2</th>\n",
       "      <td>2</td>\n",
       "      <td>2</td>\n",
       "      <td>2021-01-01 22:09:35+00:00</td>\n",
       "      <td>SergioBowers1</td>\n",
       "      <td>@APompliano @pepsi  @MonsterEnergy  $DEO $KO e...</td>\n",
       "      <td>2021-01-01</td>\n",
       "      <td>0.000248</td>\n",
       "      <td>0.582107</td>\n",
       "      <td>0.417644</td>\n",
       "    </tr>\n",
       "    <tr>\n",
       "      <th>3</th>\n",
       "      <td>3</td>\n",
       "      <td>3</td>\n",
       "      <td>2021-01-01 22:09:35+00:00</td>\n",
       "      <td>bmurphypointman</td>\n",
       "      <td>#entrepreneurs #selfemployed #traveling #Affil...</td>\n",
       "      <td>2021-01-01</td>\n",
       "      <td>0.000084</td>\n",
       "      <td>0.816604</td>\n",
       "      <td>0.183312</td>\n",
       "    </tr>\n",
       "    <tr>\n",
       "      <th>4</th>\n",
       "      <td>4</td>\n",
       "      <td>4</td>\n",
       "      <td>2021-01-01 22:09:21+00:00</td>\n",
       "      <td>bitvestor</td>\n",
       "      <td>Closed another chunk of this long now. Remaind...</td>\n",
       "      <td>2021-01-01</td>\n",
       "      <td>0.000974</td>\n",
       "      <td>0.807066</td>\n",
       "      <td>0.191960</td>\n",
       "    </tr>\n",
       "  </tbody>\n",
       "</table>\n",
       "</div>"
      ],
      "text/plain": [
       "   Unnamed: 0.1  Unnamed: 0                   datetime         username  \\\n",
       "0             0           0  2021-01-01 22:09:59+00:00     sivilianlife   \n",
       "1             1           1  2021-01-01 22:09:39+00:00  LudicrousSpeed9   \n",
       "2             2           2  2021-01-01 22:09:35+00:00    SergioBowers1   \n",
       "3             3           3  2021-01-01 22:09:35+00:00  bmurphypointman   \n",
       "4             4           4  2021-01-01 22:09:21+00:00        bitvestor   \n",
       "\n",
       "                                                text        date  \\\n",
       "0  What's the chances @Grayscale is hedging short...  2021-01-01   \n",
       "1  @CNBC Buy #Bitcoin to hedge against the result...  2021-01-01   \n",
       "2  @APompliano @pepsi  @MonsterEnergy  $DEO $KO e...  2021-01-01   \n",
       "3  #entrepreneurs #selfemployed #traveling #Affil...  2021-01-01   \n",
       "4  Closed another chunk of this long now. Remaind...  2021-01-01   \n",
       "\n",
       "   negative_bert  neutral_bert  positive_bert  \n",
       "0       0.002040      0.951312       0.046648  \n",
       "1       0.004157      0.400750       0.595093  \n",
       "2       0.000248      0.582107       0.417644  \n",
       "3       0.000084      0.816604       0.183312  \n",
       "4       0.000974      0.807066       0.191960  "
      ]
     },
     "execution_count": 7,
     "metadata": {},
     "output_type": "execute_result"
    }
   ],
   "source": [
    "data.head()"
   ]
  },
  {
   "cell_type": "code",
   "execution_count": 9,
   "id": "b090f1d0",
   "metadata": {},
   "outputs": [],
   "source": [
    "data= data[['datetime', 'username', 'text', 'date',\n",
    "       'negative_bert', 'neutral_bert', 'positive_bert']]"
   ]
  },
  {
   "cell_type": "code",
   "execution_count": 16,
   "id": "3a6f3c11",
   "metadata": {},
   "outputs": [],
   "source": [
    "dup_tweets = data[data['text'].duplicated()]\n",
    "blacklist = []\n",
    "for name in dup_tweets['username']:\n",
    "    blacklist.append(name)\n",
    "\n",
    "blacklist = list(set(blacklist))"
   ]
  },
  {
   "cell_type": "code",
   "execution_count": 19,
   "id": "daf2b143",
   "metadata": {},
   "outputs": [
    {
     "data": {
      "text/plain": [
       "1340"
      ]
     },
     "execution_count": 19,
     "metadata": {},
     "output_type": "execute_result"
    }
   ],
   "source": [
    "len(blacklist)"
   ]
  },
  {
   "cell_type": "code",
   "execution_count": 20,
   "id": "c0b9a4aa",
   "metadata": {},
   "outputs": [],
   "source": [
    "def to_remove(x):\n",
    "    if x in blacklist:\n",
    "        return True\n",
    "    else:\n",
    "        return False"
   ]
  },
  {
   "cell_type": "code",
   "execution_count": 21,
   "id": "790f5271",
   "metadata": {},
   "outputs": [],
   "source": [
    "data['to_remove'] = data['username'].apply(to_remove)"
   ]
  },
  {
   "cell_type": "code",
   "execution_count": 25,
   "id": "a9bffb00",
   "metadata": {},
   "outputs": [],
   "source": [
    "mask = data['to_remove']\n",
    "data2 = data[~mask]"
   ]
  },
  {
   "cell_type": "code",
   "execution_count": 26,
   "id": "dee67800",
   "metadata": {},
   "outputs": [
    {
     "data": {
      "text/plain": [
       "(347668, 8)"
      ]
     },
     "execution_count": 26,
     "metadata": {},
     "output_type": "execute_result"
    }
   ],
   "source": [
    "data2.shape"
   ]
  },
  {
   "cell_type": "code",
   "execution_count": 28,
   "id": "69376a98",
   "metadata": {},
   "outputs": [],
   "source": [
    "data2.to_csv('raw_tweets_without_dupes_120323.csv')"
   ]
  },
  {
   "cell_type": "code",
   "execution_count": 27,
   "id": "31afceb1",
   "metadata": {},
   "outputs": [],
   "source": [
    "#remove users who post supiciouskly large frequency of tweets"
   ]
  }
 ],
 "metadata": {
  "kernelspec": {
   "display_name": "Python 3 (ipykernel)",
   "language": "python",
   "name": "python3"
  },
  "language_info": {
   "codemirror_mode": {
    "name": "ipython",
    "version": 3
   },
   "file_extension": ".py",
   "mimetype": "text/x-python",
   "name": "python",
   "nbconvert_exporter": "python",
   "pygments_lexer": "ipython3",
   "version": "3.10.6"
  },
  "toc": {
   "base_numbering": 1,
   "nav_menu": {},
   "number_sections": true,
   "sideBar": true,
   "skip_h1_title": false,
   "title_cell": "Table of Contents",
   "title_sidebar": "Contents",
   "toc_cell": false,
   "toc_position": {},
   "toc_section_display": true,
   "toc_window_display": false
  }
 },
 "nbformat": 4,
 "nbformat_minor": 5
}
