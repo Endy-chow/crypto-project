{
 "cells": [
  {
   "cell_type": "code",
   "execution_count": 1,
   "id": "9355a76e",
   "metadata": {},
   "outputs": [],
   "source": [
    "import pandas as pd \n",
    "import seaborn as sns\n",
    "import numpy as np\n",
    "import matplotlib.pyplot as plt\n",
    "import matplotlib\n",
    "import datetime as dt\n",
    "import time"
   ]
  },
  {
   "cell_type": "code",
   "execution_count": null,
   "id": "ffbd1043",
   "metadata": {},
   "outputs": [],
   "source": []
  },
  {
   "cell_type": "code",
   "execution_count": 2,
   "id": "e418f262",
   "metadata": {},
   "outputs": [],
   "source": [
    "#excluding users who have sent the same message more than once"
   ]
  },
  {
   "cell_type": "code",
   "execution_count": null,
   "id": "985dc487",
   "metadata": {},
   "outputs": [],
   "source": []
  },
  {
   "cell_type": "code",
   "execution_count": 3,
   "id": "dae502dd",
   "metadata": {},
   "outputs": [],
   "source": [
    "#exclude users who have sent an unusually high number of messages"
   ]
  },
  {
   "cell_type": "code",
   "execution_count": null,
   "id": "18841aac",
   "metadata": {},
   "outputs": [],
   "source": [
    "#removing messages with suspicious n-grams 'free bitcoin' (of any order), with hyperlinks (?)"
   ]
  }
 ],
 "metadata": {
  "kernelspec": {
   "display_name": "Python 3 (ipykernel)",
   "language": "python",
   "name": "python3"
  },
  "language_info": {
   "codemirror_mode": {
    "name": "ipython",
    "version": 3
   },
   "file_extension": ".py",
   "mimetype": "text/x-python",
   "name": "python",
   "nbconvert_exporter": "python",
   "pygments_lexer": "ipython3",
   "version": "3.10.6"
  },
  "toc": {
   "base_numbering": 1,
   "nav_menu": {},
   "number_sections": true,
   "sideBar": true,
   "skip_h1_title": false,
   "title_cell": "Table of Contents",
   "title_sidebar": "Contents",
   "toc_cell": false,
   "toc_position": {},
   "toc_section_display": true,
   "toc_window_display": false
  }
 },
 "nbformat": 4,
 "nbformat_minor": 5
}
