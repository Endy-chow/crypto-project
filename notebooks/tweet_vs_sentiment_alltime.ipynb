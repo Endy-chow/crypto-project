{
 "cells": [
  {
   "cell_type": "code",
   "execution_count": 1,
   "id": "2eea347a",
   "metadata": {},
   "outputs": [],
   "source": [
    "import pandas as pd\n",
    "import seaborn as sns\n",
    "import matplotlib\n",
    "import matplotlib.pyplot as plt\n",
    "import numpy as np\n",
    "import matplotlib.dates as md\n",
    "from matplotlib.dates import MO, TU, WE, TH, FR, SA, SU"
   ]
  },
  {
   "cell_type": "code",
   "execution_count": 2,
   "id": "d100d1b7",
   "metadata": {},
   "outputs": [],
   "source": [
    "#adding moving average, price and volume"
   ]
  },
  {
   "cell_type": "code",
   "execution_count": 3,
   "id": "02b0a3ce",
   "metadata": {},
   "outputs": [],
   "source": [
    "data = pd.read_csv('cleaned_tweets_without_dupes_120323.csv', lineterminator='\\n')"
   ]
  },
  {
   "cell_type": "code",
   "execution_count": 4,
   "id": "abcc1315",
   "metadata": {},
   "outputs": [
    {
     "data": {
      "text/html": [
       "<div>\n",
       "<style scoped>\n",
       "    .dataframe tbody tr th:only-of-type {\n",
       "        vertical-align: middle;\n",
       "    }\n",
       "\n",
       "    .dataframe tbody tr th {\n",
       "        vertical-align: top;\n",
       "    }\n",
       "\n",
       "    .dataframe thead th {\n",
       "        text-align: right;\n",
       "    }\n",
       "</style>\n",
       "<table border=\"1\" class=\"dataframe\">\n",
       "  <thead>\n",
       "    <tr style=\"text-align: right;\">\n",
       "      <th></th>\n",
       "      <th>Unnamed: 0</th>\n",
       "      <th>datetime</th>\n",
       "      <th>username</th>\n",
       "      <th>text</th>\n",
       "      <th>date</th>\n",
       "      <th>negative_bert</th>\n",
       "      <th>neutral_bert</th>\n",
       "      <th>positive_bert</th>\n",
       "    </tr>\n",
       "  </thead>\n",
       "  <tbody>\n",
       "    <tr>\n",
       "      <th>0</th>\n",
       "      <td>0</td>\n",
       "      <td>2021-01-01 22:09:59+00:00</td>\n",
       "      <td>sivilianlife</td>\n",
       "      <td>What's the chances @Grayscale is hedging short...</td>\n",
       "      <td>2021-01-01</td>\n",
       "      <td>0.002040</td>\n",
       "      <td>0.951312</td>\n",
       "      <td>0.046648</td>\n",
       "    </tr>\n",
       "    <tr>\n",
       "      <th>1</th>\n",
       "      <td>1</td>\n",
       "      <td>2021-01-01 22:09:39+00:00</td>\n",
       "      <td>LudicrousSpeed9</td>\n",
       "      <td>@CNBC Buy #Bitcoin to hedge against the result...</td>\n",
       "      <td>2021-01-01</td>\n",
       "      <td>0.004157</td>\n",
       "      <td>0.400750</td>\n",
       "      <td>0.595093</td>\n",
       "    </tr>\n",
       "    <tr>\n",
       "      <th>2</th>\n",
       "      <td>2</td>\n",
       "      <td>2021-01-01 22:09:35+00:00</td>\n",
       "      <td>SergioBowers1</td>\n",
       "      <td>@APompliano @pepsi  @MonsterEnergy  $DEO $KO e...</td>\n",
       "      <td>2021-01-01</td>\n",
       "      <td>0.000248</td>\n",
       "      <td>0.582107</td>\n",
       "      <td>0.417644</td>\n",
       "    </tr>\n",
       "    <tr>\n",
       "      <th>3</th>\n",
       "      <td>3</td>\n",
       "      <td>2021-01-01 22:09:21+00:00</td>\n",
       "      <td>bitvestor</td>\n",
       "      <td>Closed another chunk of this long now. Remaind...</td>\n",
       "      <td>2021-01-01</td>\n",
       "      <td>0.000974</td>\n",
       "      <td>0.807066</td>\n",
       "      <td>0.191960</td>\n",
       "    </tr>\n",
       "    <tr>\n",
       "      <th>4</th>\n",
       "      <td>4</td>\n",
       "      <td>2021-01-01 22:09:18+00:00</td>\n",
       "      <td>FROMKAIWITHLOVE</td>\n",
       "      <td>When you dig deeper into #kardiachain company ...</td>\n",
       "      <td>2021-01-01</td>\n",
       "      <td>0.000056</td>\n",
       "      <td>0.223449</td>\n",
       "      <td>0.776495</td>\n",
       "    </tr>\n",
       "  </tbody>\n",
       "</table>\n",
       "</div>"
      ],
      "text/plain": [
       "   Unnamed: 0                   datetime         username  \\\n",
       "0           0  2021-01-01 22:09:59+00:00     sivilianlife   \n",
       "1           1  2021-01-01 22:09:39+00:00  LudicrousSpeed9   \n",
       "2           2  2021-01-01 22:09:35+00:00    SergioBowers1   \n",
       "3           3  2021-01-01 22:09:21+00:00        bitvestor   \n",
       "4           4  2021-01-01 22:09:18+00:00  FROMKAIWITHLOVE   \n",
       "\n",
       "                                                text        date  \\\n",
       "0  What's the chances @Grayscale is hedging short...  2021-01-01   \n",
       "1  @CNBC Buy #Bitcoin to hedge against the result...  2021-01-01   \n",
       "2  @APompliano @pepsi  @MonsterEnergy  $DEO $KO e...  2021-01-01   \n",
       "3  Closed another chunk of this long now. Remaind...  2021-01-01   \n",
       "4  When you dig deeper into #kardiachain company ...  2021-01-01   \n",
       "\n",
       "   negative_bert  neutral_bert  positive_bert  \n",
       "0       0.002040      0.951312       0.046648  \n",
       "1       0.004157      0.400750       0.595093  \n",
       "2       0.000248      0.582107       0.417644  \n",
       "3       0.000974      0.807066       0.191960  \n",
       "4       0.000056      0.223449       0.776495  "
      ]
     },
     "execution_count": 4,
     "metadata": {},
     "output_type": "execute_result"
    }
   ],
   "source": [
    "data.head()"
   ]
  },
  {
   "cell_type": "code",
   "execution_count": null,
   "id": "fa040c16",
   "metadata": {},
   "outputs": [],
   "source": [
    "data = data[['datetime', 'username', 'text', 'date', 'negative_bert','neutral_bert', 'positive_bert']]"
   ]
  },
  {
   "cell_type": "code",
   "execution_count": null,
   "id": "a9316a20",
   "metadata": {},
   "outputs": [],
   "source": [
    "data.to_csv('cleaned_tweets_without_dupes_120323.csv', lineterminator='\\n')"
   ]
  },
  {
   "cell_type": "code",
   "execution_count": null,
   "id": "365e9982",
   "metadata": {},
   "outputs": [],
   "source": [
    "data.head()"
   ]
  },
  {
   "cell_type": "code",
   "execution_count": null,
   "id": "0513642e",
   "metadata": {
    "scrolled": true
   },
   "outputs": [],
   "source": [
    "data2 = data.groupby(by='date').mean()"
   ]
  },
  {
   "cell_type": "code",
   "execution_count": null,
   "id": "81aed960",
   "metadata": {},
   "outputs": [],
   "source": [
    "data2['MA7_Sentiment'] = data2['positive_bert'].rolling(window=7).mean()\n",
    "data2['MA20_Sentiment'] = data2['positive_bert'].rolling(window=21).mean()\n",
    "data2['MA50_Sentiment'] = data2['positive_bert'].rolling(window=51).mean()"
   ]
  },
  {
   "cell_type": "code",
   "execution_count": null,
   "id": "50e2b310",
   "metadata": {},
   "outputs": [],
   "source": [
    "BTC_price = pd.read_csv('../raw_data/2021-01-01_2023-03-10_BTC-USD_1d.csv')"
   ]
  },
  {
   "cell_type": "code",
   "execution_count": null,
   "id": "1665c541",
   "metadata": {},
   "outputs": [],
   "source": [
    "data2"
   ]
  },
  {
   "cell_type": "code",
   "execution_count": null,
   "id": "bdb9b1b6",
   "metadata": {},
   "outputs": [],
   "source": [
    "BTC_price"
   ]
  },
  {
   "cell_type": "code",
   "execution_count": null,
   "id": "cd770c50",
   "metadata": {},
   "outputs": [],
   "source": [
    "BTC_price['Adj Close']"
   ]
  },
  {
   "cell_type": "code",
   "execution_count": null,
   "id": "d41c0c6f",
   "metadata": {},
   "outputs": [],
   "source": [
    "data2.reset_index(inplace = True)"
   ]
  },
  {
   "cell_type": "code",
   "execution_count": null,
   "id": "d7dadc61",
   "metadata": {},
   "outputs": [],
   "source": [
    "data2[\"BTC_new\"] = BTC_price['Adj Close']"
   ]
  },
  {
   "cell_type": "code",
   "execution_count": null,
   "id": "57cf7528",
   "metadata": {},
   "outputs": [],
   "source": [
    "data2.head()"
   ]
  },
  {
   "cell_type": "code",
   "execution_count": null,
   "id": "a5838786",
   "metadata": {},
   "outputs": [],
   "source": [
    "data2"
   ]
  },
  {
   "cell_type": "code",
   "execution_count": null,
   "id": "75a56f12",
   "metadata": {},
   "outputs": [],
   "source": [
    "data2['date']=pd.to_datetime(data2['date'])"
   ]
  },
  {
   "cell_type": "code",
   "execution_count": null,
   "id": "47bf8c2f",
   "metadata": {},
   "outputs": [],
   "source": [
    "matplotlib.rc_file_defaults()\n",
    "ax1 = sns.set_style(\"whitegrid\")\n",
    "# ax1 = sns.color_palette('bright')\n",
    "\n",
    "fig, ax1 = plt.subplots(figsize=(40,8))\n",
    "\n",
    "sns.lineplot(x = data2['date'], y=data2['BTC_new'], marker='o', sort = False, color='orange')\n",
    "sns.color_palette('deep')\n",
    "ax2 = ax1.twinx()\n",
    "sns.color_palette('deep')\n",
    "sns.lineplot(x = data2['date'], y=data2['MA7_Sentiment'], marker='o', sort = False, ax=ax2, color='blue').set_xticklabels\n",
    "ax2.xaxis.set_major_locator(md.MonthLocator())\n",
    "ax2.xaxis.set_major_formatter(md.DateFormatter('%Y-%m-%d'))\n",
    "\n",
    "plt.grid()\n"
   ]
  },
  {
   "cell_type": "code",
   "execution_count": null,
   "id": "4d3d784c",
   "metadata": {},
   "outputs": [],
   "source": [
    "#make graph for positive:neutral:negative sentiment over the last 50 days "
   ]
  },
  {
   "cell_type": "code",
   "execution_count": null,
   "id": "c6f95f04",
   "metadata": {},
   "outputs": [],
   "source": [
    "data2.shape"
   ]
  },
  {
   "cell_type": "code",
   "execution_count": null,
   "id": "287f2cab",
   "metadata": {},
   "outputs": [],
   "source": [
    "data3 = data2.iloc[-50:]\n",
    "data3['pos_neg_ratio'] = data3['positive_bert']/data3['negative_bert']\n",
    "data3['pos_neg_ratio'] = data3['positive_bert']/data3['negative_bert']\n",
    "max_ = data3['positive_bert'].max()\n",
    "min_ = data3['positive_bert'].min()\n",
    "data3['pos_adj'] = ((data3['positive_bert'])/(data3['positive_bert'] + data3['negative_bert']))\n",
    "data3['neg_adj'] = ((data3['negative_bert'])/(data3['positive_bert'] + data3['negative_bert']))\n"
   ]
  },
  {
   "cell_type": "code",
   "execution_count": null,
   "id": "5dd50cae",
   "metadata": {},
   "outputs": [],
   "source": [
    "min_"
   ]
  },
  {
   "cell_type": "code",
   "execution_count": null,
   "id": "29cc522e",
   "metadata": {},
   "outputs": [],
   "source": [
    "data3.head()"
   ]
  },
  {
   "cell_type": "code",
   "execution_count": null,
   "id": "d8bf1755",
   "metadata": {},
   "outputs": [],
   "source": [
    "plt.stackplot(data3.date, data3.neg_adj, data3.MA7_Sentiment)"
   ]
  },
  {
   "cell_type": "code",
   "execution_count": null,
   "id": "04fb6df2",
   "metadata": {},
   "outputs": [],
   "source": [
    "data2.head()"
   ]
  },
  {
   "cell_type": "code",
   "execution_count": null,
   "id": "32fa5ff1",
   "metadata": {},
   "outputs": [],
   "source": [
    "# sns.lineplot(data = data2['BTC_price_adjclose'], marker='o', sort = False)\n",
    "# sns.lineplot(data = data2['MA7_Sentiment'], marker='o', sort = False)\n",
    "\n",
    "sns.lineplot(data=data3)"
   ]
  },
  {
   "cell_type": "code",
   "execution_count": null,
   "id": "b009e1c7",
   "metadata": {},
   "outputs": [],
   "source": [
    "data2['bitcoin_volume'] = BTC_price['Volume']"
   ]
  },
  {
   "cell_type": "code",
   "execution_count": null,
   "id": "365b38d4",
   "metadata": {},
   "outputs": [],
   "source": [
    "data2"
   ]
  },
  {
   "cell_type": "code",
   "execution_count": null,
   "id": "7a918c8e",
   "metadata": {},
   "outputs": [],
   "source": [
    "data2 = data2[['date', 'negative_bert', 'neutral_bert', 'positive_bert',\n",
    "       'MA20_Sentiment', 'MA50_Sentiment',       'MA7_Sentiment', 'BTC_new', 'bitcoin_volume']]"
   ]
  },
  {
   "cell_type": "code",
   "execution_count": null,
   "id": "894824fc",
   "metadata": {},
   "outputs": [],
   "source": [
    "# data2 = data2.rename(columns={\"negative_bert\": \"average_neg\", \"neutral_bert\": \"average_neu\", \"positive_bert\": \"average_pos\", 'BTC_new':'BTC_price'}),"
   ]
  },
  {
   "cell_type": "code",
   "execution_count": null,
   "id": "78a94383",
   "metadata": {},
   "outputs": [],
   "source": [
    "data2.to_csv('price_volume_sentiment_perday.csv')"
   ]
  }
 ],
 "metadata": {
  "kernelspec": {
   "display_name": "Python 3 (ipykernel)",
   "language": "python",
   "name": "python3"
  },
  "language_info": {
   "codemirror_mode": {
    "name": "ipython",
    "version": 3
   },
   "file_extension": ".py",
   "mimetype": "text/x-python",
   "name": "python",
   "nbconvert_exporter": "python",
   "pygments_lexer": "ipython3",
   "version": "3.10.6"
  },
  "toc": {
   "base_numbering": 1,
   "nav_menu": {},
   "number_sections": true,
   "sideBar": true,
   "skip_h1_title": false,
   "title_cell": "Table of Contents",
   "title_sidebar": "Contents",
   "toc_cell": false,
   "toc_position": {},
   "toc_section_display": true,
   "toc_window_display": false
  }
 },
 "nbformat": 4,
 "nbformat_minor": 5
}
