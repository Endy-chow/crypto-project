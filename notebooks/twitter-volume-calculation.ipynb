{
 "cells": [
  {
   "cell_type": "code",
   "execution_count": 95,
   "id": "d26e515e",
   "metadata": {},
   "outputs": [],
   "source": [
    "import pandas as pd \n",
    "import seaborn as sns\n",
    "import numpy as np\n",
    "import matplotlib.pyplot as plt\n",
    "import matplotlib\n",
    "import datetime as dt\n",
    "import time"
   ]
  },
  {
   "cell_type": "code",
   "execution_count": 20,
   "id": "06fcbe53",
   "metadata": {},
   "outputs": [
    {
     "name": "stdout",
     "output_type": "stream",
     "text": [
      "<class 'pandas.core.frame.DataFrame'>\n",
      "RangeIndex: 39513 entries, 0 to 39512\n",
      "Data columns (total 3 columns):\n",
      " #   Column    Non-Null Count  Dtype \n",
      "---  ------    --------------  ----- \n",
      " 0   datetime  39513 non-null  object\n",
      " 1   username  39513 non-null  object\n",
      " 2   text\r",
      "     39513 non-null  object\n",
      "dtypes: object(3)\n",
      "memory usage: 926.2+ KB\n"
     ]
    }
   ],
   "source": [
    "data1 = pd.read_csv('../raw_data/24-09-22_to_24-12-23.csv', lineterminator='\\n')\n",
    "data1.info()"
   ]
  },
  {
   "cell_type": "code",
   "execution_count": 23,
   "id": "45fffab4",
   "metadata": {},
   "outputs": [
    {
     "name": "stdout",
     "output_type": "stream",
     "text": [
      "<class 'pandas.core.frame.DataFrame'>\n",
      "RangeIndex: 39513 entries, 0 to 39512\n",
      "Data columns (total 3 columns):\n",
      " #   Column    Non-Null Count  Dtype              \n",
      "---  ------    --------------  -----              \n",
      " 0   datetime  39513 non-null  datetime64[ns, UTC]\n",
      " 1   username  39513 non-null  object             \n",
      " 2   text\r",
      "     39513 non-null  object             \n",
      "dtypes: datetime64[ns, UTC](1), object(2)\n",
      "memory usage: 926.2+ KB\n"
     ]
    }
   ],
   "source": [
    "data1['datetime'] = pd.to_datetime(data1['datetime'])\n",
    "data1.info()"
   ]
  },
  {
   "cell_type": "code",
   "execution_count": 107,
   "id": "0a30df76",
   "metadata": {},
   "outputs": [
    {
     "data": {
      "text/plain": [
       "0        2022-09-24\n",
       "1        2022-09-24\n",
       "2        2022-09-24\n",
       "3        2022-09-24\n",
       "4        2022-09-24\n",
       "            ...    \n",
       "39508    2022-12-23\n",
       "39509    2022-12-23\n",
       "39510    2022-12-23\n",
       "39511    2022-12-23\n",
       "39512    2022-12-23\n",
       "Name: datetime, Length: 39513, dtype: object"
      ]
     },
     "execution_count": 107,
     "metadata": {},
     "output_type": "execute_result"
    }
   ],
   "source": [
    "data1['datetime'].dt.date"
   ]
  },
  {
   "cell_type": "code",
   "execution_count": 130,
   "id": "b3218b6b",
   "metadata": {
    "scrolled": true
   },
   "outputs": [
    {
     "name": "stderr",
     "output_type": "stream",
     "text": [
      "/tmp/ipykernel_6167/1909231297.py:21: SettingWithCopyWarning: \n",
      "A value is trying to be set on a copy of a slice from a DataFrame\n",
      "\n",
      "See the caveats in the documentation: https://pandas.pydata.org/pandas-docs/stable/user_guide/indexing.html#returning-a-view-versus-a-copy\n",
      "  data1['segment_tweets'][index] = i\n",
      "/tmp/ipykernel_6167/1909231297.py:16: SettingWithCopyWarning: \n",
      "A value is trying to be set on a copy of a slice from a DataFrame\n",
      "\n",
      "See the caveats in the documentation: https://pandas.pydata.org/pandas-docs/stable/user_guide/indexing.html#returning-a-view-versus-a-copy\n",
      "  data1['tweet_per_10_mins'][prev_ind] = i\n",
      "/tmp/ipykernel_6167/1909231297.py:11: SettingWithCopyWarning: \n",
      "A value is trying to be set on a copy of a slice from a DataFrame\n",
      "\n",
      "See the caveats in the documentation: https://pandas.pydata.org/pandas-docs/stable/user_guide/indexing.html#returning-a-view-versus-a-copy\n",
      "  data1['tweet_per_10_mins'][prev_ind] = 600*i/((first_time - last_time).total_seconds())\n"
     ]
    },
    {
     "name": "stdout",
     "output_type": "stream",
     "text": [
      "240.08696579933167\n"
     ]
    },
    {
     "name": "stderr",
     "output_type": "stream",
     "text": [
      "/tmp/ipykernel_6167/1909231297.py:26: FutureWarning: The default value of numeric_only in DataFrameGroupBy.sum is deprecated. In a future version, numeric_only will default to False. Either specify numeric_only or select only columns which should be valid for the function.\n",
      "  data2 = data1.groupby(by = 'date').sum()\n"
     ]
    }
   ],
   "source": [
    "def return_tweet_volume_scraped_data(data1 )\n",
    "    start = time.time()\n",
    "    i=1\n",
    "    first_time = data1['datetime'][0]\n",
    "    data1['tweet_per_10_mins'] = 0\n",
    "    data1['segment_tweets'] = 0\n",
    "    hour = data1['datetime'].dt.hour[0]\n",
    "    for index, datetime in enumerate(data1['datetime']):\n",
    "        if data1['datetime'].dt.hour[index] != hour:\n",
    "            if i == 150:\n",
    "                prev_ind = index-1\n",
    "                data1['tweet_per_10_mins'][prev_ind] = 600*i/((first_time - last_time).total_seconds())\n",
    "                i = 0\n",
    "                first_time = data1['datetime'][index]\n",
    "            else:\n",
    "                prev_ind = index-1\n",
    "                data1['tweet_per_10_mins'][prev_ind] = i\n",
    "                i = 0\n",
    "                first_time = data1['datetime'][index]\n",
    "        else: \n",
    "            pass\n",
    "        data1['segment_tweets'][index] = i\n",
    "        i = i + 1\n",
    "        hour = data1['datetime'].dt.hour[index]\n",
    "        last_time = data1['datetime'][index]\n",
    "\n",
    "    data2 = data1.groupby(by = 'date').sum()\n",
    "    data2['tweets_per_day'] = data2['tweet_per_10_mins']*48\n",
    "    end = time.time()\n",
    "    print(end - start)\n",
    "return data2\n"
   ]
  },
  {
   "cell_type": "code",
   "execution_count": 132,
   "id": "14c99194",
   "metadata": {},
   "outputs": [
    {
     "data": {
      "text/html": [
       "<div>\n",
       "<style scoped>\n",
       "    .dataframe tbody tr th:only-of-type {\n",
       "        vertical-align: middle;\n",
       "    }\n",
       "\n",
       "    .dataframe tbody tr th {\n",
       "        vertical-align: top;\n",
       "    }\n",
       "\n",
       "    .dataframe thead th {\n",
       "        text-align: right;\n",
       "    }\n",
       "</style>\n",
       "<table border=\"1\" class=\"dataframe\">\n",
       "  <thead>\n",
       "    <tr style=\"text-align: right;\">\n",
       "      <th></th>\n",
       "      <th>daily_rate</th>\n",
       "      <th>tweet_ps</th>\n",
       "      <th>tweets_per_10_mins</th>\n",
       "      <th>tweet_per_10_mins</th>\n",
       "      <th>segment_tweets</th>\n",
       "      <th>tweets_per_day</th>\n",
       "    </tr>\n",
       "    <tr>\n",
       "      <th>date</th>\n",
       "      <th></th>\n",
       "      <th></th>\n",
       "      <th></th>\n",
       "      <th></th>\n",
       "      <th></th>\n",
       "      <th></th>\n",
       "    </tr>\n",
       "  </thead>\n",
       "  <tbody>\n",
       "    <tr>\n",
       "      <th>2022-09-24</th>\n",
       "      <td>0.183639</td>\n",
       "      <td>110</td>\n",
       "      <td>0</td>\n",
       "      <td>376.639175</td>\n",
       "      <td>23386</td>\n",
       "      <td>18078.680412</td>\n",
       "    </tr>\n",
       "    <tr>\n",
       "      <th>2022-09-25</th>\n",
       "      <td>0.000000</td>\n",
       "      <td>0</td>\n",
       "      <td>0</td>\n",
       "      <td>344.000000</td>\n",
       "      <td>20303</td>\n",
       "      <td>16512.000000</td>\n",
       "    </tr>\n",
       "    <tr>\n",
       "      <th>2022-09-26</th>\n",
       "      <td>0.000000</td>\n",
       "      <td>0</td>\n",
       "      <td>0</td>\n",
       "      <td>439.812062</td>\n",
       "      <td>29731</td>\n",
       "      <td>21110.978962</td>\n",
       "    </tr>\n",
       "    <tr>\n",
       "      <th>2022-09-27</th>\n",
       "      <td>0.000000</td>\n",
       "      <td>0</td>\n",
       "      <td>0</td>\n",
       "      <td>526.696379</td>\n",
       "      <td>30106</td>\n",
       "      <td>25281.426184</td>\n",
       "    </tr>\n",
       "    <tr>\n",
       "      <th>2022-09-28</th>\n",
       "      <td>0.000000</td>\n",
       "      <td>0</td>\n",
       "      <td>0</td>\n",
       "      <td>478.721992</td>\n",
       "      <td>32349</td>\n",
       "      <td>22978.655602</td>\n",
       "    </tr>\n",
       "    <tr>\n",
       "      <th>...</th>\n",
       "      <td>...</td>\n",
       "      <td>...</td>\n",
       "      <td>...</td>\n",
       "      <td>...</td>\n",
       "      <td>...</td>\n",
       "      <td>...</td>\n",
       "    </tr>\n",
       "    <tr>\n",
       "      <th>2022-12-19</th>\n",
       "      <td>0.000000</td>\n",
       "      <td>0</td>\n",
       "      <td>0</td>\n",
       "      <td>483.065432</td>\n",
       "      <td>33081</td>\n",
       "      <td>23187.140752</td>\n",
       "    </tr>\n",
       "    <tr>\n",
       "      <th>2022-12-20</th>\n",
       "      <td>0.000000</td>\n",
       "      <td>0</td>\n",
       "      <td>0</td>\n",
       "      <td>441.358595</td>\n",
       "      <td>29974</td>\n",
       "      <td>21185.212569</td>\n",
       "    </tr>\n",
       "    <tr>\n",
       "      <th>2022-12-21</th>\n",
       "      <td>0.000000</td>\n",
       "      <td>0</td>\n",
       "      <td>0</td>\n",
       "      <td>447.988479</td>\n",
       "      <td>29253</td>\n",
       "      <td>21503.447014</td>\n",
       "    </tr>\n",
       "    <tr>\n",
       "      <th>2022-12-22</th>\n",
       "      <td>0.000000</td>\n",
       "      <td>0</td>\n",
       "      <td>0</td>\n",
       "      <td>449.910448</td>\n",
       "      <td>30951</td>\n",
       "      <td>21595.701493</td>\n",
       "    </tr>\n",
       "    <tr>\n",
       "      <th>2022-12-23</th>\n",
       "      <td>0.000000</td>\n",
       "      <td>0</td>\n",
       "      <td>0</td>\n",
       "      <td>287.870504</td>\n",
       "      <td>30225</td>\n",
       "      <td>13817.784173</td>\n",
       "    </tr>\n",
       "  </tbody>\n",
       "</table>\n",
       "<p>91 rows × 6 columns</p>\n",
       "</div>"
      ],
      "text/plain": [
       "            daily_rate  tweet_ps  tweets_per_10_mins  tweet_per_10_mins  \\\n",
       "date                                                                      \n",
       "2022-09-24    0.183639       110                   0         376.639175   \n",
       "2022-09-25    0.000000         0                   0         344.000000   \n",
       "2022-09-26    0.000000         0                   0         439.812062   \n",
       "2022-09-27    0.000000         0                   0         526.696379   \n",
       "2022-09-28    0.000000         0                   0         478.721992   \n",
       "...                ...       ...                 ...                ...   \n",
       "2022-12-19    0.000000         0                   0         483.065432   \n",
       "2022-12-20    0.000000         0                   0         441.358595   \n",
       "2022-12-21    0.000000         0                   0         447.988479   \n",
       "2022-12-22    0.000000         0                   0         449.910448   \n",
       "2022-12-23    0.000000         0                   0         287.870504   \n",
       "\n",
       "            segment_tweets  tweets_per_day  \n",
       "date                                        \n",
       "2022-09-24           23386    18078.680412  \n",
       "2022-09-25           20303    16512.000000  \n",
       "2022-09-26           29731    21110.978962  \n",
       "2022-09-27           30106    25281.426184  \n",
       "2022-09-28           32349    22978.655602  \n",
       "...                    ...             ...  \n",
       "2022-12-19           33081    23187.140752  \n",
       "2022-12-20           29974    21185.212569  \n",
       "2022-12-21           29253    21503.447014  \n",
       "2022-12-22           30951    21595.701493  \n",
       "2022-12-23           30225    13817.784173  \n",
       "\n",
       "[91 rows x 6 columns]"
      ]
     },
     "execution_count": 132,
     "metadata": {},
     "output_type": "execute_result"
    }
   ],
   "source": [
    "data2"
   ]
  },
  {
   "cell_type": "code",
   "execution_count": 131,
   "id": "9140f8d8",
   "metadata": {},
   "outputs": [
    {
     "data": {
      "text/plain": [
       "<Axes: xlabel='date', ylabel='tweets_per_day'>"
      ]
     },
     "execution_count": 131,
     "metadata": {},
     "output_type": "execute_result"
    },
    {
     "data": {
      "image/png": "[encoded data removed]",
      "text/plain": [
       "<Figure size 640x480 with 1 Axes>"
      ]
     },
     "metadata": {},
     "output_type": "display_data"
    }
   ],
   "source": [
    "sns.barplot(data=data2, x=data2.index, y='tweets_per_day' )"
   ]
  },
  {
   "cell_type": "code",
   "execution_count": null,
   "id": "5bdb9f0f",
   "metadata": {},
   "outputs": [],
   "source": []
  }
 ],
 "metadata": {
  "kernelspec": {
   "display_name": "Python 3 (ipykernel)",
   "language": "python",
   "name": "python3"
  },
  "language_info": {
   "codemirror_mode": {
    "name": "ipython",
    "version": 3
   },
   "file_extension": ".py",
   "mimetype": "text/x-python",
   "name": "python",
   "nbconvert_exporter": "python",
   "pygments_lexer": "ipython3",
   "version": "3.10.6"
  },
  "toc": {
   "base_numbering": 1,
   "nav_menu": {},
   "number_sections": true,
   "sideBar": true,
   "skip_h1_title": false,
   "title_cell": "Table of Contents",
   "title_sidebar": "Contents",
   "toc_cell": false,
   "toc_position": {},
   "toc_section_display": true,
   "toc_window_display": false
  }
 },
 "nbformat": 4,
 "nbformat_minor": 5
}
