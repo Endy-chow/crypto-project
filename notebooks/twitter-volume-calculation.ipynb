{
 "cells": [
  {
   "cell_type": "code",
   "execution_count": 1,
   "id": "d26e515e",
   "metadata": {},
   "outputs": [],
   "source": [
    "import pandas as pd \n",
    "import seaborn as sns\n",
    "import numpy as np\n",
    "import matplotlib.pyplot as plt\n",
    "import matplotlib\n",
    "import datetime as dt\n",
    "import time"
   ]
  },
  {
   "cell_type": "code",
   "execution_count": 4,
   "id": "06fcbe53",
   "metadata": {},
   "outputs": [],
   "source": [
    "data1 = pd.read_csv('../raw_data/cleaned_tweets_without_dupes_120323.csv', lineterminator='\\n')"
   ]
  },
  {
   "cell_type": "code",
   "execution_count": 79,
   "id": "b5651733",
   "metadata": {},
   "outputs": [
    {
     "name": "stdout",
     "output_type": "stream",
     "text": [
      "1\n",
      "2\n",
      "3\n",
      "4\n"
     ]
    }
   ],
   "source": [
    "for i in range(1,5):\n",
    "    print(i)"
   ]
  },
  {
   "cell_type": "code",
   "execution_count": 12,
   "id": "45fffab4",
   "metadata": {},
   "outputs": [
    {
     "name": "stdout",
     "output_type": "stream",
     "text": [
      "<class 'pandas.core.frame.DataFrame'>\n",
      "RangeIndex: 347668 entries, 0 to 347667\n",
      "Data columns (total 8 columns):\n",
      " #   Column         Non-Null Count   Dtype              \n",
      "---  ------         --------------   -----              \n",
      " 0   Unnamed: 0     347668 non-null  int64              \n",
      " 1   datetime       347668 non-null  datetime64[ns, UTC]\n",
      " 2   username       347668 non-null  object             \n",
      " 3   text           347668 non-null  object             \n",
      " 4   date           347668 non-null  object             \n",
      " 5   negative_bert  347668 non-null  float64            \n",
      " 6   neutral_bert   347668 non-null  float64            \n",
      " 7   positive_bert  347668 non-null  float64            \n",
      "dtypes: datetime64[ns, UTC](1), float64(3), int64(1), object(3)\n",
      "memory usage: 21.2+ MB\n"
     ]
    }
   ],
   "source": [
    "data1['datetime'] = pd.to_datetime(data1['datetime'])\n",
    "data1.info()"
   ]
  },
  {
   "cell_type": "code",
   "execution_count": 107,
   "id": "0a30df76",
   "metadata": {},
   "outputs": [
    {
     "data": {
      "text/plain": [
       "0        2022-09-24\n",
       "1        2022-09-24\n",
       "2        2022-09-24\n",
       "3        2022-09-24\n",
       "4        2022-09-24\n",
       "            ...    \n",
       "39508    2022-12-23\n",
       "39509    2022-12-23\n",
       "39510    2022-12-23\n",
       "39511    2022-12-23\n",
       "39512    2022-12-23\n",
       "Name: datetime, Length: 39513, dtype: object"
      ]
     },
     "execution_count": 107,
     "metadata": {},
     "output_type": "execute_result"
    }
   ],
   "source": [
    "data1['datetime'].dt.date"
   ]
  },
  {
   "cell_type": "code",
   "execution_count": 15,
   "id": "b3218b6b",
   "metadata": {
    "scrolled": true
   },
   "outputs": [],
   "source": [
    "def return_tweet_volume_scraped_data(data):\n",
    "    start = time.time()\n",
    "    i=1\n",
    "    first_time = data1['datetime'][0]\n",
    "    data1['tweet_per_10_mins'] = 0\n",
    "    data1['segment_tweets'] = 0\n",
    "    hour = data1['datetime'].dt.hour[0]\n",
    "    for index, datetime in enumerate(data1['datetime']):\n",
    "        if data1['datetime'].dt.hour[index] != hour:\n",
    "            if i == 150:\n",
    "                prev_ind = index-1\n",
    "                data1['tweet_per_10_mins'][prev_ind] = 600*i/((first_time - last_time).total_seconds())\n",
    "                i = 0\n",
    "                first_time = data1['datetime'][index]\n",
    "            else:\n",
    "                prev_ind = index-1\n",
    "                data1['tweet_per_10_mins'][prev_ind] = i\n",
    "                i = 0\n",
    "                first_time = data1['datetime'][index]\n",
    "        else: \n",
    "            pass\n",
    "        data1['segment_tweets'][index] = i\n",
    "        i = i + 1\n",
    "        hour = data1['datetime'].dt.hour[index]\n",
    "        last_time = data1['datetime'][index]\n",
    "\n",
    "    data2 = data1.groupby(by = 'date').sum()\n",
    "    data2['tweets_per_day'] = data2['tweet_per_10_mins']*48\n",
    "    end = time.time()\n",
    "    print(end - start)\n",
    "    return data2\n"
   ]
  },
  {
   "cell_type": "code",
   "execution_count": 16,
   "id": "14c99194",
   "metadata": {},
   "outputs": [
    {
     "name": "stderr",
     "output_type": "stream",
     "text": [
      "/tmp/ipykernel_8377/1523555119.py:22: SettingWithCopyWarning: \n",
      "A value is trying to be set on a copy of a slice from a DataFrame\n",
      "\n",
      "See the caveats in the documentation: https://pandas.pydata.org/pandas-docs/stable/user_guide/indexing.html#returning-a-view-versus-a-copy\n",
      "  data1['segment_tweets'][index] = i\n",
      "/tmp/ipykernel_8377/1523555119.py:17: SettingWithCopyWarning: \n",
      "A value is trying to be set on a copy of a slice from a DataFrame\n",
      "\n",
      "See the caveats in the documentation: https://pandas.pydata.org/pandas-docs/stable/user_guide/indexing.html#returning-a-view-versus-a-copy\n",
      "  data1['tweet_per_10_mins'][prev_ind] = i\n",
      "/tmp/ipykernel_8377/1523555119.py:12: SettingWithCopyWarning: \n",
      "A value is trying to be set on a copy of a slice from a DataFrame\n",
      "\n",
      "See the caveats in the documentation: https://pandas.pydata.org/pandas-docs/stable/user_guide/indexing.html#returning-a-view-versus-a-copy\n",
      "  data1['tweet_per_10_mins'][prev_ind] = 600*i/((first_time - last_time).total_seconds())\n"
     ]
    },
    {
     "ename": "KeyboardInterrupt",
     "evalue": "",
     "output_type": "error",
     "traceback": [
      "\u001b[0;31m---------------------------------------------------------------------------\u001b[0m",
      "\u001b[0;31mKeyboardInterrupt\u001b[0m                         Traceback (most recent call last)",
      "Cell \u001b[0;32mIn[16], line 1\u001b[0m\n\u001b[0;32m----> 1\u001b[0m \u001b[43mreturn_tweet_volume_scraped_data\u001b[49m\u001b[43m(\u001b[49m\u001b[43mdata1\u001b[49m\u001b[43m)\u001b[49m\n",
      "Cell \u001b[0;32mIn[15], line 24\u001b[0m, in \u001b[0;36mreturn_tweet_volume_scraped_data\u001b[0;34m(data)\u001b[0m\n\u001b[1;32m     22\u001b[0m     data1[\u001b[38;5;124m'\u001b[39m\u001b[38;5;124msegment_tweets\u001b[39m\u001b[38;5;124m'\u001b[39m][index] \u001b[38;5;241m=\u001b[39m i\n\u001b[1;32m     23\u001b[0m     i \u001b[38;5;241m=\u001b[39m i \u001b[38;5;241m+\u001b[39m \u001b[38;5;241m1\u001b[39m\n\u001b[0;32m---> 24\u001b[0m     hour \u001b[38;5;241m=\u001b[39m \u001b[43mdata1\u001b[49m\u001b[43m[\u001b[49m\u001b[38;5;124;43m'\u001b[39;49m\u001b[38;5;124;43mdatetime\u001b[39;49m\u001b[38;5;124;43m'\u001b[39;49m\u001b[43m]\u001b[49m\u001b[38;5;241;43m.\u001b[39;49m\u001b[43mdt\u001b[49m\u001b[38;5;241;43m.\u001b[39;49m\u001b[43mhour\u001b[49m[index]\n\u001b[1;32m     25\u001b[0m     last_time \u001b[38;5;241m=\u001b[39m data1[\u001b[38;5;124m'\u001b[39m\u001b[38;5;124mdatetime\u001b[39m\u001b[38;5;124m'\u001b[39m][index]\n\u001b[1;32m     27\u001b[0m data2 \u001b[38;5;241m=\u001b[39m data1\u001b[38;5;241m.\u001b[39mgroupby(by \u001b[38;5;241m=\u001b[39m \u001b[38;5;124m'\u001b[39m\u001b[38;5;124mdate\u001b[39m\u001b[38;5;124m'\u001b[39m)\u001b[38;5;241m.\u001b[39msum()\n",
      "File \u001b[0;32m~/.pyenv/versions/3.10.6/envs/crypto/lib/python3.10/site-packages/pandas/core/accessor.py:80\u001b[0m, in \u001b[0;36mPandasDelegate._add_delegate_accessors.<locals>._create_delegator_property.<locals>._getter\u001b[0;34m(self)\u001b[0m\n\u001b[1;32m     79\u001b[0m \u001b[38;5;28;01mdef\u001b[39;00m \u001b[38;5;21m_getter\u001b[39m(\u001b[38;5;28mself\u001b[39m):\n\u001b[0;32m---> 80\u001b[0m     \u001b[38;5;28;01mreturn\u001b[39;00m \u001b[38;5;28;43mself\u001b[39;49m\u001b[38;5;241;43m.\u001b[39;49m\u001b[43m_delegate_property_get\u001b[49m\u001b[43m(\u001b[49m\u001b[43mname\u001b[49m\u001b[43m)\u001b[49m\n",
      "File \u001b[0;32m~/.pyenv/versions/3.10.6/envs/crypto/lib/python3.10/site-packages/pandas/core/indexes/accessors.py:87\u001b[0m, in \u001b[0;36mProperties._delegate_property_get\u001b[0;34m(self, name)\u001b[0m\n\u001b[1;32m     83\u001b[0m \u001b[38;5;28;01mfrom\u001b[39;00m \u001b[38;5;21;01mpandas\u001b[39;00m \u001b[38;5;28;01mimport\u001b[39;00m Series\n\u001b[1;32m     85\u001b[0m values \u001b[38;5;241m=\u001b[39m \u001b[38;5;28mself\u001b[39m\u001b[38;5;241m.\u001b[39m_get_values()\n\u001b[0;32m---> 87\u001b[0m result \u001b[38;5;241m=\u001b[39m \u001b[38;5;28;43mgetattr\u001b[39;49m\u001b[43m(\u001b[49m\u001b[43mvalues\u001b[49m\u001b[43m,\u001b[49m\u001b[43m \u001b[49m\u001b[43mname\u001b[49m\u001b[43m)\u001b[49m\n\u001b[1;32m     89\u001b[0m \u001b[38;5;66;03m# maybe need to upcast (ints)\u001b[39;00m\n\u001b[1;32m     90\u001b[0m \u001b[38;5;28;01mif\u001b[39;00m \u001b[38;5;28misinstance\u001b[39m(result, np\u001b[38;5;241m.\u001b[39mndarray):\n",
      "File \u001b[0;32m~/.pyenv/versions/3.10.6/envs/crypto/lib/python3.10/site-packages/pandas/core/indexes/extension.py:71\u001b[0m, in \u001b[0;36m_inherit_from_data.<locals>.fget\u001b[0;34m(self)\u001b[0m\n\u001b[1;32m     70\u001b[0m \u001b[38;5;28;01mdef\u001b[39;00m \u001b[38;5;21mfget\u001b[39m(\u001b[38;5;28mself\u001b[39m):\n\u001b[0;32m---> 71\u001b[0m     result \u001b[38;5;241m=\u001b[39m \u001b[38;5;28;43mgetattr\u001b[39;49m\u001b[43m(\u001b[49m\u001b[38;5;28;43mself\u001b[39;49m\u001b[38;5;241;43m.\u001b[39;49m\u001b[43m_data\u001b[49m\u001b[43m,\u001b[49m\u001b[43m \u001b[49m\u001b[43mname\u001b[49m\u001b[43m)\u001b[49m\n\u001b[1;32m     72\u001b[0m     \u001b[38;5;28;01mif\u001b[39;00m wrap:\n\u001b[1;32m     73\u001b[0m         \u001b[38;5;28;01mif\u001b[39;00m \u001b[38;5;28misinstance\u001b[39m(result, \u001b[38;5;28mtype\u001b[39m(\u001b[38;5;28mself\u001b[39m\u001b[38;5;241m.\u001b[39m_data)):\n",
      "File \u001b[0;32m~/.pyenv/versions/3.10.6/envs/crypto/lib/python3.10/site-packages/pandas/core/arrays/datetimes.py:141\u001b[0m, in \u001b[0;36m_field_accessor.<locals>.f\u001b[0;34m(self)\u001b[0m\n\u001b[1;32m    138\u001b[0m     result \u001b[38;5;241m=\u001b[39m \u001b[38;5;28mself\u001b[39m\u001b[38;5;241m.\u001b[39m_maybe_mask_results(result, fill_value\u001b[38;5;241m=\u001b[39m\u001b[38;5;28;01mNone\u001b[39;00m)\n\u001b[1;32m    140\u001b[0m \u001b[38;5;28;01melse\u001b[39;00m:\n\u001b[0;32m--> 141\u001b[0m     result \u001b[38;5;241m=\u001b[39m \u001b[43mfields\u001b[49m\u001b[38;5;241;43m.\u001b[39;49m\u001b[43mget_date_field\u001b[49m\u001b[43m(\u001b[49m\u001b[43mvalues\u001b[49m\u001b[43m,\u001b[49m\u001b[43m \u001b[49m\u001b[43mfield\u001b[49m\u001b[43m,\u001b[49m\u001b[43m \u001b[49m\u001b[43mreso\u001b[49m\u001b[38;5;241;43m=\u001b[39;49m\u001b[38;5;28;43mself\u001b[39;49m\u001b[38;5;241;43m.\u001b[39;49m\u001b[43m_reso\u001b[49m\u001b[43m)\u001b[49m\n\u001b[1;32m    142\u001b[0m     result \u001b[38;5;241m=\u001b[39m \u001b[38;5;28mself\u001b[39m\u001b[38;5;241m.\u001b[39m_maybe_mask_results(\n\u001b[1;32m    143\u001b[0m         result, fill_value\u001b[38;5;241m=\u001b[39m\u001b[38;5;28;01mNone\u001b[39;00m, convert\u001b[38;5;241m=\u001b[39m\u001b[38;5;124m\"\u001b[39m\u001b[38;5;124mfloat64\u001b[39m\u001b[38;5;124m\"\u001b[39m\n\u001b[1;32m    144\u001b[0m     )\n\u001b[1;32m    146\u001b[0m \u001b[38;5;28;01mreturn\u001b[39;00m result\n",
      "\u001b[0;31mKeyboardInterrupt\u001b[0m: "
     ]
    }
   ],
   "source": [
    "return_tweet_volume_scraped_data(data1)"
   ]
  },
  {
   "cell_type": "code",
   "execution_count": null,
   "id": "9140f8d8",
   "metadata": {},
   "outputs": [],
   "source": [
    "sns.barplot(data=data2, x=data2.index, y='tweets_per_day' )"
   ]
  },
  {
   "cell_type": "code",
   "execution_count": null,
   "id": "5bdb9f0f",
   "metadata": {},
   "outputs": [],
   "source": []
  }
 ],
 "metadata": {
  "kernelspec": {
   "display_name": "Python 3 (ipykernel)",
   "language": "python",
   "name": "python3"
  },
  "language_info": {
   "codemirror_mode": {
    "name": "ipython",
    "version": 3
   },
   "file_extension": ".py",
   "mimetype": "text/x-python",
   "name": "python",
   "nbconvert_exporter": "python",
   "pygments_lexer": "ipython3",
   "version": "3.10.6"
  },
  "toc": {
   "base_numbering": 1,
   "nav_menu": {},
   "number_sections": true,
   "sideBar": true,
   "skip_h1_title": false,
   "title_cell": "Table of Contents",
   "title_sidebar": "Contents",
   "toc_cell": false,
   "toc_position": {},
   "toc_section_display": true,
   "toc_window_display": false
  }
 },
 "nbformat": 4,
 "nbformat_minor": 5
}
