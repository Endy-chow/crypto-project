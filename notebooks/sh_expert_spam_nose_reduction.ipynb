{
 "cells": [
  {
   "cell_type": "code",
   "execution_count": 152,
   "id": "8a98ae2d",
   "metadata": {},
   "outputs": [],
   "source": [
    "import pandas as pd \n",
    "import seaborn as sns\n",
    "import numpy as np\n",
    "import matplotlib.pyplot as plt\n",
    "import matplotlib\n",
    "import matplotlib.dates as md"
   ]
  },
  {
   "cell_type": "code",
   "execution_count": 2,
   "id": "6cd809cc",
   "metadata": {},
   "outputs": [
    {
     "data": {
      "text/plain": [
       "'/Users/suraj/code/giadapi/crypto/notebooks'"
      ]
     },
     "execution_count": 2,
     "metadata": {},
     "output_type": "execute_result"
    }
   ],
   "source": [
    "pwd"
   ]
  },
  {
   "cell_type": "code",
   "execution_count": 121,
   "id": "3c334a89",
   "metadata": {},
   "outputs": [],
   "source": [
    "data = pd.read_csv('../raw_data/experts.csv', lineterminator='\\n')\n",
    "data2 = pd.read_csv('../raw_data/experts_part2.csv', lineterminator='\\n')\n",
    "data3 = pd.read_csv('../raw_data/experts_part3.csv', lineterminator='\\n')\n",
    "data4 = pd.read_csv('../raw_data/experts_22-02-01_to_23-03-13.csv', lineterminator='\\n')\n",
    "data5 = pd.read_csv('../raw_data/experts_22-02-01_to_23-03-13_pt3.csv', lineterminator='\\n')\n",
    "data6 = pd.read_csv('../raw_data/experts_peter.csv', lineterminator='\\n')\n",
    "data7 = pd.read_csv('../raw_data/experts_suraj.csv', lineterminator='\\n')\n",
    "data8 = pd.read_csv('../raw_data/experts_giada.csv', lineterminator='\\n')\n",
    "\n"
   ]
  },
  {
   "cell_type": "code",
   "execution_count": 122,
   "id": "a0c6a898",
   "metadata": {},
   "outputs": [],
   "source": [
    "dfs = [data,data2,data3,data4,data5,data6,data7,data8]"
   ]
  },
  {
   "cell_type": "code",
   "execution_count": 123,
   "id": "359a7298",
   "metadata": {},
   "outputs": [
    {
     "data": {
      "text/plain": [
       "[                         datetime     username  \\\n",
       " 0       2022-02-01 01:20:39+00:00       saylor   \n",
       " 1       2022-01-31 22:55:21+00:00       saylor   \n",
       " 2       2022-01-31 17:27:57+00:00       saylor   \n",
       " 3       2022-01-31 13:35:28+00:00       saylor   \n",
       " 4       2022-01-30 17:08:49+00:00       saylor   \n",
       " ...                           ...          ...   \n",
       " 308600  2021-08-23 00:24:41+00:00  inversebrah   \n",
       " 308601  2021-08-23 00:23:55+00:00  inversebrah   \n",
       " 308602  2021-08-23 00:23:04+00:00  inversebrah   \n",
       " 308603  2021-08-23 00:20:22+00:00  inversebrah   \n",
       " 308604  2021-08-23 00:05:33+00:00  inversebrah   \n",
       " \n",
       "                                                    text\\r  \n",
       " 0       Tomorrow at Bitcoin for Corporations I turn th...  \n",
       " 1                #Bitcoin should be considered first...\\r  \n",
       " 2       We will host a live Video Webinar on Tuesday, ...  \n",
       " 3               To err is human, to #bitcoin is divine.\\r  \n",
       " 4                                   @cobie 🧡 ...Yeah...\\r  \n",
       " ...                                                   ...  \n",
       " 308600  bru\\n\\nhe's called YOUNG\\n\\nstupid simulation ...  \n",
       " 308601  how could wassies hire dis man :3 https://t.co...  \n",
       " 308602  PSA aw\\n\\nseveral dexshitcon charts don't very...  \n",
       " 308603  accidents do happen, also\\n\\nhttps://t.co/fmzq...  \n",
       " 308604         @frenxbt today was a free for all day :3\\r  \n",
       " \n",
       " [308605 rows x 3 columns],\n",
       "                         datetime        username  \\\n",
       " 0      2023-03-13 18:24:48+00:00     inversebrah   \n",
       " 1      2023-03-13 18:16:57+00:00     inversebrah   \n",
       " 2      2023-03-13 18:06:27+00:00     inversebrah   \n",
       " 3      2023-03-13 17:56:11+00:00     inversebrah   \n",
       " 4      2023-03-13 13:37:52+00:00     inversebrah   \n",
       " ...                          ...             ...   \n",
       " 74187  2022-06-16 16:20:57+00:00  CanteringClark   \n",
       " 74188  2022-06-16 16:16:21+00:00  CanteringClark   \n",
       " 74189  2022-06-16 16:16:20+00:00  CanteringClark   \n",
       " 74190  2022-06-16 16:00:38+00:00  CanteringClark   \n",
       " 74191  2022-06-16 15:52:11+00:00  CanteringClark   \n",
       " \n",
       "                                                   text\\r  \n",
       " 0      now we just need a central bank of brypto\\n\\n(...  \n",
       " 1                                             *discuss\\r  \n",
       " 2                 how citron doing\\n\\nsmolting wonders\\r  \n",
       " 3                                   did we decouple or\\r  \n",
       " 4      ur bank is inploding\\n\\nbits Coin never inplod...  \n",
       " ...                                                  ...  \n",
       " 74187  @KyodaiAscent Ok I am not speaking to everyone...  \n",
       " 74188  It's not the market that ends up becoming untr...  \n",
       " 74189  I think there is an important distinction that...  \n",
       " 74190  @daaniyaan Typing things like this right now w...  \n",
       " 74191  I deleted my tweets about Su and Kyle from yes...  \n",
       " \n",
       " [74192 rows x 3 columns],\n",
       "                          datetime        username  \\\n",
       " 0       2023-03-13 22:41:00+00:00  CanteringClark   \n",
       " 1       2023-03-13 20:50:38+00:00  CanteringClark   \n",
       " 2       2023-03-13 20:13:14+00:00  CanteringClark   \n",
       " 3       2023-03-13 19:15:38+00:00  CanteringClark   \n",
       " 4       2023-03-13 19:15:18+00:00  CanteringClark   \n",
       " ...                           ...             ...   \n",
       " 174239  2022-04-05 17:06:55+00:00     mattomattik   \n",
       " 174240  2022-04-05 17:04:50+00:00     mattomattik   \n",
       " 174241  2022-04-05 16:45:24+00:00     mattomattik   \n",
       " 174242  2022-04-05 16:44:57+00:00     mattomattik   \n",
       " 174243  2022-04-05 16:42:48+00:00     mattomattik   \n",
       " \n",
       "                                                    text\\r  \n",
       " 0       Bitcoin is in the high end of daily return ter...  \n",
       " 1       It's crazy how fast things can change in this ...  \n",
       " 2       Two of these charts are nearly the same. \\n\\nL...  \n",
       " 3       @michaelgmcquaid @trader1sz @Trader_XO @Trader...  \n",
       " 4                            @southbaytrading For real🤝\\r  \n",
       " ...                                                   ...  \n",
       " 174239  @pierre_crypt0 @HsakaTrades @knlae_ @inversebr...  \n",
       " 174240                         @jimtalbot That accurate\\r  \n",
       " 174241  @honey_xbt Well we talking and didn't trade th...  \n",
       " 174242  @jimtalbot You under-estimate the size of one ...  \n",
       " 174243  @honey_xbt Well we talking in the same time i ...  \n",
       " \n",
       " [174244 rows x 3 columns],\n",
       "                          datetime  username  \\\n",
       " 0       2023-03-13 12:43:48+00:00    saylor   \n",
       " 1       2023-03-12 22:58:24+00:00    saylor   \n",
       " 2       2023-03-12 17:57:05+00:00    saylor   \n",
       " 3       2023-03-12 13:03:16+00:00    saylor   \n",
       " 4       2023-03-11 20:06:52+00:00    saylor   \n",
       " ...                           ...       ...   \n",
       " 304929  2023-03-02 21:27:32+00:00  devchart   \n",
       " 304930  2023-03-02 21:24:23+00:00  devchart   \n",
       " 304931  2023-03-02 21:21:45+00:00  devchart   \n",
       " 304932  2023-03-02 21:18:52+00:00  devchart   \n",
       " 304933  2023-03-02 21:16:51+00:00  devchart   \n",
       " \n",
       "                                                    text\\r  \n",
       " 0       #Bitcoin will never need a #Bailout. https://t...  \n",
       " 1                    The Bank of #Bitcoin remains open.\\r  \n",
       " 2           @cz_binance #Bitcoin fixes a lot of things.\\r  \n",
       " 3       #Bitcoin is the only stable coin. https://t.co...  \n",
       " 4       #Bitcoin is for Winners. https://t.co/NawI2PeG...  \n",
       " ...                                                   ...  \n",
       " 304929  @satsdart @warobusiness @TraderLenny @AltcoinS...  \n",
       " 304930  @bassface111 Half of my feed is expecting doom...  \n",
       " 304931              @Trader_CSK @warobusiness Yup this!\\r  \n",
       " 304932  @AltsQ Jesus christ... that is literally one t...  \n",
       " 304933                       @SatoshiFlipper Damn nice!\\r  \n",
       " \n",
       " [304934 rows x 3 columns],\n",
       "                          datetime   username  \\\n",
       " 0       2023-03-13 19:01:14+00:00   devchart   \n",
       " 1       2023-03-13 18:55:54+00:00   devchart   \n",
       " 2       2023-03-13 18:52:01+00:00   devchart   \n",
       " 3       2023-03-13 18:46:34+00:00   devchart   \n",
       " 4       2023-03-13 17:08:23+00:00   devchart   \n",
       " ...                           ...        ...   \n",
       " 307377  2022-02-01 19:54:27+00:00  RektProof   \n",
       " 307378  2022-02-01 17:20:54+00:00  RektProof   \n",
       " 307379  2022-02-01 16:58:56+00:00  RektProof   \n",
       " 307380  2022-02-01 16:38:30+00:00  RektProof   \n",
       " 307381  2022-02-01 16:14:36+00:00  RektProof   \n",
       " \n",
       "                                                    text\\r  \n",
       " 0       @Tradermayne @AlgodTrading There are 2 things ...  \n",
       " 1       @trader1sz Yeah because that is the only thing...  \n",
       " 2       @trader1sz She is clout chasing by attacking b...  \n",
       " 3       @TikTokInvestors Lol @gainzy222 successfully m...  \n",
       " 4              @alancarroII Oh nice. It was a funny one\\r  \n",
       " ...                                                   ...  \n",
       " 307377  For those unaware I do have a TG Channel in wh...  \n",
       " 307378  Pretty grateful this morning.\\n\\nSeveral DM's ...  \n",
       " 307379  $SOL / $USD\\n\\nRange high- Equal highs taken\\n...  \n",
       " 307380  $ETH / $USD\\n\\nGG.\\n\\nPrice came out the equal...  \n",
       " 307381  @MuroCrypto @trader1sz @Livercoin @George1Trad...  \n",
       " \n",
       " [307382 rows x 3 columns],\n",
       "                          datetime    username  \\\n",
       " 0       2022-01-31 14:25:16+00:00  CryptoCred   \n",
       " 1       2022-01-31 14:22:43+00:00  CryptoCred   \n",
       " 2       2022-01-31 13:11:36+00:00  CryptoCred   \n",
       " 3       2022-01-31 12:56:59+00:00  CryptoCred   \n",
       " 4       2022-01-30 18:18:14+00:00  CryptoCred   \n",
       " ...                           ...         ...   \n",
       " 112698  2021-01-02 16:53:20+00:00  CryptoBull   \n",
       " 112699  2021-01-02 13:44:52+00:00  CryptoBull   \n",
       " 112700  2021-01-02 13:40:14+00:00  CryptoBull   \n",
       " 112701  2021-01-02 13:28:02+00:00  CryptoBull   \n",
       " 112702  2021-01-01 18:52:59+00:00  CryptoBull   \n",
       " \n",
       "                                                    text\\r  \n",
       " 0       @CryptoDonAlt Fair enough, if I ever got anyth...  \n",
       " 1       @CryptoDonAlt This tweet https://t.co/6rfgQImW...  \n",
       " 2       @CryptoDonAlt At least it wasn’t directly at m...  \n",
       " 3       @CryptoDonAlt Well done, I’m sure the Nobel Co...  \n",
       " 4       @SplitCapital do 'em all and more\\nsrs\\npls\\nty\\r  \n",
       " ...                                                   ...  \n",
       " 112698                       $288k is only 9x from here\\r  \n",
       " 112699  \"$33k by July\" is about to become a bearish st...  \n",
       " 112700    Slap yourself if you sold #Bitcoin below $31k\\r  \n",
       " 112701                  up only https://t.co/K2vLhxUSYn\\r  \n",
       " 112702                          December was only 47% 😭\\r  \n",
       " \n",
       " [112703 rows x 3 columns],\n",
       "                          datetime         username  \\\n",
       " 0       2022-12-08 00:33:57+00:00  ThatMeganGarcia   \n",
       " 1       2022-08-01 11:33:18+00:00   milliwilly2015   \n",
       " 2       2022-07-24 18:34:40+00:00   aultimatevoice   \n",
       " 3       2022-07-24 17:40:14+00:00   aultimatevoice   \n",
       " 4       2022-07-24 17:38:26+00:00   aultimatevoice   \n",
       " ...                           ...              ...   \n",
       " 131336  2021-01-01 07:37:15+00:00      CryptoKaleo   \n",
       " 131337  2021-01-01 07:34:50+00:00      CryptoKaleo   \n",
       " 131338  2021-01-01 07:34:02+00:00      CryptoKaleo   \n",
       " 131339  2021-01-01 07:33:03+00:00      CryptoKaleo   \n",
       " 131340  2021-01-01 06:05:52+00:00      CryptoKaleo   \n",
       " \n",
       "                                                    text\\r  \n",
       " 0       As a subscriber and app user @nytimes is one o...  \n",
       " 1       @Umm_No1 @JDogLovesHalo @theturtlewoman1 @roni...  \n",
       " 2       @God_Maximvs @ronin_user @nytimes That's a gre...  \n",
       " 3       @God_Maximvs @ronin_user @nytimes What makes y...  \n",
       " 4       @God_Maximvs @ronin_user @nytimes Still waitin...  \n",
       " ...                                                   ...  \n",
       " 131336   Longed the $LTC retest https://t.co/v23PDRCzls\\r  \n",
       " 131337                            She took my phone lol\\r  \n",
       " 131338                               I love my gf, wbu?\\r  \n",
       " 131339           @CryptoGainz1 Idk man but it’s amazing\\r  \n",
       " 131340             I LOVE EVERY ONE OF YOU CRAZY PEOPLE\\r  \n",
       " \n",
       " [131341 rows x 3 columns],\n",
       "                          datetime     username  \\\n",
       " 0       2022-02-01 00:43:45+00:00  Tradermayne   \n",
       " 1       2022-02-01 00:34:54+00:00  Tradermayne   \n",
       " 2       2022-02-01 00:24:31+00:00  Tradermayne   \n",
       " 3       2022-01-31 23:23:13+00:00  Tradermayne   \n",
       " 4       2022-01-31 21:43:46+00:00  Tradermayne   \n",
       " ...                           ...          ...   \n",
       " 140771  2021-01-03 15:25:27+00:00    RektProof   \n",
       " 140772  2021-01-03 14:41:08+00:00    RektProof   \n",
       " 140773  2021-01-02 06:13:10+00:00    RektProof   \n",
       " 140774  2021-01-01 18:17:00+00:00    RektProof   \n",
       " 140775  2021-01-01 06:09:35+00:00    RektProof   \n",
       " \n",
       "                                                    text\\r  \n",
       " 0            @ConvexMonster Stop at the low target ath.\\r  \n",
       " 1       Monthly candle closed on #Bitcoin \\n\\nWhat we ...  \n",
       " 2       $Luna\\n\\nNice reaction from the daily OB level...  \n",
       " 3       @abetrade Is this not accurate https://t.co/7y...  \n",
       " 4       @PrimeXBT @syscoin If you want to support me a...  \n",
       " ...                                                   ...  \n",
       " 140771  XRP might be worth the punt.\\n\\nOptimal R here...  \n",
       " 140772  $COMP / $USD\\n\\nAnother one on my radar.\\n\\nCu...  \n",
       " 140773  $SOL / $USD\\n\\nPrice sweep into daily demand c...  \n",
       " 140774  $ATOM / $USD\\n\\nLooks good.\\n\\nPrice coming of...  \n",
       " 140775  Happy New Years! \\n\\nThis past year has challe...  \n",
       " \n",
       " [140776 rows x 3 columns]]"
      ]
     },
     "execution_count": 123,
     "metadata": {},
     "output_type": "execute_result"
    }
   ],
   "source": [
    "dfs"
   ]
  },
  {
   "cell_type": "code",
   "execution_count": 124,
   "id": "49f68047",
   "metadata": {},
   "outputs": [],
   "source": [
    "data = pd.concat(dfs)"
   ]
  },
  {
   "cell_type": "code",
   "execution_count": 125,
   "id": "7f0ac9aa",
   "metadata": {},
   "outputs": [
    {
     "data": {
      "text/plain": [
       "(1554177, 3)"
      ]
     },
     "execution_count": 125,
     "metadata": {},
     "output_type": "execute_result"
    }
   ],
   "source": [
    "data.shape"
   ]
  },
  {
   "cell_type": "code",
   "execution_count": 126,
   "id": "0279ca3e",
   "metadata": {},
   "outputs": [
    {
     "data": {
      "text/html": [
       "<div>\n",
       "<style scoped>\n",
       "    .dataframe tbody tr th:only-of-type {\n",
       "        vertical-align: middle;\n",
       "    }\n",
       "\n",
       "    .dataframe tbody tr th {\n",
       "        vertical-align: top;\n",
       "    }\n",
       "\n",
       "    .dataframe thead th {\n",
       "        text-align: right;\n",
       "    }\n",
       "</style>\n",
       "<table border=\"1\" class=\"dataframe\">\n",
       "  <thead>\n",
       "    <tr style=\"text-align: right;\">\n",
       "      <th></th>\n",
       "      <th>datetime</th>\n",
       "      <th>username</th>\n",
       "      <th>text</th>\n",
       "    </tr>\n",
       "  </thead>\n",
       "  <tbody>\n",
       "    <tr>\n",
       "      <th>0</th>\n",
       "      <td>2022-02-01 01:20:39+00:00</td>\n",
       "      <td>saylor</td>\n",
       "      <td>Tomorrow at Bitcoin for Corporations I turn th...</td>\n",
       "    </tr>\n",
       "    <tr>\n",
       "      <th>1</th>\n",
       "      <td>2022-01-31 22:55:21+00:00</td>\n",
       "      <td>saylor</td>\n",
       "      <td>#Bitcoin should be considered first...\\r</td>\n",
       "    </tr>\n",
       "    <tr>\n",
       "      <th>2</th>\n",
       "      <td>2022-01-31 17:27:57+00:00</td>\n",
       "      <td>saylor</td>\n",
       "      <td>We will host a live Video Webinar on Tuesday, ...</td>\n",
       "    </tr>\n",
       "    <tr>\n",
       "      <th>3</th>\n",
       "      <td>2022-01-31 13:35:28+00:00</td>\n",
       "      <td>saylor</td>\n",
       "      <td>To err is human, to #bitcoin is divine.\\r</td>\n",
       "    </tr>\n",
       "    <tr>\n",
       "      <th>4</th>\n",
       "      <td>2022-01-30 17:08:49+00:00</td>\n",
       "      <td>saylor</td>\n",
       "      <td>@cobie 🧡 ...Yeah...\\r</td>\n",
       "    </tr>\n",
       "    <tr>\n",
       "      <th>...</th>\n",
       "      <td>...</td>\n",
       "      <td>...</td>\n",
       "      <td>...</td>\n",
       "    </tr>\n",
       "    <tr>\n",
       "      <th>140771</th>\n",
       "      <td>2021-01-03 15:25:27+00:00</td>\n",
       "      <td>RektProof</td>\n",
       "      <td>XRP might be worth the punt.\\n\\nOptimal R here...</td>\n",
       "    </tr>\n",
       "    <tr>\n",
       "      <th>140772</th>\n",
       "      <td>2021-01-03 14:41:08+00:00</td>\n",
       "      <td>RektProof</td>\n",
       "      <td>$COMP / $USD\\n\\nAnother one on my radar.\\n\\nCu...</td>\n",
       "    </tr>\n",
       "    <tr>\n",
       "      <th>140773</th>\n",
       "      <td>2021-01-02 06:13:10+00:00</td>\n",
       "      <td>RektProof</td>\n",
       "      <td>$SOL / $USD\\n\\nPrice sweep into daily demand c...</td>\n",
       "    </tr>\n",
       "    <tr>\n",
       "      <th>140774</th>\n",
       "      <td>2021-01-01 18:17:00+00:00</td>\n",
       "      <td>RektProof</td>\n",
       "      <td>$ATOM / $USD\\n\\nLooks good.\\n\\nPrice coming of...</td>\n",
       "    </tr>\n",
       "    <tr>\n",
       "      <th>140775</th>\n",
       "      <td>2021-01-01 06:09:35+00:00</td>\n",
       "      <td>RektProof</td>\n",
       "      <td>Happy New Years! \\n\\nThis past year has challe...</td>\n",
       "    </tr>\n",
       "  </tbody>\n",
       "</table>\n",
       "<p>1554177 rows × 3 columns</p>\n",
       "</div>"
      ],
      "text/plain": [
       "                         datetime   username  \\\n",
       "0       2022-02-01 01:20:39+00:00     saylor   \n",
       "1       2022-01-31 22:55:21+00:00     saylor   \n",
       "2       2022-01-31 17:27:57+00:00     saylor   \n",
       "3       2022-01-31 13:35:28+00:00     saylor   \n",
       "4       2022-01-30 17:08:49+00:00     saylor   \n",
       "...                           ...        ...   \n",
       "140771  2021-01-03 15:25:27+00:00  RektProof   \n",
       "140772  2021-01-03 14:41:08+00:00  RektProof   \n",
       "140773  2021-01-02 06:13:10+00:00  RektProof   \n",
       "140774  2021-01-01 18:17:00+00:00  RektProof   \n",
       "140775  2021-01-01 06:09:35+00:00  RektProof   \n",
       "\n",
       "                                                     text  \n",
       "0       Tomorrow at Bitcoin for Corporations I turn th...  \n",
       "1                #Bitcoin should be considered first...\\r  \n",
       "2       We will host a live Video Webinar on Tuesday, ...  \n",
       "3               To err is human, to #bitcoin is divine.\\r  \n",
       "4                                   @cobie 🧡 ...Yeah...\\r  \n",
       "...                                                   ...  \n",
       "140771  XRP might be worth the punt.\\n\\nOptimal R here...  \n",
       "140772  $COMP / $USD\\n\\nAnother one on my radar.\\n\\nCu...  \n",
       "140773  $SOL / $USD\\n\\nPrice sweep into daily demand c...  \n",
       "140774  $ATOM / $USD\\n\\nLooks good.\\n\\nPrice coming of...  \n",
       "140775  Happy New Years! \\n\\nThis past year has challe...  \n",
       "\n",
       "[1554177 rows x 3 columns]"
      ]
     },
     "execution_count": 126,
     "metadata": {},
     "output_type": "execute_result"
    }
   ],
   "source": [
    "data = data.rename(columns={'text\\r':'text'})\n",
    "data"
   ]
  },
  {
   "cell_type": "code",
   "execution_count": 41,
   "id": "695d9740",
   "metadata": {},
   "outputs": [
    {
     "data": {
      "text/plain": [
       "219121"
      ]
     },
     "execution_count": 41,
     "metadata": {},
     "output_type": "execute_result"
    }
   ],
   "source": [
    "data['text\\r'].str.contains(x).sum()"
   ]
  },
  {
   "cell_type": "code",
   "execution_count": 127,
   "id": "da5e6f68",
   "metadata": {},
   "outputs": [],
   "source": [
    "def filtering(df):\n",
    "    key_words = [\n",
    "    'Market',\n",
    "    'Short',\n",
    "    'Foo',\n",
    "    'plan',\n",
    "    'Ethereum',\n",
    "    'eth',\n",
    "    '🚀',\n",
    "    '🔥',\n",
    "    'bitcoin',\n",
    "    'BTC',\n",
    "    'HODL',\n",
    "    'collapse',\n",
    "    'crypto',\n",
    "    'cryptocurrency',\n",
    "    'currency',\n",
    "    'price',\n",
    "    'USD',\n",
    "    'dollar',\n",
    "    'scaling',\n",
    "    'scale']\n",
    "\n",
    "    x= ''\n",
    "    for i in key_words:\n",
    "        x += '|'+ i\n",
    "    x=x[1:]\n",
    "\n",
    "    refined_data_mask = df.iloc[:,-1].str.contains(x)\n",
    "    refined_data = df[refined_data_mask]\n",
    "    return refined_data"
   ]
  },
  {
   "cell_type": "code",
   "execution_count": 128,
   "id": "5447f64b",
   "metadata": {},
   "outputs": [
    {
     "data": {
      "text/html": [
       "<div>\n",
       "<style scoped>\n",
       "    .dataframe tbody tr th:only-of-type {\n",
       "        vertical-align: middle;\n",
       "    }\n",
       "\n",
       "    .dataframe tbody tr th {\n",
       "        vertical-align: top;\n",
       "    }\n",
       "\n",
       "    .dataframe thead th {\n",
       "        text-align: right;\n",
       "    }\n",
       "</style>\n",
       "<table border=\"1\" class=\"dataframe\">\n",
       "  <thead>\n",
       "    <tr style=\"text-align: right;\">\n",
       "      <th></th>\n",
       "      <th>datetime</th>\n",
       "      <th>username</th>\n",
       "      <th>text</th>\n",
       "    </tr>\n",
       "  </thead>\n",
       "  <tbody>\n",
       "    <tr>\n",
       "      <th>0</th>\n",
       "      <td>2022-02-01 01:20:39+00:00</td>\n",
       "      <td>saylor</td>\n",
       "      <td>Tomorrow at Bitcoin for Corporations I turn th...</td>\n",
       "    </tr>\n",
       "    <tr>\n",
       "      <th>3</th>\n",
       "      <td>2022-01-31 13:35:28+00:00</td>\n",
       "      <td>saylor</td>\n",
       "      <td>To err is human, to #bitcoin is divine.\\r</td>\n",
       "    </tr>\n",
       "    <tr>\n",
       "      <th>5</th>\n",
       "      <td>2022-01-30 16:56:04+00:00</td>\n",
       "      <td>saylor</td>\n",
       "      <td>@cobie I'd rather buy #bitcoin than be #blue.\\r</td>\n",
       "    </tr>\n",
       "    <tr>\n",
       "      <th>6</th>\n",
       "      <td>2022-01-30 16:41:17+00:00</td>\n",
       "      <td>saylor</td>\n",
       "      <td>If you are a corporation interested in integra...</td>\n",
       "    </tr>\n",
       "    <tr>\n",
       "      <th>8</th>\n",
       "      <td>2022-01-29 13:47:30+00:00</td>\n",
       "      <td>saylor</td>\n",
       "      <td>The best way to move energy through time and s...</td>\n",
       "    </tr>\n",
       "    <tr>\n",
       "      <th>...</th>\n",
       "      <td>...</td>\n",
       "      <td>...</td>\n",
       "      <td>...</td>\n",
       "    </tr>\n",
       "    <tr>\n",
       "      <th>140770</th>\n",
       "      <td>2021-01-03 16:12:09+00:00</td>\n",
       "      <td>RektProof</td>\n",
       "      <td>$TEZOS / $USD\\n\\nClean chart.\\n\\nLows swept an...</td>\n",
       "    </tr>\n",
       "    <tr>\n",
       "      <th>140771</th>\n",
       "      <td>2021-01-03 15:25:27+00:00</td>\n",
       "      <td>RektProof</td>\n",
       "      <td>XRP might be worth the punt.\\n\\nOptimal R here...</td>\n",
       "    </tr>\n",
       "    <tr>\n",
       "      <th>140772</th>\n",
       "      <td>2021-01-03 14:41:08+00:00</td>\n",
       "      <td>RektProof</td>\n",
       "      <td>$COMP / $USD\\n\\nAnother one on my radar.\\n\\nCu...</td>\n",
       "    </tr>\n",
       "    <tr>\n",
       "      <th>140773</th>\n",
       "      <td>2021-01-02 06:13:10+00:00</td>\n",
       "      <td>RektProof</td>\n",
       "      <td>$SOL / $USD\\n\\nPrice sweep into daily demand c...</td>\n",
       "    </tr>\n",
       "    <tr>\n",
       "      <th>140774</th>\n",
       "      <td>2021-01-01 18:17:00+00:00</td>\n",
       "      <td>RektProof</td>\n",
       "      <td>$ATOM / $USD\\n\\nLooks good.\\n\\nPrice coming of...</td>\n",
       "    </tr>\n",
       "  </tbody>\n",
       "</table>\n",
       "<p>243308 rows × 3 columns</p>\n",
       "</div>"
      ],
      "text/plain": [
       "                         datetime   username  \\\n",
       "0       2022-02-01 01:20:39+00:00     saylor   \n",
       "3       2022-01-31 13:35:28+00:00     saylor   \n",
       "5       2022-01-30 16:56:04+00:00     saylor   \n",
       "6       2022-01-30 16:41:17+00:00     saylor   \n",
       "8       2022-01-29 13:47:30+00:00     saylor   \n",
       "...                           ...        ...   \n",
       "140770  2021-01-03 16:12:09+00:00  RektProof   \n",
       "140771  2021-01-03 15:25:27+00:00  RektProof   \n",
       "140772  2021-01-03 14:41:08+00:00  RektProof   \n",
       "140773  2021-01-02 06:13:10+00:00  RektProof   \n",
       "140774  2021-01-01 18:17:00+00:00  RektProof   \n",
       "\n",
       "                                                     text  \n",
       "0       Tomorrow at Bitcoin for Corporations I turn th...  \n",
       "3               To err is human, to #bitcoin is divine.\\r  \n",
       "5         @cobie I'd rather buy #bitcoin than be #blue.\\r  \n",
       "6       If you are a corporation interested in integra...  \n",
       "8       The best way to move energy through time and s...  \n",
       "...                                                   ...  \n",
       "140770  $TEZOS / $USD\\n\\nClean chart.\\n\\nLows swept an...  \n",
       "140771  XRP might be worth the punt.\\n\\nOptimal R here...  \n",
       "140772  $COMP / $USD\\n\\nAnother one on my radar.\\n\\nCu...  \n",
       "140773  $SOL / $USD\\n\\nPrice sweep into daily demand c...  \n",
       "140774  $ATOM / $USD\\n\\nLooks good.\\n\\nPrice coming of...  \n",
       "\n",
       "[243308 rows x 3 columns]"
      ]
     },
     "execution_count": 128,
     "metadata": {},
     "output_type": "execute_result"
    }
   ],
   "source": [
    "df = filtering(data)\n",
    "df"
   ]
  },
  {
   "cell_type": "code",
   "execution_count": 129,
   "id": "42b832e2",
   "metadata": {},
   "outputs": [],
   "source": [
    "def split_data(df,num_splits=12):\n",
    "    n = int(len(df)/num_splits)\n",
    "    d = {}\n",
    "    for x in range(num_splits-1):\n",
    "        d[\"data{0}\".format(x)] = df.iloc[x*n:(x+1)*n,:]\n",
    "    if len(df)%n ==0:\n",
    "        return d\n",
    "    else:\n",
    "        d[\"data{0}\".format(num_splits-1)] = df.iloc[(num_splits-1)*n:,:]\n",
    "        return d\n",
    "    "
   ]
  },
  {
   "cell_type": "code",
   "execution_count": 130,
   "id": "5db7e2ab",
   "metadata": {},
   "outputs": [],
   "source": [
    "df_dict = split_data(df,num_splits=12)"
   ]
  },
  {
   "cell_type": "code",
   "execution_count": 131,
   "id": "8b26ad95",
   "metadata": {},
   "outputs": [
    {
     "data": {
      "text/plain": [
       "dict_keys(['data0', 'data1', 'data2', 'data3', 'data4', 'data5', 'data6', 'data7', 'data8', 'data9', 'data10', 'data11'])"
      ]
     },
     "execution_count": 131,
     "metadata": {},
     "output_type": "execute_result"
    }
   ],
   "source": [
    "df_dict.keys()"
   ]
  },
  {
   "cell_type": "code",
   "execution_count": 135,
   "id": "947ec04a",
   "metadata": {},
   "outputs": [],
   "source": [
    "testing = pd.read_csv('../raw_data/expert_cleaned_data_data4.csv',lineterminator='\\n')"
   ]
  },
  {
   "cell_type": "code",
   "execution_count": 136,
   "id": "08402e73",
   "metadata": {},
   "outputs": [
    {
     "data": {
      "text/html": [
       "<div>\n",
       "<style scoped>\n",
       "    .dataframe tbody tr th:only-of-type {\n",
       "        vertical-align: middle;\n",
       "    }\n",
       "\n",
       "    .dataframe tbody tr th {\n",
       "        vertical-align: top;\n",
       "    }\n",
       "\n",
       "    .dataframe thead th {\n",
       "        text-align: right;\n",
       "    }\n",
       "</style>\n",
       "<table border=\"1\" class=\"dataframe\">\n",
       "  <thead>\n",
       "    <tr style=\"text-align: right;\">\n",
       "      <th></th>\n",
       "      <th>Unnamed: 0</th>\n",
       "      <th>datetime</th>\n",
       "      <th>username</th>\n",
       "      <th>text</th>\n",
       "    </tr>\n",
       "  </thead>\n",
       "  <tbody>\n",
       "    <tr>\n",
       "      <th>0</th>\n",
       "      <td>120175</td>\n",
       "      <td>2023-01-03 04:05:05+00:00</td>\n",
       "      <td>Tradermayne</td>\n",
       "      <td>In Scottsdale for the week. \\n\\nLife’s good wh...</td>\n",
       "    </tr>\n",
       "    <tr>\n",
       "      <th>1</th>\n",
       "      <td>120181</td>\n",
       "      <td>2023-01-02 09:07:09+00:00</td>\n",
       "      <td>Tradermayne</td>\n",
       "      <td>@cryptoaladeen What is market value 👀\\r</td>\n",
       "    </tr>\n",
       "    <tr>\n",
       "      <th>2</th>\n",
       "      <td>120182</td>\n",
       "      <td>2023-01-02 08:34:21+00:00</td>\n",
       "      <td>Tradermayne</td>\n",
       "      <td>@219_eth I’d give up Quebec\\r</td>\n",
       "    </tr>\n",
       "    <tr>\n",
       "      <th>3</th>\n",
       "      <td>120194</td>\n",
       "      <td>2023-01-01 05:11:07+00:00</td>\n",
       "      <td>Tradermayne</td>\n",
       "      <td>What is the $BTC and $ETH price January 1, 2024\\r</td>\n",
       "    </tr>\n",
       "    <tr>\n",
       "      <th>4</th>\n",
       "      <td>120212</td>\n",
       "      <td>2022-12-30 22:36:19+00:00</td>\n",
       "      <td>Tradermayne</td>\n",
       "      <td>If @elonmusk wants to improve something on Twi...</td>\n",
       "    </tr>\n",
       "    <tr>\n",
       "      <th>...</th>\n",
       "      <td>...</td>\n",
       "      <td>...</td>\n",
       "      <td>...</td>\n",
       "      <td>...</td>\n",
       "    </tr>\n",
       "    <tr>\n",
       "      <th>20270</th>\n",
       "      <td>58666</td>\n",
       "      <td>2022-07-01 14:07:24+00:00</td>\n",
       "      <td>udiWertheimer</td>\n",
       "      <td>@pete_rizzo_ @brian_trollz @MrHodl @nic__carte...</td>\n",
       "    </tr>\n",
       "    <tr>\n",
       "      <th>20271</th>\n",
       "      <td>58668</td>\n",
       "      <td>2022-07-01 14:01:15+00:00</td>\n",
       "      <td>udiWertheimer</td>\n",
       "      <td>@pete_rizzo_ @brian_trollz @MrHodl @nic__carte...</td>\n",
       "    </tr>\n",
       "    <tr>\n",
       "      <th>20272</th>\n",
       "      <td>58670</td>\n",
       "      <td>2022-07-01 13:54:02+00:00</td>\n",
       "      <td>udiWertheimer</td>\n",
       "      <td>@pete_rizzo_ @brian_trollz @MrHodl @nic__carte...</td>\n",
       "    </tr>\n",
       "    <tr>\n",
       "      <th>20273</th>\n",
       "      <td>58672</td>\n",
       "      <td>2022-07-01 13:29:57+00:00</td>\n",
       "      <td>udiWertheimer</td>\n",
       "      <td>@brian_trollz @pete_rizzo_ @MrHodl @nic__carte...</td>\n",
       "    </tr>\n",
       "    <tr>\n",
       "      <th>20274</th>\n",
       "      <td>58673</td>\n",
       "      <td>2022-07-01 13:22:35+00:00</td>\n",
       "      <td>udiWertheimer</td>\n",
       "      <td>@pete_rizzo_ @MrHodl @nic__carter @Rob1Ham @pi...</td>\n",
       "    </tr>\n",
       "  </tbody>\n",
       "</table>\n",
       "<p>20275 rows × 4 columns</p>\n",
       "</div>"
      ],
      "text/plain": [
       "       Unnamed: 0                   datetime       username  \\\n",
       "0          120175  2023-01-03 04:05:05+00:00    Tradermayne   \n",
       "1          120181  2023-01-02 09:07:09+00:00    Tradermayne   \n",
       "2          120182  2023-01-02 08:34:21+00:00    Tradermayne   \n",
       "3          120194  2023-01-01 05:11:07+00:00    Tradermayne   \n",
       "4          120212  2022-12-30 22:36:19+00:00    Tradermayne   \n",
       "...           ...                        ...            ...   \n",
       "20270       58666  2022-07-01 14:07:24+00:00  udiWertheimer   \n",
       "20271       58668  2022-07-01 14:01:15+00:00  udiWertheimer   \n",
       "20272       58670  2022-07-01 13:54:02+00:00  udiWertheimer   \n",
       "20273       58672  2022-07-01 13:29:57+00:00  udiWertheimer   \n",
       "20274       58673  2022-07-01 13:22:35+00:00  udiWertheimer   \n",
       "\n",
       "                                                    text  \n",
       "0      In Scottsdale for the week. \\n\\nLife’s good wh...  \n",
       "1                @cryptoaladeen What is market value 👀\\r  \n",
       "2                          @219_eth I’d give up Quebec\\r  \n",
       "3      What is the $BTC and $ETH price January 1, 2024\\r  \n",
       "4      If @elonmusk wants to improve something on Twi...  \n",
       "...                                                  ...  \n",
       "20270  @pete_rizzo_ @brian_trollz @MrHodl @nic__carte...  \n",
       "20271  @pete_rizzo_ @brian_trollz @MrHodl @nic__carte...  \n",
       "20272  @pete_rizzo_ @brian_trollz @MrHodl @nic__carte...  \n",
       "20273  @brian_trollz @pete_rizzo_ @MrHodl @nic__carte...  \n",
       "20274  @pete_rizzo_ @MrHodl @nic__carter @Rob1Ham @pi...  \n",
       "\n",
       "[20275 rows x 4 columns]"
      ]
     },
     "execution_count": 136,
     "metadata": {},
     "output_type": "execute_result"
    }
   ],
   "source": [
    "testing"
   ]
  },
  {
   "cell_type": "code",
   "execution_count": 139,
   "id": "bd847ffe",
   "metadata": {},
   "outputs": [
    {
     "data": {
      "text/plain": [
       "dtype('O')"
      ]
     },
     "execution_count": 139,
     "metadata": {},
     "output_type": "execute_result"
    }
   ],
   "source": [
    "testing['datetime'].dtype"
   ]
  },
  {
   "cell_type": "code",
   "execution_count": 147,
   "id": "cf35bd80",
   "metadata": {
    "scrolled": true
   },
   "outputs": [
    {
     "data": {
      "text/plain": [
       "0       2023-01-03 04:05:05+00:00\n",
       "1       2023-01-02 09:07:09+00:00\n",
       "2       2023-01-02 08:34:21+00:00\n",
       "3       2023-01-01 05:11:07+00:00\n",
       "4       2022-12-30 22:36:19+00:00\n",
       "                   ...           \n",
       "20270   2022-07-01 14:07:24+00:00\n",
       "20271   2022-07-01 14:01:15+00:00\n",
       "20272   2022-07-01 13:54:02+00:00\n",
       "20273   2022-07-01 13:29:57+00:00\n",
       "20274   2022-07-01 13:22:35+00:00\n",
       "Name: datetime, Length: 20275, dtype: datetime64[ns, UTC]"
      ]
     },
     "execution_count": 147,
     "metadata": {},
     "output_type": "execute_result"
    }
   ],
   "source": [
    "testing['datetime'] = pd.to_datetime(testing['datetime'])\n",
    "testing['datetime'] "
   ]
  },
  {
   "cell_type": "code",
   "execution_count": 151,
   "id": "7972133d",
   "metadata": {},
   "outputs": [
    {
     "data": {
      "text/plain": [
       "0        2023-01-03\n",
       "1        2023-01-02\n",
       "2        2023-01-02\n",
       "3        2023-01-01\n",
       "4        2022-12-30\n",
       "            ...    \n",
       "20270    2022-07-01\n",
       "20271    2022-07-01\n",
       "20272    2022-07-01\n",
       "20273    2022-07-01\n",
       "20274    2022-07-01\n",
       "Name: date, Length: 20275, dtype: object"
      ]
     },
     "execution_count": 151,
     "metadata": {},
     "output_type": "execute_result"
    }
   ],
   "source": [
    "testing['date'] = testing['datetime'].dt.date\n",
    "testing['date'] "
   ]
  },
  {
   "cell_type": "code",
   "execution_count": 75,
   "id": "2ceaca3f",
   "metadata": {},
   "outputs": [],
   "source": [
    "from pathlib import Path"
   ]
  },
  {
   "cell_type": "code",
   "execution_count": 132,
   "id": "1ebdce72",
   "metadata": {},
   "outputs": [],
   "source": [
    "def save_files(df_dict):\n",
    "    for key, value in df_dict.items():\n",
    "        filepath = Path('~/code/giadapi/crypto/raw_data/expert_cleaned_data_{0}.csv'.format(key))\n",
    "        value.to_csv(filepath)\n",
    "    return"
   ]
  },
  {
   "cell_type": "code",
   "execution_count": 133,
   "id": "aab4c2f8",
   "metadata": {},
   "outputs": [],
   "source": [
    "save_files(df_dict)"
   ]
  },
  {
   "cell_type": "code",
   "execution_count": 74,
   "id": "ee750e12",
   "metadata": {},
   "outputs": [
    {
     "name": "stdout",
     "output_type": "stream",
     "text": [
      "43824\n",
      "43824\n",
      "43824\n",
      "43824\n",
      "43825\n"
     ]
    }
   ],
   "source": [
    "for i in df_dict:\n",
    "    print(len(df_dict[i]))"
   ]
  },
  {
   "cell_type": "code",
   "execution_count": 30,
   "id": "7c94e462",
   "metadata": {},
   "outputs": [
    {
     "data": {
      "text/plain": [
       "['🚀']"
      ]
     },
     "execution_count": 30,
     "metadata": {},
     "output_type": "execute_result"
    }
   ],
   "source": [
    "list = []\n",
    "list.append('🚀')\n",
    "list"
   ]
  },
  {
   "cell_type": "code",
   "execution_count": null,
   "id": "3c8dd357",
   "metadata": {},
   "outputs": [],
   "source": [
    "#remove duplicates and add users to blacklist\n",
    "#remove users who post supiciouskly large frequency of tweets\n",
    "#remove suspicious n-grams in tweets"
   ]
  },
  {
   "cell_type": "code",
   "execution_count": null,
   "id": "077c0fe4",
   "metadata": {},
   "outputs": [],
   "source": [
    "#remove duplicates and add users to blacklist"
   ]
  },
  {
   "cell_type": "code",
   "execution_count": 7,
   "id": "8c58c1af",
   "metadata": {},
   "outputs": [
    {
     "data": {
      "text/html": [
       "<div>\n",
       "<style scoped>\n",
       "    .dataframe tbody tr th:only-of-type {\n",
       "        vertical-align: middle;\n",
       "    }\n",
       "\n",
       "    .dataframe tbody tr th {\n",
       "        vertical-align: top;\n",
       "    }\n",
       "\n",
       "    .dataframe thead th {\n",
       "        text-align: right;\n",
       "    }\n",
       "</style>\n",
       "<table border=\"1\" class=\"dataframe\">\n",
       "  <thead>\n",
       "    <tr style=\"text-align: right;\">\n",
       "      <th></th>\n",
       "      <th>Unnamed: 0.1</th>\n",
       "      <th>Unnamed: 0</th>\n",
       "      <th>datetime</th>\n",
       "      <th>username</th>\n",
       "      <th>text</th>\n",
       "      <th>date</th>\n",
       "      <th>negative_bert</th>\n",
       "      <th>neutral_bert</th>\n",
       "      <th>positive_bert</th>\n",
       "    </tr>\n",
       "  </thead>\n",
       "  <tbody>\n",
       "    <tr>\n",
       "      <th>0</th>\n",
       "      <td>0</td>\n",
       "      <td>0</td>\n",
       "      <td>2021-01-01 22:09:59+00:00</td>\n",
       "      <td>sivilianlife</td>\n",
       "      <td>What's the chances @Grayscale is hedging short...</td>\n",
       "      <td>2021-01-01</td>\n",
       "      <td>0.002040</td>\n",
       "      <td>0.951312</td>\n",
       "      <td>0.046648</td>\n",
       "    </tr>\n",
       "    <tr>\n",
       "      <th>1</th>\n",
       "      <td>1</td>\n",
       "      <td>1</td>\n",
       "      <td>2021-01-01 22:09:39+00:00</td>\n",
       "      <td>LudicrousSpeed9</td>\n",
       "      <td>@CNBC Buy #Bitcoin to hedge against the result...</td>\n",
       "      <td>2021-01-01</td>\n",
       "      <td>0.004157</td>\n",
       "      <td>0.400750</td>\n",
       "      <td>0.595093</td>\n",
       "    </tr>\n",
       "    <tr>\n",
       "      <th>2</th>\n",
       "      <td>2</td>\n",
       "      <td>2</td>\n",
       "      <td>2021-01-01 22:09:35+00:00</td>\n",
       "      <td>SergioBowers1</td>\n",
       "      <td>@APompliano @pepsi  @MonsterEnergy  $DEO $KO e...</td>\n",
       "      <td>2021-01-01</td>\n",
       "      <td>0.000248</td>\n",
       "      <td>0.582107</td>\n",
       "      <td>0.417644</td>\n",
       "    </tr>\n",
       "    <tr>\n",
       "      <th>3</th>\n",
       "      <td>3</td>\n",
       "      <td>3</td>\n",
       "      <td>2021-01-01 22:09:35+00:00</td>\n",
       "      <td>bmurphypointman</td>\n",
       "      <td>#entrepreneurs #selfemployed #traveling #Affil...</td>\n",
       "      <td>2021-01-01</td>\n",
       "      <td>0.000084</td>\n",
       "      <td>0.816604</td>\n",
       "      <td>0.183312</td>\n",
       "    </tr>\n",
       "    <tr>\n",
       "      <th>4</th>\n",
       "      <td>4</td>\n",
       "      <td>4</td>\n",
       "      <td>2021-01-01 22:09:21+00:00</td>\n",
       "      <td>bitvestor</td>\n",
       "      <td>Closed another chunk of this long now. Remaind...</td>\n",
       "      <td>2021-01-01</td>\n",
       "      <td>0.000974</td>\n",
       "      <td>0.807066</td>\n",
       "      <td>0.191960</td>\n",
       "    </tr>\n",
       "  </tbody>\n",
       "</table>\n",
       "</div>"
      ],
      "text/plain": [
       "   Unnamed: 0.1  Unnamed: 0                   datetime         username  \\\n",
       "0             0           0  2021-01-01 22:09:59+00:00     sivilianlife   \n",
       "1             1           1  2021-01-01 22:09:39+00:00  LudicrousSpeed9   \n",
       "2             2           2  2021-01-01 22:09:35+00:00    SergioBowers1   \n",
       "3             3           3  2021-01-01 22:09:35+00:00  bmurphypointman   \n",
       "4             4           4  2021-01-01 22:09:21+00:00        bitvestor   \n",
       "\n",
       "                                                text        date  \\\n",
       "0  What's the chances @Grayscale is hedging short...  2021-01-01   \n",
       "1  @CNBC Buy #Bitcoin to hedge against the result...  2021-01-01   \n",
       "2  @APompliano @pepsi  @MonsterEnergy  $DEO $KO e...  2021-01-01   \n",
       "3  #entrepreneurs #selfemployed #traveling #Affil...  2021-01-01   \n",
       "4  Closed another chunk of this long now. Remaind...  2021-01-01   \n",
       "\n",
       "   negative_bert  neutral_bert  positive_bert  \n",
       "0       0.002040      0.951312       0.046648  \n",
       "1       0.004157      0.400750       0.595093  \n",
       "2       0.000248      0.582107       0.417644  \n",
       "3       0.000084      0.816604       0.183312  \n",
       "4       0.000974      0.807066       0.191960  "
      ]
     },
     "execution_count": 7,
     "metadata": {},
     "output_type": "execute_result"
    }
   ],
   "source": [
    "data.head()"
   ]
  },
  {
   "cell_type": "code",
   "execution_count": 9,
   "id": "b090f1d0",
   "metadata": {},
   "outputs": [],
   "source": [
    "data= data[['datetime', 'username', 'text', 'date',\n",
    "       'negative_bert', 'neutral_bert', 'positive_bert']]"
   ]
  },
  {
   "cell_type": "code",
   "execution_count": 16,
   "id": "3a6f3c11",
   "metadata": {},
   "outputs": [],
   "source": [
    "dup_tweets = data[data['text'].duplicated()]\n",
    "blacklist = []\n",
    "for name in dup_tweets['username']:\n",
    "    blacklist.append(name)\n",
    "\n",
    "blacklist = list(set(blacklist))"
   ]
  },
  {
   "cell_type": "code",
   "execution_count": 19,
   "id": "daf2b143",
   "metadata": {},
   "outputs": [
    {
     "data": {
      "text/plain": [
       "1340"
      ]
     },
     "execution_count": 19,
     "metadata": {},
     "output_type": "execute_result"
    }
   ],
   "source": [
    "len(blacklist)"
   ]
  },
  {
   "cell_type": "code",
   "execution_count": 20,
   "id": "c0b9a4aa",
   "metadata": {},
   "outputs": [],
   "source": [
    "def to_remove(x):\n",
    "    if x in blacklist:\n",
    "        return True\n",
    "    else:\n",
    "        return False"
   ]
  },
  {
   "cell_type": "code",
   "execution_count": 21,
   "id": "790f5271",
   "metadata": {},
   "outputs": [],
   "source": [
    "data['to_remove'] = data['username'].apply(to_remove)"
   ]
  },
  {
   "cell_type": "code",
   "execution_count": 25,
   "id": "a9bffb00",
   "metadata": {},
   "outputs": [],
   "source": [
    "mask = data['to_remove']\n",
    "data2 = data[~mask]"
   ]
  },
  {
   "cell_type": "code",
   "execution_count": 26,
   "id": "dee67800",
   "metadata": {},
   "outputs": [
    {
     "data": {
      "text/plain": [
       "(347668, 8)"
      ]
     },
     "execution_count": 26,
     "metadata": {},
     "output_type": "execute_result"
    }
   ],
   "source": [
    "data2.shape"
   ]
  },
  {
   "cell_type": "code",
   "execution_count": 28,
   "id": "69376a98",
   "metadata": {},
   "outputs": [],
   "source": [
    "data2.to_csv('raw_tweets_without_dupes_120323.csv')"
   ]
  },
  {
   "cell_type": "code",
   "execution_count": 27,
   "id": "31afceb1",
   "metadata": {},
   "outputs": [],
   "source": [
    "#remove users who post supiciouskly large frequency of tweets"
   ]
  }
 ],
 "metadata": {
  "kernelspec": {
   "display_name": "Python 3 (ipykernel)",
   "language": "python",
   "name": "python3"
  },
  "language_info": {
   "codemirror_mode": {
    "name": "ipython",
    "version": 3
   },
   "file_extension": ".py",
   "mimetype": "text/x-python",
   "name": "python",
   "nbconvert_exporter": "python",
   "pygments_lexer": "ipython3",
   "version": "3.10.6"
  },
  "toc": {
   "base_numbering": 1,
   "nav_menu": {},
   "number_sections": true,
   "sideBar": true,
   "skip_h1_title": false,
   "title_cell": "Table of Contents",
   "title_sidebar": "Contents",
   "toc_cell": false,
   "toc_position": {},
   "toc_section_display": true,
   "toc_window_display": false
  }
 },
 "nbformat": 4,
 "nbformat_minor": 5
}
