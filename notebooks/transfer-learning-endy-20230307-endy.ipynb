{
 "cells": [
  {
   "cell_type": "markdown",
   "id": "8e7441a2",
   "metadata": {},
   "source": [
    "Transfer learning using cryptobert and roberta"
   ]
  },
  {
   "cell_type": "code",
   "execution_count": 1,
   "id": "28f08c21",
   "metadata": {},
   "outputs": [
    {
     "name": "stderr",
     "output_type": "stream",
     "text": [
      "/Users/endy/.pyenv/versions/3.10.6/envs/crypto/lib/python3.10/site-packages/tqdm/auto.py:21: TqdmWarning: IProgress not found. Please update jupyter and ipywidgets. See https://ipywidgets.readthedocs.io/en/stable/user_install.html\n",
      "  from .autonotebook import tqdm as notebook_tqdm\n"
     ]
    }
   ],
   "source": [
    "from transformers import AutoModelForSequenceClassification\n",
    "from transformers import TFAutoModelForSequenceClassification\n",
    "from transformers import AutoTokenizer, AutoConfig\n",
    "import numpy as np\n",
    "import pandas as pd\n",
    "from scipy.special import softmax"
   ]
  },
  {
   "cell_type": "code",
   "execution_count": 2,
   "id": "fe56af4b",
   "metadata": {},
   "outputs": [
    {
     "name": "stdout",
     "output_type": "stream",
     "text": [
      "Requirement already satisfied: torch in /Users/endy/.pyenv/versions/3.10.6/envs/crypto/lib/python3.10/site-packages (1.13.1)\n",
      "Requirement already satisfied: typing-extensions in /Users/endy/.pyenv/versions/3.10.6/envs/crypto/lib/python3.10/site-packages (from torch) (4.5.0)\n"
     ]
    }
   ],
   "source": [
    "!pip install torch"
   ]
  },
  {
   "cell_type": "code",
   "execution_count": 3,
   "id": "d4e60cb9",
   "metadata": {},
   "outputs": [
    {
     "name": "stdout",
     "output_type": "stream",
     "text": [
      "Requirement already satisfied: protobuf==3.20.0 in /Users/endy/.pyenv/versions/3.10.6/envs/crypto/lib/python3.10/site-packages (3.20.0)\r\n"
     ]
    }
   ],
   "source": [
    "!pip install protobuf==3.20.0"
   ]
  },
  {
   "cell_type": "markdown",
   "id": "20081cbe",
   "metadata": {},
   "source": [
    "## Step 1 - Importing a sample of some Bitcoin Tweet Data from Kaggle to begin analysing the model"
   ]
  },
  {
   "cell_type": "code",
   "execution_count": 4,
   "id": "42f73c91",
   "metadata": {},
   "outputs": [],
   "source": [
    "data = pd.read_csv('~/code/giadapi/crypto/data/raw/bitcoin_tweets1000000.csv', nrows = 1000)\n",
    "\n",
    "# \"\\\\wsl.localhost\\Ubuntu\\home\\peter\\code\\giadapi\\crypto\\kaggle-tweets.zip\""
   ]
  },
  {
   "cell_type": "code",
   "execution_count": 5,
   "id": "aec789df",
   "metadata": {},
   "outputs": [
    {
     "data": {
      "text/html": [
       "<div>\n",
       "<style scoped>\n",
       "    .dataframe tbody tr th:only-of-type {\n",
       "        vertical-align: middle;\n",
       "    }\n",
       "\n",
       "    .dataframe tbody tr th {\n",
       "        vertical-align: top;\n",
       "    }\n",
       "\n",
       "    .dataframe thead th {\n",
       "        text-align: right;\n",
       "    }\n",
       "</style>\n",
       "<table border=\"1\" class=\"dataframe\">\n",
       "  <thead>\n",
       "    <tr style=\"text-align: right;\">\n",
       "      <th></th>\n",
       "      <th>Unnamed: 0</th>\n",
       "      <th>user_name</th>\n",
       "      <th>user_location</th>\n",
       "      <th>user_description</th>\n",
       "      <th>user_created</th>\n",
       "      <th>user_followers</th>\n",
       "      <th>user_friends</th>\n",
       "      <th>user_favourites</th>\n",
       "      <th>user_verified</th>\n",
       "      <th>date</th>\n",
       "      <th>text</th>\n",
       "      <th>hashtags</th>\n",
       "      <th>source</th>\n",
       "      <th>is_retweet</th>\n",
       "      <th>cleanText</th>\n",
       "      <th>Polarity Score</th>\n",
       "      <th>sentiment</th>\n",
       "    </tr>\n",
       "  </thead>\n",
       "  <tbody>\n",
       "    <tr>\n",
       "      <th>0</th>\n",
       "      <td>0</td>\n",
       "      <td>DeSota Wilson</td>\n",
       "      <td>Atlanta, GA</td>\n",
       "      <td>Biz Consultant, real estate, fintech, startups...</td>\n",
       "      <td>2009-04-26 20:05:09</td>\n",
       "      <td>8534.0</td>\n",
       "      <td>7605</td>\n",
       "      <td>4838</td>\n",
       "      <td>False</td>\n",
       "      <td>2021-02-10 23:59:04</td>\n",
       "      <td>Blue Ridge Bank shares halted by NYSE after #b...</td>\n",
       "      <td>['bitcoin']</td>\n",
       "      <td>Twitter Web App</td>\n",
       "      <td>False</td>\n",
       "      <td>blue ridge bank shares halted nyse bitcoin atm...</td>\n",
       "      <td>0.00</td>\n",
       "      <td>0</td>\n",
       "    </tr>\n",
       "    <tr>\n",
       "      <th>1</th>\n",
       "      <td>1</td>\n",
       "      <td>CryptoND</td>\n",
       "      <td>NaN</td>\n",
       "      <td>😎 BITCOINLIVE is a Dutch platform aimed at inf...</td>\n",
       "      <td>2019-10-17 20:12:10</td>\n",
       "      <td>6769.0</td>\n",
       "      <td>1532</td>\n",
       "      <td>25483</td>\n",
       "      <td>False</td>\n",
       "      <td>2021-02-10 23:58:48</td>\n",
       "      <td>😎 Today, that's this #Thursday, we will do a \"...</td>\n",
       "      <td>['Thursday', 'Btc', 'wallet', 'security']</td>\n",
       "      <td>Twitter for Android</td>\n",
       "      <td>False</td>\n",
       "      <td>today thursday take friend leowandersleb btc w...</td>\n",
       "      <td>0.00</td>\n",
       "      <td>0</td>\n",
       "    </tr>\n",
       "    <tr>\n",
       "      <th>2</th>\n",
       "      <td>2</td>\n",
       "      <td>Tdlmatias</td>\n",
       "      <td>London, England</td>\n",
       "      <td>IM Academy : The best #forex, #SelfEducation, ...</td>\n",
       "      <td>2014-11-10 10:50:37</td>\n",
       "      <td>128.0</td>\n",
       "      <td>332</td>\n",
       "      <td>924</td>\n",
       "      <td>False</td>\n",
       "      <td>2021-02-10 23:54:48</td>\n",
       "      <td>Guys evening, I have read this article about B...</td>\n",
       "      <td>NaN</td>\n",
       "      <td>Twitter Web App</td>\n",
       "      <td>False</td>\n",
       "      <td>guys evening read article btc would like share</td>\n",
       "      <td>0.00</td>\n",
       "      <td>0</td>\n",
       "    </tr>\n",
       "    <tr>\n",
       "      <th>3</th>\n",
       "      <td>3</td>\n",
       "      <td>Crypto is the future</td>\n",
       "      <td>NaN</td>\n",
       "      <td>I will post a lot of buying signals for BTC tr...</td>\n",
       "      <td>2019-09-28 16:48:12</td>\n",
       "      <td>625.0</td>\n",
       "      <td>129</td>\n",
       "      <td>14</td>\n",
       "      <td>False</td>\n",
       "      <td>2021-02-10 23:54:33</td>\n",
       "      <td>$BTC A big chance in a billion! Price: \\487264...</td>\n",
       "      <td>['Bitcoin', 'FX', 'BTC', 'crypto']</td>\n",
       "      <td>dlvr.it</td>\n",
       "      <td>False</td>\n",
       "      <td>btc big chance billion price bitcoin btc crypto</td>\n",
       "      <td>0.00</td>\n",
       "      <td>0</td>\n",
       "    </tr>\n",
       "    <tr>\n",
       "      <th>4</th>\n",
       "      <td>4</td>\n",
       "      <td>Alex Kirchmaier 🇦🇹🇸🇪 #FactsSuperspreader</td>\n",
       "      <td>Europa</td>\n",
       "      <td>Co-founder @RENJERJerky | Forbes 30Under30 | I...</td>\n",
       "      <td>2016-02-03 13:15:55</td>\n",
       "      <td>1249.0</td>\n",
       "      <td>1472</td>\n",
       "      <td>10482</td>\n",
       "      <td>False</td>\n",
       "      <td>2021-02-10 23:54:06</td>\n",
       "      <td>This network is secured by 9 508 nodes as of t...</td>\n",
       "      <td>['BTC']</td>\n",
       "      <td>Twitter Web App</td>\n",
       "      <td>False</td>\n",
       "      <td>network secured nodes today soon biggest bears...</td>\n",
       "      <td>-0.25</td>\n",
       "      <td>0</td>\n",
       "    </tr>\n",
       "    <tr>\n",
       "      <th>...</th>\n",
       "      <td>...</td>\n",
       "      <td>...</td>\n",
       "      <td>...</td>\n",
       "      <td>...</td>\n",
       "      <td>...</td>\n",
       "      <td>...</td>\n",
       "      <td>...</td>\n",
       "      <td>...</td>\n",
       "      <td>...</td>\n",
       "      <td>...</td>\n",
       "      <td>...</td>\n",
       "      <td>...</td>\n",
       "      <td>...</td>\n",
       "      <td>...</td>\n",
       "      <td>...</td>\n",
       "      <td>...</td>\n",
       "      <td>...</td>\n",
       "    </tr>\n",
       "    <tr>\n",
       "      <th>995</th>\n",
       "      <td>995</td>\n",
       "      <td>Szymon Kostrzewa</td>\n",
       "      <td>NaN</td>\n",
       "      <td>NaN</td>\n",
       "      <td>2016-04-02 12:33:50</td>\n",
       "      <td>7.0</td>\n",
       "      <td>75</td>\n",
       "      <td>31</td>\n",
       "      <td>False</td>\n",
       "      <td>2021-02-10 17:27:33</td>\n",
       "      <td>🤝 Follow me on @betfury_io. Let's hunt for Bit...</td>\n",
       "      <td>NaN</td>\n",
       "      <td>Twitter Web App</td>\n",
       "      <td>False</td>\n",
       "      <td>follow betfury_io let hunt bitcoins together g...</td>\n",
       "      <td>0.30</td>\n",
       "      <td>1</td>\n",
       "    </tr>\n",
       "    <tr>\n",
       "      <th>996</th>\n",
       "      <td>996</td>\n",
       "      <td>Crypto Zombie</td>\n",
       "      <td>New York</td>\n",
       "      <td>🎥 YouTube: Crypto Zombie 🧟‍♂️ #Bitcoin and #bl...</td>\n",
       "      <td>2010-01-18 23:52:55</td>\n",
       "      <td>59416.0</td>\n",
       "      <td>1058</td>\n",
       "      <td>23385</td>\n",
       "      <td>False</td>\n",
       "      <td>2021-02-10 17:27:16</td>\n",
       "      <td>#Bitcoin falling after Tesla pump! Was that th...</td>\n",
       "      <td>['Bitcoin']</td>\n",
       "      <td>Twitter Web App</td>\n",
       "      <td>False</td>\n",
       "      <td>bitcoin falling tesla pump top btc worried dip...</td>\n",
       "      <td>0.50</td>\n",
       "      <td>1</td>\n",
       "    </tr>\n",
       "    <tr>\n",
       "      <th>997</th>\n",
       "      <td>997</td>\n",
       "      <td>Brian Harrington</td>\n",
       "      <td>Anaheim, CA</td>\n",
       "      <td>#Bitcoin is actively replacing the dollar. Can...</td>\n",
       "      <td>2009-08-19 20:21:01</td>\n",
       "      <td>7687.0</td>\n",
       "      <td>2322</td>\n",
       "      <td>83966</td>\n",
       "      <td>False</td>\n",
       "      <td>2021-02-10 17:27:13</td>\n",
       "      <td>If you're within driving distance of Iowa City...</td>\n",
       "      <td>NaN</td>\n",
       "      <td>Twitter Web App</td>\n",
       "      <td>False</td>\n",
       "      <td>within driving distance iowa city definitely c...</td>\n",
       "      <td>0.00</td>\n",
       "      <td>0</td>\n",
       "    </tr>\n",
       "    <tr>\n",
       "      <th>998</th>\n",
       "      <td>998</td>\n",
       "      <td>🔸️Bitcoin Pixel🔸️</td>\n",
       "      <td>NaN</td>\n",
       "      <td>I discovered crypto in 2019 on Youtube. Since ...</td>\n",
       "      <td>2015-07-08 13:44:42</td>\n",
       "      <td>1873.0</td>\n",
       "      <td>75</td>\n",
       "      <td>676</td>\n",
       "      <td>False</td>\n",
       "      <td>2021-02-10 17:27:10</td>\n",
       "      <td>🔴 QUESTION PLEASE 🔴\\n\\nFinally I sold $AVAX &amp;a...</td>\n",
       "      <td>['BTC', 'ETH', 'DOT']</td>\n",
       "      <td>Twitter for Android</td>\n",
       "      <td>False</td>\n",
       "      <td>question please finally sold avax amp cake bou...</td>\n",
       "      <td>0.00</td>\n",
       "      <td>0</td>\n",
       "    </tr>\n",
       "    <tr>\n",
       "      <th>999</th>\n",
       "      <td>999</td>\n",
       "      <td>Crypto is the future</td>\n",
       "      <td>NaN</td>\n",
       "      <td>I will post a lot of buying signals for BTC tr...</td>\n",
       "      <td>2019-09-28 16:48:12</td>\n",
       "      <td>625.0</td>\n",
       "      <td>129</td>\n",
       "      <td>14</td>\n",
       "      <td>False</td>\n",
       "      <td>2021-02-10 17:27:01</td>\n",
       "      <td>$BTC Going up signal on a 30 minute chart! Pri...</td>\n",
       "      <td>['Bitcoin', 'FX', 'BTC', 'crypto']</td>\n",
       "      <td>dlvr.it</td>\n",
       "      <td>False</td>\n",
       "      <td>btc going signal minute chart price bitcoin bt...</td>\n",
       "      <td>0.00</td>\n",
       "      <td>0</td>\n",
       "    </tr>\n",
       "  </tbody>\n",
       "</table>\n",
       "<p>1000 rows × 17 columns</p>\n",
       "</div>"
      ],
      "text/plain": [
       "     Unnamed: 0                                 user_name    user_location  \\\n",
       "0             0                             DeSota Wilson      Atlanta, GA   \n",
       "1             1                                  CryptoND              NaN   \n",
       "2             2                                 Tdlmatias  London, England   \n",
       "3             3                      Crypto is the future              NaN   \n",
       "4             4  Alex Kirchmaier 🇦🇹🇸🇪 #FactsSuperspreader           Europa   \n",
       "..          ...                                       ...              ...   \n",
       "995         995                          Szymon Kostrzewa              NaN   \n",
       "996         996                             Crypto Zombie         New York   \n",
       "997         997                          Brian Harrington      Anaheim, CA   \n",
       "998         998                         🔸️Bitcoin Pixel🔸️              NaN   \n",
       "999         999                      Crypto is the future              NaN   \n",
       "\n",
       "                                      user_description         user_created  \\\n",
       "0    Biz Consultant, real estate, fintech, startups...  2009-04-26 20:05:09   \n",
       "1    😎 BITCOINLIVE is a Dutch platform aimed at inf...  2019-10-17 20:12:10   \n",
       "2    IM Academy : The best #forex, #SelfEducation, ...  2014-11-10 10:50:37   \n",
       "3    I will post a lot of buying signals for BTC tr...  2019-09-28 16:48:12   \n",
       "4    Co-founder @RENJERJerky | Forbes 30Under30 | I...  2016-02-03 13:15:55   \n",
       "..                                                 ...                  ...   \n",
       "995                                                NaN  2016-04-02 12:33:50   \n",
       "996  🎥 YouTube: Crypto Zombie 🧟‍♂️ #Bitcoin and #bl...  2010-01-18 23:52:55   \n",
       "997  #Bitcoin is actively replacing the dollar. Can...  2009-08-19 20:21:01   \n",
       "998  I discovered crypto in 2019 on Youtube. Since ...  2015-07-08 13:44:42   \n",
       "999  I will post a lot of buying signals for BTC tr...  2019-09-28 16:48:12   \n",
       "\n",
       "     user_followers  user_friends  user_favourites  user_verified  \\\n",
       "0            8534.0          7605             4838          False   \n",
       "1            6769.0          1532            25483          False   \n",
       "2             128.0           332              924          False   \n",
       "3             625.0           129               14          False   \n",
       "4            1249.0          1472            10482          False   \n",
       "..              ...           ...              ...            ...   \n",
       "995             7.0            75               31          False   \n",
       "996         59416.0          1058            23385          False   \n",
       "997          7687.0          2322            83966          False   \n",
       "998          1873.0            75              676          False   \n",
       "999           625.0           129               14          False   \n",
       "\n",
       "                    date                                               text  \\\n",
       "0    2021-02-10 23:59:04  Blue Ridge Bank shares halted by NYSE after #b...   \n",
       "1    2021-02-10 23:58:48  😎 Today, that's this #Thursday, we will do a \"...   \n",
       "2    2021-02-10 23:54:48  Guys evening, I have read this article about B...   \n",
       "3    2021-02-10 23:54:33  $BTC A big chance in a billion! Price: \\487264...   \n",
       "4    2021-02-10 23:54:06  This network is secured by 9 508 nodes as of t...   \n",
       "..                   ...                                                ...   \n",
       "995  2021-02-10 17:27:33  🤝 Follow me on @betfury_io. Let's hunt for Bit...   \n",
       "996  2021-02-10 17:27:16  #Bitcoin falling after Tesla pump! Was that th...   \n",
       "997  2021-02-10 17:27:13  If you're within driving distance of Iowa City...   \n",
       "998  2021-02-10 17:27:10  🔴 QUESTION PLEASE 🔴\\n\\nFinally I sold $AVAX &a...   \n",
       "999  2021-02-10 17:27:01  $BTC Going up signal on a 30 minute chart! Pri...   \n",
       "\n",
       "                                      hashtags               source  \\\n",
       "0                                  ['bitcoin']      Twitter Web App   \n",
       "1    ['Thursday', 'Btc', 'wallet', 'security']  Twitter for Android   \n",
       "2                                          NaN      Twitter Web App   \n",
       "3           ['Bitcoin', 'FX', 'BTC', 'crypto']              dlvr.it   \n",
       "4                                      ['BTC']      Twitter Web App   \n",
       "..                                         ...                  ...   \n",
       "995                                        NaN      Twitter Web App   \n",
       "996                                ['Bitcoin']      Twitter Web App   \n",
       "997                                        NaN      Twitter Web App   \n",
       "998                      ['BTC', 'ETH', 'DOT']  Twitter for Android   \n",
       "999         ['Bitcoin', 'FX', 'BTC', 'crypto']              dlvr.it   \n",
       "\n",
       "     is_retweet                                          cleanText  \\\n",
       "0         False  blue ridge bank shares halted nyse bitcoin atm...   \n",
       "1         False  today thursday take friend leowandersleb btc w...   \n",
       "2         False     guys evening read article btc would like share   \n",
       "3         False    btc big chance billion price bitcoin btc crypto   \n",
       "4         False  network secured nodes today soon biggest bears...   \n",
       "..          ...                                                ...   \n",
       "995       False  follow betfury_io let hunt bitcoins together g...   \n",
       "996       False  bitcoin falling tesla pump top btc worried dip...   \n",
       "997       False  within driving distance iowa city definitely c...   \n",
       "998       False  question please finally sold avax amp cake bou...   \n",
       "999       False  btc going signal minute chart price bitcoin bt...   \n",
       "\n",
       "     Polarity Score  sentiment  \n",
       "0              0.00          0  \n",
       "1              0.00          0  \n",
       "2              0.00          0  \n",
       "3              0.00          0  \n",
       "4             -0.25          0  \n",
       "..              ...        ...  \n",
       "995            0.30          1  \n",
       "996            0.50          1  \n",
       "997            0.00          0  \n",
       "998            0.00          0  \n",
       "999            0.00          0  \n",
       "\n",
       "[1000 rows x 17 columns]"
      ]
     },
     "execution_count": 5,
     "metadata": {},
     "output_type": "execute_result"
    }
   ],
   "source": [
    "data"
   ]
  },
  {
   "cell_type": "code",
   "execution_count": 6,
   "id": "841439f7",
   "metadata": {},
   "outputs": [],
   "source": [
    "data = data[['text', 'date']]"
   ]
  },
  {
   "cell_type": "code",
   "execution_count": 7,
   "id": "6c4c0630",
   "metadata": {},
   "outputs": [
    {
     "data": {
      "text/plain": [
       "'Blue Ridge Bank shares halted by NYSE after #bitcoin ATM announcement https://t.co/xaaZmaJKiV @MyBlueRidgeBank… https://t.co/sgBxMkP1SI'"
      ]
     },
     "execution_count": 7,
     "metadata": {},
     "output_type": "execute_result"
    }
   ],
   "source": [
    "data['text'][0]"
   ]
  },
  {
   "cell_type": "markdown",
   "id": "2de89806",
   "metadata": {},
   "source": [
    "## Step 2 - Cleaning the data"
   ]
  },
  {
   "cell_type": "code",
   "execution_count": 8,
   "id": "1f5a0b7a",
   "metadata": {},
   "outputs": [
    {
     "data": {
      "text/plain": [
       "'Blue Ridge Bank shares halted by NYSE after #bitcoin ATM announcement http @user http'"
      ]
     },
     "execution_count": 8,
     "metadata": {},
     "output_type": "execute_result"
    }
   ],
   "source": [
    "# Preprocess text (username and link placeholders) - this is suggested from the example in \n",
    "# https://huggingface.co/cardiffnlp/twitter-xlm-roberta-base-sentiment\n",
    "def preprocess_1(text):\n",
    "    new_text = []\n",
    "    for t in text.split(\" \"):\n",
    "        t = '@user' if t.startswith('@') and len(t) > 1 else t\n",
    "        t = 'http' if t.startswith('http') else t\n",
    "        new_text.append(t)\n",
    "    return \" \".join(new_text)\n",
    "\n",
    "preprocess_1(data['text'][0])"
   ]
  },
  {
   "cell_type": "code",
   "execution_count": 9,
   "id": "3f64e58b",
   "metadata": {},
   "outputs": [
    {
     "data": {
      "text/plain": [
       "'Blue Ridge Bank shares halted by NYSE after #bitcoin ATM announcement   '"
      ]
     },
     "execution_count": 9,
     "metadata": {},
     "output_type": "execute_result"
    }
   ],
   "source": [
    "# I have changed this to remove more information\n",
    "\n",
    "def preprocess_2(text):\n",
    "    new_text = []\n",
    "    for t in text.split(\" \"):\n",
    "        t = '' if t.startswith('@') and len(t) > 1 else t\n",
    "        t = '' if t.startswith('http') else t\n",
    "        new_text.append(t)\n",
    "    return \" \".join(new_text)\n",
    "\n",
    "sample_test = preprocess_2(data['text'][0])\n",
    "sample_test"
   ]
  },
  {
   "cell_type": "code",
   "execution_count": 10,
   "id": "6dac11b1",
   "metadata": {},
   "outputs": [
    {
     "name": "stderr",
     "output_type": "stream",
     "text": [
      "/var/folders/d5/bxgljmg10q70y4xmy233dhfr0000gn/T/ipykernel_72124/3797914433.py:3: SettingWithCopyWarning: \n",
      "A value is trying to be set on a copy of a slice from a DataFrame.\n",
      "Try using .loc[row_indexer,col_indexer] = value instead\n",
      "\n",
      "See the caveats in the documentation: https://pandas.pydata.org/pandas-docs/stable/user_guide/indexing.html#returning-a-view-versus-a-copy\n",
      "  data['process_text'] = data.text\n",
      "/var/folders/d5/bxgljmg10q70y4xmy233dhfr0000gn/T/ipykernel_72124/3797914433.py:4: SettingWithCopyWarning: \n",
      "A value is trying to be set on a copy of a slice from a DataFrame.\n",
      "Try using .loc[row_indexer,col_indexer] = value instead\n",
      "\n",
      "See the caveats in the documentation: https://pandas.pydata.org/pandas-docs/stable/user_guide/indexing.html#returning-a-view-versus-a-copy\n",
      "  data['label'] = data.text\n",
      "/var/folders/d5/bxgljmg10q70y4xmy233dhfr0000gn/T/ipykernel_72124/3797914433.py:5: SettingWithCopyWarning: \n",
      "A value is trying to be set on a copy of a slice from a DataFrame.\n",
      "Try using .loc[row_indexer,col_indexer] = value instead\n",
      "\n",
      "See the caveats in the documentation: https://pandas.pydata.org/pandas-docs/stable/user_guide/indexing.html#returning-a-view-versus-a-copy\n",
      "  data['score'] = data.text\n",
      "/var/folders/d5/bxgljmg10q70y4xmy233dhfr0000gn/T/ipykernel_72124/3797914433.py:7: SettingWithCopyWarning: \n",
      "A value is trying to be set on a copy of a slice from a DataFrame\n",
      "\n",
      "See the caveats in the documentation: https://pandas.pydata.org/pandas-docs/stable/user_guide/indexing.html#returning-a-view-versus-a-copy\n",
      "  data['process_text'][i] = preprocess_2(data['text'][i])\n"
     ]
    }
   ],
   "source": [
    "#use the preprocess_2 to clean the data\n",
    "\n",
    "data['process_text'] = data.text\n",
    "data['label'] = data.text\n",
    "data['score'] = data.text\n",
    "for i in range(len(data)):\n",
    "    data['process_text'][i] = preprocess_2(data['text'][i])"
   ]
  },
  {
   "cell_type": "markdown",
   "id": "c95de5a6",
   "metadata": {},
   "source": [
    "## Step 3 - analyse the language and sentiments by pretrained model"
   ]
  },
  {
   "cell_type": "code",
   "execution_count": 11,
   "id": "9dfe8563",
   "metadata": {},
   "outputs": [],
   "source": [
    "!pyenv local crypto"
   ]
  },
  {
   "cell_type": "code",
   "execution_count": 12,
   "id": "cacfa720",
   "metadata": {},
   "outputs": [],
   "source": [
    "#test the twitter xlm\n",
    "\n",
    "from transformers import pipeline\n",
    "model_path = \"ElKulako/cryptobert\"\n",
    "sentiment_task = pipeline(\"sentiment-analysis\", model=model_path, tokenizer=model_path)\n",
    "test_sent = sentiment_task(sample_test)"
   ]
  },
  {
   "cell_type": "code",
   "execution_count": 13,
   "id": "a768c62a",
   "metadata": {},
   "outputs": [
    {
     "data": {
      "text/plain": [
       "0.9938846230506897"
      ]
     },
     "execution_count": 13,
     "metadata": {},
     "output_type": "execute_result"
    }
   ],
   "source": [
    "test_sent[0]['score']"
   ]
  },
  {
   "cell_type": "code",
   "execution_count": 14,
   "id": "777c4c03",
   "metadata": {},
   "outputs": [
    {
     "data": {
      "text/plain": [
       "'Neutral'"
      ]
     },
     "execution_count": 14,
     "metadata": {},
     "output_type": "execute_result"
    }
   ],
   "source": [
    "test_sent[0]['label']"
   ]
  },
  {
   "cell_type": "code",
   "execution_count": 15,
   "id": "61ea7fc8",
   "metadata": {},
   "outputs": [
    {
     "name": "stderr",
     "output_type": "stream",
     "text": [
      "/var/folders/d5/bxgljmg10q70y4xmy233dhfr0000gn/T/ipykernel_72124/2277679823.py:3: SettingWithCopyWarning: \n",
      "A value is trying to be set on a copy of a slice from a DataFrame\n",
      "\n",
      "See the caveats in the documentation: https://pandas.pydata.org/pandas-docs/stable/user_guide/indexing.html#returning-a-view-versus-a-copy\n",
      "  data['label'][i] = sentiment[0]['label']\n",
      "/var/folders/d5/bxgljmg10q70y4xmy233dhfr0000gn/T/ipykernel_72124/2277679823.py:4: SettingWithCopyWarning: \n",
      "A value is trying to be set on a copy of a slice from a DataFrame\n",
      "\n",
      "See the caveats in the documentation: https://pandas.pydata.org/pandas-docs/stable/user_guide/indexing.html#returning-a-view-versus-a-copy\n",
      "  data['score'][i] = sentiment[0]['score']\n"
     ]
    }
   ],
   "source": [
    "for i in range(len(data)):\n",
    "    sentiment = sentiment_task(data['process_text'][i])\n",
    "    data['label'][i] = sentiment[0]['label']\n",
    "    data['score'][i] = sentiment[0]['score']"
   ]
  },
  {
   "cell_type": "code",
   "execution_count": 16,
   "id": "434b8663",
   "metadata": {},
   "outputs": [
    {
     "data": {
      "text/html": [
       "<div>\n",
       "<style scoped>\n",
       "    .dataframe tbody tr th:only-of-type {\n",
       "        vertical-align: middle;\n",
       "    }\n",
       "\n",
       "    .dataframe tbody tr th {\n",
       "        vertical-align: top;\n",
       "    }\n",
       "\n",
       "    .dataframe thead th {\n",
       "        text-align: right;\n",
       "    }\n",
       "</style>\n",
       "<table border=\"1\" class=\"dataframe\">\n",
       "  <thead>\n",
       "    <tr style=\"text-align: right;\">\n",
       "      <th></th>\n",
       "      <th>text</th>\n",
       "      <th>date</th>\n",
       "      <th>process_text</th>\n",
       "      <th>label</th>\n",
       "      <th>score</th>\n",
       "    </tr>\n",
       "  </thead>\n",
       "  <tbody>\n",
       "    <tr>\n",
       "      <th>0</th>\n",
       "      <td>Blue Ridge Bank shares halted by NYSE after #b...</td>\n",
       "      <td>2021-02-10 23:59:04</td>\n",
       "      <td>Blue Ridge Bank shares halted by NYSE after #b...</td>\n",
       "      <td>Neutral</td>\n",
       "      <td>0.993885</td>\n",
       "    </tr>\n",
       "    <tr>\n",
       "      <th>1</th>\n",
       "      <td>😎 Today, that's this #Thursday, we will do a \"...</td>\n",
       "      <td>2021-02-10 23:58:48</td>\n",
       "      <td>😎 Today, that's this #Thursday, we will do a \"...</td>\n",
       "      <td>Neutral</td>\n",
       "      <td>0.849627</td>\n",
       "    </tr>\n",
       "    <tr>\n",
       "      <th>2</th>\n",
       "      <td>Guys evening, I have read this article about B...</td>\n",
       "      <td>2021-02-10 23:54:48</td>\n",
       "      <td>Guys evening, I have read this article about B...</td>\n",
       "      <td>Bearish</td>\n",
       "      <td>0.780925</td>\n",
       "    </tr>\n",
       "    <tr>\n",
       "      <th>3</th>\n",
       "      <td>$BTC A big chance in a billion! Price: \\487264...</td>\n",
       "      <td>2021-02-10 23:54:33</td>\n",
       "      <td>$BTC A big chance in a billion! Price: \\487264...</td>\n",
       "      <td>Bullish</td>\n",
       "      <td>0.653737</td>\n",
       "    </tr>\n",
       "    <tr>\n",
       "      <th>4</th>\n",
       "      <td>This network is secured by 9 508 nodes as of t...</td>\n",
       "      <td>2021-02-10 23:54:06</td>\n",
       "      <td>This network is secured by 9 508 nodes as of t...</td>\n",
       "      <td>Bullish</td>\n",
       "      <td>0.907657</td>\n",
       "    </tr>\n",
       "    <tr>\n",
       "      <th>...</th>\n",
       "      <td>...</td>\n",
       "      <td>...</td>\n",
       "      <td>...</td>\n",
       "      <td>...</td>\n",
       "      <td>...</td>\n",
       "    </tr>\n",
       "    <tr>\n",
       "      <th>995</th>\n",
       "      <td>🤝 Follow me on @betfury_io. Let's hunt for Bit...</td>\n",
       "      <td>2021-02-10 17:27:33</td>\n",
       "      <td>🤝 Follow me on  Let's hunt for Bitcoins togeth...</td>\n",
       "      <td>Neutral</td>\n",
       "      <td>0.62777</td>\n",
       "    </tr>\n",
       "    <tr>\n",
       "      <th>996</th>\n",
       "      <td>#Bitcoin falling after Tesla pump! Was that th...</td>\n",
       "      <td>2021-02-10 17:27:16</td>\n",
       "      <td>#Bitcoin falling after Tesla pump! Was that th...</td>\n",
       "      <td>Bullish</td>\n",
       "      <td>0.630188</td>\n",
       "    </tr>\n",
       "    <tr>\n",
       "      <th>997</th>\n",
       "      <td>If you're within driving distance of Iowa City...</td>\n",
       "      <td>2021-02-10 17:27:13</td>\n",
       "      <td>If you're within driving distance of Iowa City...</td>\n",
       "      <td>Neutral</td>\n",
       "      <td>0.616015</td>\n",
       "    </tr>\n",
       "    <tr>\n",
       "      <th>998</th>\n",
       "      <td>🔴 QUESTION PLEASE 🔴\\n\\nFinally I sold $AVAX &amp;a...</td>\n",
       "      <td>2021-02-10 17:27:10</td>\n",
       "      <td>🔴 QUESTION PLEASE 🔴\\n\\nFinally I sold $AVAX &amp;a...</td>\n",
       "      <td>Neutral</td>\n",
       "      <td>0.617814</td>\n",
       "    </tr>\n",
       "    <tr>\n",
       "      <th>999</th>\n",
       "      <td>$BTC Going up signal on a 30 minute chart! Pri...</td>\n",
       "      <td>2021-02-10 17:27:01</td>\n",
       "      <td>$BTC Going up signal on a 30 minute chart! Pri...</td>\n",
       "      <td>Neutral</td>\n",
       "      <td>0.600256</td>\n",
       "    </tr>\n",
       "  </tbody>\n",
       "</table>\n",
       "<p>1000 rows × 5 columns</p>\n",
       "</div>"
      ],
      "text/plain": [
       "                                                  text                 date  \\\n",
       "0    Blue Ridge Bank shares halted by NYSE after #b...  2021-02-10 23:59:04   \n",
       "1    😎 Today, that's this #Thursday, we will do a \"...  2021-02-10 23:58:48   \n",
       "2    Guys evening, I have read this article about B...  2021-02-10 23:54:48   \n",
       "3    $BTC A big chance in a billion! Price: \\487264...  2021-02-10 23:54:33   \n",
       "4    This network is secured by 9 508 nodes as of t...  2021-02-10 23:54:06   \n",
       "..                                                 ...                  ...   \n",
       "995  🤝 Follow me on @betfury_io. Let's hunt for Bit...  2021-02-10 17:27:33   \n",
       "996  #Bitcoin falling after Tesla pump! Was that th...  2021-02-10 17:27:16   \n",
       "997  If you're within driving distance of Iowa City...  2021-02-10 17:27:13   \n",
       "998  🔴 QUESTION PLEASE 🔴\\n\\nFinally I sold $AVAX &a...  2021-02-10 17:27:10   \n",
       "999  $BTC Going up signal on a 30 minute chart! Pri...  2021-02-10 17:27:01   \n",
       "\n",
       "                                          process_text    label     score  \n",
       "0    Blue Ridge Bank shares halted by NYSE after #b...  Neutral  0.993885  \n",
       "1    😎 Today, that's this #Thursday, we will do a \"...  Neutral  0.849627  \n",
       "2    Guys evening, I have read this article about B...  Bearish  0.780925  \n",
       "3    $BTC A big chance in a billion! Price: \\487264...  Bullish  0.653737  \n",
       "4    This network is secured by 9 508 nodes as of t...  Bullish  0.907657  \n",
       "..                                                 ...      ...       ...  \n",
       "995  🤝 Follow me on  Let's hunt for Bitcoins togeth...  Neutral   0.62777  \n",
       "996  #Bitcoin falling after Tesla pump! Was that th...  Bullish  0.630188  \n",
       "997  If you're within driving distance of Iowa City...  Neutral  0.616015  \n",
       "998  🔴 QUESTION PLEASE 🔴\\n\\nFinally I sold $AVAX &a...  Neutral  0.617814  \n",
       "999  $BTC Going up signal on a 30 minute chart! Pri...  Neutral  0.600256  \n",
       "\n",
       "[1000 rows x 5 columns]"
      ]
     },
     "execution_count": 16,
     "metadata": {},
     "output_type": "execute_result"
    }
   ],
   "source": [
    "data"
   ]
  },
  {
   "cell_type": "markdown",
   "id": "fa9c0849",
   "metadata": {},
   "source": [
    "## Step 4 - Compare the model performance"
   ]
  },
  {
   "cell_type": "code",
   "execution_count": null,
   "id": "435dacec",
   "metadata": {},
   "outputs": [],
   "source": []
  },
  {
   "cell_type": "code",
   "execution_count": 56,
   "id": "b7b9b37b",
   "metadata": {},
   "outputs": [],
   "source": [
    "data.to_csv('xlm.csv')"
   ]
  }
 ],
 "metadata": {
  "kernelspec": {
   "display_name": "Python 3 (ipykernel)",
   "language": "python",
   "name": "python3"
  },
  "language_info": {
   "codemirror_mode": {
    "name": "ipython",
    "version": 3
   },
   "file_extension": ".py",
   "mimetype": "text/x-python",
   "name": "python",
   "nbconvert_exporter": "python",
   "pygments_lexer": "ipython3",
   "version": "3.10.6"
  },
  "toc": {
   "base_numbering": 1,
   "nav_menu": {},
   "number_sections": true,
   "sideBar": true,
   "skip_h1_title": false,
   "title_cell": "Table of Contents",
   "title_sidebar": "Contents",
   "toc_cell": false,
   "toc_position": {},
   "toc_section_display": true,
   "toc_window_display": false
  }
 },
 "nbformat": 4,
 "nbformat_minor": 5
}
