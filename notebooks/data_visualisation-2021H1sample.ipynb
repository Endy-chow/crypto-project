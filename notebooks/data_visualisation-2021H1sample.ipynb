{
 "cells": [
  {
   "cell_type": "code",
   "execution_count": 33,
   "id": "c8442641",
   "metadata": {},
   "outputs": [],
   "source": [
    "import pandas as pd \n",
    "import seaborn as sns\n",
    "import numpy as np\n",
    "import matplotlib.pyplot as plt\n",
    "import matplotlib\n",
    "import datetime as dt"
   ]
  },
  {
   "cell_type": "code",
   "execution_count": 45,
   "id": "36432377",
   "metadata": {},
   "outputs": [],
   "source": [
    "data1 = pd.read_csv('../raw_data/2021H1sampledata-sentiment.csv', lineterminator='\\n')\n",
    "# data2 = pd.read_csv('../raw_data/2022-06-24_2022-08-12_twitter_transferlearning.csv', lineterminator='\\n')\n",
    "data3 = pd.read_csv('../raw_data/2022-01-01_2022-06-30_BTC-USD_1d.csv', lineterminator='\\n')"
   ]
  },
  {
   "cell_type": "code",
   "execution_count": 36,
   "id": "f47a367e",
   "metadata": {},
   "outputs": [
    {
     "name": "stdout",
     "output_type": "stream",
     "text": [
      "<class 'pandas.core.frame.DataFrame'>\n",
      "RangeIndex: 10000 entries, 0 to 9999\n",
      "Data columns (total 7 columns):\n",
      " #   Column         Non-Null Count  Dtype  \n",
      "---  ------         --------------  -----  \n",
      " 0   Unnamed: 0.1   10000 non-null  int64  \n",
      " 1   Unnamed: 0     10000 non-null  int64  \n",
      " 2   date           10000 non-null  object \n",
      " 3   process_text   10000 non-null  object \n",
      " 4   negative_bert  10000 non-null  float64\n",
      " 5   neutral_bert   10000 non-null  float64\n",
      " 6   positive_bert  10000 non-null  float64\n",
      "dtypes: float64(3), int64(2), object(2)\n",
      "memory usage: 547.0+ KB\n"
     ]
    }
   ],
   "source": [
    "data1.info()"
   ]
  },
  {
   "cell_type": "code",
   "execution_count": 46,
   "id": "b7e1df08",
   "metadata": {},
   "outputs": [],
   "source": [
    "data3['Date'] = pd.to_datetime(data3['Date'])\n"
   ]
  },
  {
   "cell_type": "code",
   "execution_count": 54,
   "id": "c2dc561e",
   "metadata": {
    "scrolled": false
   },
   "outputs": [],
   "source": [
    "data1 = data1[['date','process_text','negative_bert','neutral_bert','positive_bert']]"
   ]
  },
  {
   "cell_type": "code",
   "execution_count": 57,
   "id": "087c1dbd",
   "metadata": {},
   "outputs": [
    {
     "name": "stderr",
     "output_type": "stream",
     "text": [
      "/tmp/ipykernel_30029/3214548215.py:1: SettingWithCopyWarning: \n",
      "A value is trying to be set on a copy of a slice from a DataFrame.\n",
      "Try using .loc[row_indexer,col_indexer] = value instead\n",
      "\n",
      "See the caveats in the documentation: https://pandas.pydata.org/pandas-docs/stable/user_guide/indexing.html#returning-a-view-versus-a-copy\n",
      "  data1['Date']=data1['date']\n"
     ]
    }
   ],
   "source": [
    "data1['Date']=data1['date']"
   ]
  },
  {
   "cell_type": "code",
   "execution_count": 61,
   "id": "a01051c2",
   "metadata": {},
   "outputs": [
    {
     "data": {
      "text/html": [
       "<div>\n",
       "<style scoped>\n",
       "    .dataframe tbody tr th:only-of-type {\n",
       "        vertical-align: middle;\n",
       "    }\n",
       "\n",
       "    .dataframe tbody tr th {\n",
       "        vertical-align: top;\n",
       "    }\n",
       "\n",
       "    .dataframe thead th {\n",
       "        text-align: right;\n",
       "    }\n",
       "</style>\n",
       "<table border=\"1\" class=\"dataframe\">\n",
       "  <thead>\n",
       "    <tr style=\"text-align: right;\">\n",
       "      <th></th>\n",
       "      <th>Date</th>\n",
       "      <th>Open</th>\n",
       "      <th>High</th>\n",
       "      <th>Low</th>\n",
       "      <th>Close</th>\n",
       "      <th>Adj Close</th>\n",
       "      <th>Volume</th>\n",
       "      <th>Symbol</th>\n",
       "      <th>price_change</th>\n",
       "    </tr>\n",
       "  </thead>\n",
       "  <tbody>\n",
       "    <tr>\n",
       "      <th>0</th>\n",
       "      <td>2022-01-01</td>\n",
       "      <td>46311.746094</td>\n",
       "      <td>47827.312500</td>\n",
       "      <td>46288.484375</td>\n",
       "      <td>47686.812500</td>\n",
       "      <td>47686.812500</td>\n",
       "      <td>24582667004</td>\n",
       "      <td>BTC-USD</td>\n",
       "      <td>NaN</td>\n",
       "    </tr>\n",
       "    <tr>\n",
       "      <th>1</th>\n",
       "      <td>2022-01-02</td>\n",
       "      <td>47680.925781</td>\n",
       "      <td>47881.406250</td>\n",
       "      <td>46856.937500</td>\n",
       "      <td>47345.218750</td>\n",
       "      <td>47345.218750</td>\n",
       "      <td>27951569547</td>\n",
       "      <td>BTC-USD</td>\n",
       "      <td>-0.007163</td>\n",
       "    </tr>\n",
       "    <tr>\n",
       "      <th>2</th>\n",
       "      <td>2022-01-03</td>\n",
       "      <td>47343.542969</td>\n",
       "      <td>47510.726562</td>\n",
       "      <td>45835.964844</td>\n",
       "      <td>46458.117188</td>\n",
       "      <td>46458.117188</td>\n",
       "      <td>33071628362</td>\n",
       "      <td>BTC-USD</td>\n",
       "      <td>-0.018737</td>\n",
       "    </tr>\n",
       "    <tr>\n",
       "      <th>3</th>\n",
       "      <td>2022-01-04</td>\n",
       "      <td>46458.851562</td>\n",
       "      <td>47406.546875</td>\n",
       "      <td>45752.464844</td>\n",
       "      <td>45897.574219</td>\n",
       "      <td>45897.574219</td>\n",
       "      <td>42494677905</td>\n",
       "      <td>BTC-USD</td>\n",
       "      <td>-0.012066</td>\n",
       "    </tr>\n",
       "    <tr>\n",
       "      <th>4</th>\n",
       "      <td>2022-01-05</td>\n",
       "      <td>45899.359375</td>\n",
       "      <td>46929.046875</td>\n",
       "      <td>42798.222656</td>\n",
       "      <td>43569.003906</td>\n",
       "      <td>43569.003906</td>\n",
       "      <td>36851084859</td>\n",
       "      <td>BTC-USD</td>\n",
       "      <td>-0.050734</td>\n",
       "    </tr>\n",
       "    <tr>\n",
       "      <th>...</th>\n",
       "      <td>...</td>\n",
       "      <td>...</td>\n",
       "      <td>...</td>\n",
       "      <td>...</td>\n",
       "      <td>...</td>\n",
       "      <td>...</td>\n",
       "      <td>...</td>\n",
       "      <td>...</td>\n",
       "      <td>...</td>\n",
       "    </tr>\n",
       "    <tr>\n",
       "      <th>175</th>\n",
       "      <td>2022-06-25</td>\n",
       "      <td>21233.609375</td>\n",
       "      <td>21520.914062</td>\n",
       "      <td>20964.585938</td>\n",
       "      <td>21502.337891</td>\n",
       "      <td>21502.337891</td>\n",
       "      <td>18372538715</td>\n",
       "      <td>BTC-USD</td>\n",
       "      <td>0.012749</td>\n",
       "    </tr>\n",
       "    <tr>\n",
       "      <th>176</th>\n",
       "      <td>2022-06-26</td>\n",
       "      <td>21496.494141</td>\n",
       "      <td>21783.724609</td>\n",
       "      <td>21016.269531</td>\n",
       "      <td>21027.294922</td>\n",
       "      <td>21027.294922</td>\n",
       "      <td>18027170497</td>\n",
       "      <td>BTC-USD</td>\n",
       "      <td>-0.022093</td>\n",
       "    </tr>\n",
       "    <tr>\n",
       "      <th>177</th>\n",
       "      <td>2022-06-27</td>\n",
       "      <td>21028.238281</td>\n",
       "      <td>21478.089844</td>\n",
       "      <td>20620.199219</td>\n",
       "      <td>20735.478516</td>\n",
       "      <td>20735.478516</td>\n",
       "      <td>20965695707</td>\n",
       "      <td>BTC-USD</td>\n",
       "      <td>-0.013878</td>\n",
       "    </tr>\n",
       "    <tr>\n",
       "      <th>178</th>\n",
       "      <td>2022-06-28</td>\n",
       "      <td>20731.544922</td>\n",
       "      <td>21164.423828</td>\n",
       "      <td>20228.812500</td>\n",
       "      <td>20280.634766</td>\n",
       "      <td>20280.634766</td>\n",
       "      <td>21381535161</td>\n",
       "      <td>BTC-USD</td>\n",
       "      <td>-0.021936</td>\n",
       "    </tr>\n",
       "    <tr>\n",
       "      <th>179</th>\n",
       "      <td>2022-06-29</td>\n",
       "      <td>20281.169922</td>\n",
       "      <td>20364.156250</td>\n",
       "      <td>19937.791016</td>\n",
       "      <td>20104.023438</td>\n",
       "      <td>20104.023438</td>\n",
       "      <td>23552740328</td>\n",
       "      <td>BTC-USD</td>\n",
       "      <td>-0.008708</td>\n",
       "    </tr>\n",
       "  </tbody>\n",
       "</table>\n",
       "<p>180 rows × 9 columns</p>\n",
       "</div>"
      ],
      "text/plain": [
       "          Date          Open          High           Low         Close  \\\n",
       "0   2022-01-01  46311.746094  47827.312500  46288.484375  47686.812500   \n",
       "1   2022-01-02  47680.925781  47881.406250  46856.937500  47345.218750   \n",
       "2   2022-01-03  47343.542969  47510.726562  45835.964844  46458.117188   \n",
       "3   2022-01-04  46458.851562  47406.546875  45752.464844  45897.574219   \n",
       "4   2022-01-05  45899.359375  46929.046875  42798.222656  43569.003906   \n",
       "..         ...           ...           ...           ...           ...   \n",
       "175 2022-06-25  21233.609375  21520.914062  20964.585938  21502.337891   \n",
       "176 2022-06-26  21496.494141  21783.724609  21016.269531  21027.294922   \n",
       "177 2022-06-27  21028.238281  21478.089844  20620.199219  20735.478516   \n",
       "178 2022-06-28  20731.544922  21164.423828  20228.812500  20280.634766   \n",
       "179 2022-06-29  20281.169922  20364.156250  19937.791016  20104.023438   \n",
       "\n",
       "        Adj Close       Volume   Symbol  price_change  \n",
       "0    47686.812500  24582667004  BTC-USD           NaN  \n",
       "1    47345.218750  27951569547  BTC-USD     -0.007163  \n",
       "2    46458.117188  33071628362  BTC-USD     -0.018737  \n",
       "3    45897.574219  42494677905  BTC-USD     -0.012066  \n",
       "4    43569.003906  36851084859  BTC-USD     -0.050734  \n",
       "..            ...          ...      ...           ...  \n",
       "175  21502.337891  18372538715  BTC-USD      0.012749  \n",
       "176  21027.294922  18027170497  BTC-USD     -0.022093  \n",
       "177  20735.478516  20965695707  BTC-USD     -0.013878  \n",
       "178  20280.634766  21381535161  BTC-USD     -0.021936  \n",
       "179  20104.023438  23552740328  BTC-USD     -0.008708  \n",
       "\n",
       "[180 rows x 9 columns]"
      ]
     },
     "execution_count": 61,
     "metadata": {},
     "output_type": "execute_result"
    }
   ],
   "source": [
    "data3."
   ]
  },
  {
   "cell_type": "code",
   "execution_count": 51,
   "id": "2f303b77",
   "metadata": {},
   "outputs": [],
   "source": [
    "data1.sort_values(by='date', inplace=True)"
   ]
  },
  {
   "cell_type": "code",
   "execution_count": 39,
   "id": "2c193955",
   "metadata": {},
   "outputs": [],
   "source": [
    "data1['date'] = pd.to_datetime(data1['date'])"
   ]
  },
  {
   "cell_type": "code",
   "execution_count": 40,
   "id": "b126e1e1",
   "metadata": {},
   "outputs": [
    {
     "name": "stderr",
     "output_type": "stream",
     "text": [
      "/tmp/ipykernel_30029/1986020640.py:1: FutureWarning: The default value of numeric_only in DataFrameGroupBy.mean is deprecated. In a future version, numeric_only will default to False. Either specify numeric_only or select only columns which should be valid for the function.\n",
      "  data1.groupby(data1['date'].dt.date).mean()\n"
     ]
    },
    {
     "data": {
      "text/html": [
       "<div>\n",
       "<style scoped>\n",
       "    .dataframe tbody tr th:only-of-type {\n",
       "        vertical-align: middle;\n",
       "    }\n",
       "\n",
       "    .dataframe tbody tr th {\n",
       "        vertical-align: top;\n",
       "    }\n",
       "\n",
       "    .dataframe thead th {\n",
       "        text-align: right;\n",
       "    }\n",
       "</style>\n",
       "<table border=\"1\" class=\"dataframe\">\n",
       "  <thead>\n",
       "    <tr style=\"text-align: right;\">\n",
       "      <th></th>\n",
       "      <th>Unnamed: 0.1</th>\n",
       "      <th>Unnamed: 0</th>\n",
       "      <th>negative_bert</th>\n",
       "      <th>neutral_bert</th>\n",
       "      <th>positive_bert</th>\n",
       "    </tr>\n",
       "    <tr>\n",
       "      <th>date</th>\n",
       "      <th></th>\n",
       "      <th></th>\n",
       "      <th></th>\n",
       "      <th></th>\n",
       "      <th></th>\n",
       "    </tr>\n",
       "  </thead>\n",
       "  <tbody>\n",
       "    <tr>\n",
       "      <th>2022-01-01</th>\n",
       "      <td>182.150000</td>\n",
       "      <td>182.150000</td>\n",
       "      <td>0.076243</td>\n",
       "      <td>0.544750</td>\n",
       "      <td>0.379008</td>\n",
       "    </tr>\n",
       "    <tr>\n",
       "      <th>2022-01-02</th>\n",
       "      <td>474.564103</td>\n",
       "      <td>474.564103</td>\n",
       "      <td>0.025468</td>\n",
       "      <td>0.568633</td>\n",
       "      <td>0.405900</td>\n",
       "    </tr>\n",
       "    <tr>\n",
       "      <th>2022-01-03</th>\n",
       "      <td>888.914894</td>\n",
       "      <td>888.914894</td>\n",
       "      <td>0.053689</td>\n",
       "      <td>0.487297</td>\n",
       "      <td>0.459014</td>\n",
       "    </tr>\n",
       "    <tr>\n",
       "      <th>2022-01-04</th>\n",
       "      <td>1377.107143</td>\n",
       "      <td>1377.107143</td>\n",
       "      <td>0.120855</td>\n",
       "      <td>0.509412</td>\n",
       "      <td>0.369732</td>\n",
       "    </tr>\n",
       "    <tr>\n",
       "      <th>2022-01-05</th>\n",
       "      <td>1882.612245</td>\n",
       "      <td>1882.612245</td>\n",
       "      <td>0.144648</td>\n",
       "      <td>0.487103</td>\n",
       "      <td>0.368249</td>\n",
       "    </tr>\n",
       "    <tr>\n",
       "      <th>...</th>\n",
       "      <td>...</td>\n",
       "      <td>...</td>\n",
       "      <td>...</td>\n",
       "      <td>...</td>\n",
       "      <td>...</td>\n",
       "    </tr>\n",
       "    <tr>\n",
       "      <th>2022-06-26</th>\n",
       "      <td>90772.551724</td>\n",
       "      <td>90772.551724</td>\n",
       "      <td>0.146412</td>\n",
       "      <td>0.567548</td>\n",
       "      <td>0.286040</td>\n",
       "    </tr>\n",
       "    <tr>\n",
       "      <th>2022-06-27</th>\n",
       "      <td>91286.296875</td>\n",
       "      <td>91286.296875</td>\n",
       "      <td>0.073990</td>\n",
       "      <td>0.598382</td>\n",
       "      <td>0.327628</td>\n",
       "    </tr>\n",
       "    <tr>\n",
       "      <th>2022-06-28</th>\n",
       "      <td>91870.122807</td>\n",
       "      <td>91870.122807</td>\n",
       "      <td>0.075534</td>\n",
       "      <td>0.624125</td>\n",
       "      <td>0.300341</td>\n",
       "    </tr>\n",
       "    <tr>\n",
       "      <th>2022-06-29</th>\n",
       "      <td>92414.338235</td>\n",
       "      <td>92414.338235</td>\n",
       "      <td>0.149963</td>\n",
       "      <td>0.535728</td>\n",
       "      <td>0.314309</td>\n",
       "    </tr>\n",
       "    <tr>\n",
       "      <th>2022-06-30</th>\n",
       "      <td>92988.920000</td>\n",
       "      <td>92988.920000</td>\n",
       "      <td>0.122020</td>\n",
       "      <td>0.533062</td>\n",
       "      <td>0.344918</td>\n",
       "    </tr>\n",
       "  </tbody>\n",
       "</table>\n",
       "<p>181 rows × 5 columns</p>\n",
       "</div>"
      ],
      "text/plain": [
       "            Unnamed: 0.1    Unnamed: 0  negative_bert  neutral_bert  \\\n",
       "date                                                                  \n",
       "2022-01-01    182.150000    182.150000       0.076243      0.544750   \n",
       "2022-01-02    474.564103    474.564103       0.025468      0.568633   \n",
       "2022-01-03    888.914894    888.914894       0.053689      0.487297   \n",
       "2022-01-04   1377.107143   1377.107143       0.120855      0.509412   \n",
       "2022-01-05   1882.612245   1882.612245       0.144648      0.487103   \n",
       "...                  ...           ...            ...           ...   \n",
       "2022-06-26  90772.551724  90772.551724       0.146412      0.567548   \n",
       "2022-06-27  91286.296875  91286.296875       0.073990      0.598382   \n",
       "2022-06-28  91870.122807  91870.122807       0.075534      0.624125   \n",
       "2022-06-29  92414.338235  92414.338235       0.149963      0.535728   \n",
       "2022-06-30  92988.920000  92988.920000       0.122020      0.533062   \n",
       "\n",
       "            positive_bert  \n",
       "date                       \n",
       "2022-01-01       0.379008  \n",
       "2022-01-02       0.405900  \n",
       "2022-01-03       0.459014  \n",
       "2022-01-04       0.369732  \n",
       "2022-01-05       0.368249  \n",
       "...                   ...  \n",
       "2022-06-26       0.286040  \n",
       "2022-06-27       0.327628  \n",
       "2022-06-28       0.300341  \n",
       "2022-06-29       0.314309  \n",
       "2022-06-30       0.344918  \n",
       "\n",
       "[181 rows x 5 columns]"
      ]
     },
     "execution_count": 40,
     "metadata": {},
     "output_type": "execute_result"
    }
   ],
   "source": [
    "data1.groupby(data1['date'].dt.date).mean()\n",
    "\n",
    "# df.date.dt.day"
   ]
  },
  {
   "cell_type": "code",
   "execution_count": 75,
   "id": "aa89f277",
   "metadata": {},
   "outputs": [
    {
     "data": {
      "image/png": "[encoded data removed]",
      "text/plain": [
       "<Figure size 640x480 with 1 Axes>"
      ]
     },
     "metadata": {},
     "output_type": "display_data"
    }
   ],
   "source": [
    "sns.histplot(data1['positive_bert']);\n"
   ]
  },
  {
   "cell_type": "code",
   "execution_count": 68,
   "id": "66e75f95",
   "metadata": {},
   "outputs": [
    {
     "name": "stdout",
     "output_type": "stream",
     "text": [
      "<class 'pandas.core.frame.DataFrame'>\n",
      "Int64Index: 10000 entries, 5094 to 6701\n",
      "Data columns (total 6 columns):\n",
      " #   Column         Non-Null Count  Dtype  \n",
      "---  ------         --------------  -----  \n",
      " 0   date           10000 non-null  object \n",
      " 1   process_text   10000 non-null  object \n",
      " 2   negative_bert  10000 non-null  float64\n",
      " 3   neutral_bert   10000 non-null  float64\n",
      " 4   positive_bert  10000 non-null  float64\n",
      " 5   Date           10000 non-null  object \n",
      "dtypes: float64(3), object(3)\n",
      "memory usage: 546.9+ KB\n"
     ]
    }
   ],
   "source": [
    "data1.info()"
   ]
  },
  {
   "cell_type": "code",
   "execution_count": 78,
   "id": "65832a3e",
   "metadata": {},
   "outputs": [
    {
     "data": {
      "text/plain": [
       "5094    2022-01-01\n",
       "8091    2022-01-01\n",
       "1979    2022-01-01\n",
       "5383    2022-01-01\n",
       "7892    2022-01-01\n",
       "           ...    \n",
       "3677    2022-06-30\n",
       "8506    2022-06-30\n",
       "7052    2022-06-30\n",
       "9611    2022-06-30\n",
       "6701    2022-06-30\n",
       "Name: date, Length: 10000, dtype: object"
      ]
     },
     "execution_count": 78,
     "metadata": {},
     "output_type": "execute_result"
    }
   ],
   "source": [
    "data1['date']"
   ]
  },
  {
   "cell_type": "code",
   "execution_count": null,
   "id": "0c7d3d0c",
   "metadata": {},
   "outputs": [],
   "source": [
    "matplotlib.rc_file_defaults()\n",
    "ax1 = sns.set_style(style=None, rc=None )\n",
    "\n",
    "fig, ax1 = plt.subplots(figsize=(50,8))\n",
    "\n",
    "sns.lineplot(data = data3['Close'], marker='o', sort = False, ax=ax1)\n",
    "ax2 = ax1.twinx()\n",
    "\n",
    "sns.barplot(data = data1, x=data1['date'], y=data1['positive_bert'], alpha=0.5, ax=ax2)\n",
    "# sns.regplot(x=data1['date'], y=data1['positive_bert'], scatter=False)"
   ]
  },
  {
   "cell_type": "code",
   "execution_count": 24,
   "id": "a59c784c",
   "metadata": {},
   "outputs": [
    {
     "data": {
      "text/plain": [
       "<Axes: ylabel='Close'>"
      ]
     },
     "execution_count": 24,
     "metadata": {},
     "output_type": "execute_result"
    },
    {
     "data": {
      "image/png": "[encoded data removed]",
      "text/plain": [
       "<Figure size 640x480 with 1 Axes>"
      ]
     },
     "metadata": {},
     "output_type": "display_data"
    }
   ],
   "source": [
    "sns.lineplot(data = data3['Close'], marker='o', sort = False)"
   ]
  }
 ],
 "metadata": {
  "kernelspec": {
   "display_name": "Python 3 (ipykernel)",
   "language": "python",
   "name": "python3"
  },
  "language_info": {
   "codemirror_mode": {
    "name": "ipython",
    "version": 3
   },
   "file_extension": ".py",
   "mimetype": "text/x-python",
   "name": "python",
   "nbconvert_exporter": "python",
   "pygments_lexer": "ipython3",
   "version": "3.10.6"
  },
  "toc": {
   "base_numbering": 1,
   "nav_menu": {},
   "number_sections": true,
   "sideBar": true,
   "skip_h1_title": false,
   "title_cell": "Table of Contents",
   "title_sidebar": "Contents",
   "toc_cell": false,
   "toc_position": {},
   "toc_section_display": true,
   "toc_window_display": false
  }
 },
 "nbformat": 4,
 "nbformat_minor": 5
}
