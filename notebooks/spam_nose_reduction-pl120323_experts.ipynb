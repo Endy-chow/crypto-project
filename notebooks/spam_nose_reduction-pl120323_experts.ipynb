{
 "cells": [
  {
   "cell_type": "code",
   "execution_count": 2,
   "id": "8a98ae2d",
   "metadata": {},
   "outputs": [],
   "source": [
    "import pandas as pd \n",
    "import seaborn as sns\n",
    "import numpy as np\n",
    "import matplotlib.pyplot as plt\n",
    "import matplotlib"
   ]
  },
  {
   "cell_type": "code",
   "execution_count": 1,
   "id": "6cd809cc",
   "metadata": {},
   "outputs": [
    {
     "data": {
      "text/plain": [
       "'/Users/suraj/code/giadapi/crypto/notebooks'"
      ]
     },
     "execution_count": 1,
     "metadata": {},
     "output_type": "execute_result"
    }
   ],
   "source": [
    "pwd"
   ]
  },
  {
   "cell_type": "code",
   "execution_count": 7,
   "id": "3c334a89",
   "metadata": {},
   "outputs": [],
   "source": [
    "data = pd.read_csv('../raw_data/experts.csv', lineterminator='\\n')\n",
    "data2 = pd.read_csv('../raw_data/experts_part2.csv', lineterminator='\\n')\n",
    "data3 = pd.read_csv('../raw_data/experts_part3.csv', lineterminator='\\n')\n"
   ]
  },
  {
   "cell_type": "code",
   "execution_count": 8,
   "id": "9295db27",
   "metadata": {},
   "outputs": [],
   "source": [
    "data = pd.concat([data,data2,data3,data4,data5])"
   ]
  },
  {
   "cell_type": "code",
   "execution_count": 9,
   "id": "7f0ac9aa",
   "metadata": {},
   "outputs": [
    {
     "data": {
      "text/plain": [
       "(801085, 3)"
      ]
     },
     "execution_count": 9,
     "metadata": {},
     "output_type": "execute_result"
    }
   ],
   "source": [
    "data.shape"
   ]
  },
  {
   "cell_type": "code",
   "execution_count": 32,
   "id": "52040617",
   "metadata": {},
   "outputs": [
    {
     "data": {
      "text/plain": [
       "6048"
      ]
     },
     "execution_count": 32,
     "metadata": {},
     "output_type": "execute_result"
    }
   ],
   "source": [
    "data['text\\r'].str.contains('#Bitcoin|#bitcoin',).sum()"
   ]
  },
  {
   "cell_type": "code",
   "execution_count": 26,
   "id": "433d4c9e",
   "metadata": {},
   "outputs": [
    {
     "name": "stdout",
     "output_type": "stream",
     "text": [
      "@insiliconot @jimtalbot damn\r\n",
      "@icebergy_ idk dude u think ppl are gonna be altcoin shopping with nukes flying? fuck no they're gonna panic sell that shit\r\n",
      "@ericjuta @StakeETH oh dw, i get pay on deribit for that trash pa lmao, just have to get the right spread\r\n",
      "@Defigang @mewn21 if fooo started a pod with somebody it would probably be Mewny yes\n",
      "\n",
      "if Mewny was interested\r\n",
      "@CryptoCronkite @DegenSpartan delet ur account fkn frok D:&lt;\r\n",
      "dey tink it's deir accounts dat r locked\n",
      "\n",
      "but its deir bodies \n",
      "dat reside in a lunatic asylum \n",
      "\n",
      "deyre... strapped in and buckled up https://t.co/X0yJjPz7yH\r\n",
      "oke, can y'all punp the other one as well pleas &lt;3 https://t.co/c8FR3wJfcp\r\n",
      "@Mind_State Hold them.\r\n",
      "$INJ still within the range. aslong as we hold above 'x' i still think we get $2.4 https://t.co/FrzQTbYETH\r\n",
      "don't believ \n",
      "his lies https://t.co/Jk0lVyJhkm\r\n",
      "The #DoomLoop has begun. 1 USD = 1 EUR. Prepare yourselves for YCC and $BTC = $1 million. But please be patient, these things take time. https://t.co/mR8SsBx0fv\r\n",
      "Own yourself. #Bitcoin\r\n",
      "@wizardofsoho @LucaNetz he is da 🐐 for sure\r\n",
      "@knowerofmarkets ur literally liek 15\r\n",
      "@Fitchinverse sick ride, congrats!\r\n",
      "@CanteringClark please stop living this amazing fulfilled life \n",
      "\n",
      "i just cant take it anymore, alejandro\r\n",
      "ECP Status.\n",
      "\n",
      "Yall can have fun staying poor.\r\n",
      "@LadyofCrypto1 counter trading what u put out is my best tool\r\n",
      "Well okay mr money bags high rolla big spenda\r\n",
      "@Crypto_Chase Nice work Chase. Always producing content and always level-headed. Enjoy 100k and more.\r\n",
      "Can’t tell if we’re winning or losing right now\r\n",
      "@GoblinisNFT traits show up while image lags... no such luck 😭\r\n",
      "@litecoinbaby We will not be defeated!\r\n",
      "@mackrypt0 You are very welcome friend, thanks for the amazing art! Another great piece for my ego shrine of pictures of myself lol\r\n",
      "@0xanzufutaba na i look at EETH and they still above 3 BN\r\n",
      "@MashiroTrades We've been worried about that for two years now. Long until you're wrong...\r\n",
      "oh fuck did i just trigger the bot\r\n",
      "who are some good cyberpsychologists in crypto\r\n",
      "@cointrader96 Upgrade season?\r\n",
      "@TheCryptoLes They fucking hypocrites\r\n",
      "@Upon1timexx @Rush_XBT Oh yeah I do, I just like the simplicity of converse as well though.\r\n",
      "Ok, I asked too late anyway.\n",
      "\n",
      "The guys are here today putting them on the entire backside of our house which gets incredible sunlight year round and all the light reflected off the water.\n",
      "\n",
      "Main goal was to get off the grid to some degree and support clean energy.\r\n",
      "new favorite follow is @kylascan\r\n",
      "Investors want crypto, but only about half of them are here... so... number go up.\n",
      "\n",
      "$BTC is chopping sideways, $AUDIO gets a bump, $AVAX is booming and more.\n",
      "\n",
      "Discussing it all in 20 minutes, at 9:30 AM EDT.\n",
      "\n",
      "https://t.co/JBtvEsnSkJ\r\n",
      "@icebergy_ @0xtuba no and doing p well afaik\r\n",
      "I think I underestimated the amount of people who will take a tweet word-for-word and regurgitate it.\r\n",
      "@IRaptorI i mean the picture of the person who post it mean everything,\n",
      "\n",
      "we do a bit of trolling online https://t.co/eRcrohsZ7W\r\n",
      "great use of the word \"arguably\"\n",
      "\n",
      "if you comb the thread you can see arguments for both sides\n",
      "\n",
      "pro BTC - no holy high council coordinating updates, fixed supply (lol? who cares)\n",
      "pro ETH - block production actually by the masses directly\n",
      "\n",
      "personally, i think proof of stake is fine\r\n",
      "I'm just not gonna try to explain to any normies why my aavegochi's clothes are worth more than everything I own in the physical world combined.\r\n",
      "@CL207 yes well u pretend to be a cat online so we’ll be in the same mental ward\r\n",
      "@JoeyWong_t3ch i feel trusts are a lot more restrictive, but works well if the purpose is well defined\r\n",
      "Will be very interesting to see how much ETH is unearthed from divdotvc market dumping airdrops they knew about in advance\n",
      "\n",
      "If you’re going to be dishonest don’t do it from a tagged wallet, FYI - that’s how you agitate a hornet’s nest\r\n",
      "discuss\r\n",
      "Seeing a lot of early shorts. Expecting another push to 21100.\r\n",
      "@The_Bogfather Helped the seller and the buyer\r\n",
      "By looking at the inverted $ETH chart, it just looks as a bear flag ready to dump. https://t.co/KNgnR5zaVV\r\n",
      "@Mikocryptolive @crypto_chik01 not yet but its on the bucket list.\r\n",
      "@MessagesRUS All that is relevant is position size.\n",
      "\n",
      "Use the built in calculator that the exchanges have to determine how big you position size should be in order to only lose X and gain Y based on the location of your stop and TP.\r\n",
      "@KoreanBotNo666 Good morning! https://t.co/2Unzah99J4\r\n",
      "Trend wise, Bitcoin has done decent work, but positioning is sketchy. \n",
      "\n",
      "Those aggro deriv longs that so obviously accumulated, and now a significant amount of 21.5k strike calls being sold. So close to ITM.\n",
      "\n",
      "CPI this week, probably mean reversion. https://t.co/Bv8ZBO5CPt\r\n",
      "@tasnadim i like to trade dailies, but i'll use 4h to find entries sometimes\r\n",
      "@btc_charlie @Grand85 @Trader_XO sounds like a gay orgy\r\n",
      "@0xRyze Pretty sure I have a Delphi sub!\r\n",
      "@jimtalbot u know what looks good...dont laugh but xrp looks primed\r\n",
      "@Dcpcooks Agreed🤝\r\n",
      "@0xkgcone fooo feels so bad sending them\n",
      "\n",
      "our slaves basically\n",
      "\n",
      "they have no choice to opt in\n",
      "\n",
      "we forced them to risk their necks\r\n",
      "@gpuhot nothing really, when I turn on the scrypt rigs for heat they stack LTC and doge\r\n",
      "Floyd is jake paul son now\r\n",
      "@KeyboardMonkey3 @CL207 @lawmaster @cryptonio123 https://t.co/EpH1msqbKd\n",
      "\n",
      "Reach is only a tiny part of the equation\r\n",
      "@deltaxbt_ @KuroXLB @0xgodking Feel like I want to be in this thread but I don't have anything to add.\r\n",
      "@trader1sz @BuckleUpBrandon this talk holy shit what the fuck https://t.co/VNUhkRE8AE\r\n",
      "Twitter's Ban Process:\n",
      "\n",
      "Person builds twitter presence over the course of years and 50,000 tweets\n",
      "\n",
      "tweets one thing that some snowflake, in their narcissism, takes personally\n",
      "\n",
      "snowflake makes account TODAY\n",
      "\n",
      "snowflake reports\n",
      "\n",
      "ding dong intern with too much power perma bans them\r\n",
      "@YoannTurpin1 of course, coming soon\r\n",
      "@BitBitCrypto bitcoin in bio\r\n",
      "i say asset-lite because if you NEED certain belongings to feel at home (not judging, it makes sense to me)\n",
      "\n",
      "then serviced apartments wont cut it and you need to throw down for a rental contract or buy a property and under-utilize\n",
      "\n",
      "typical buy vs rent debates can make sense here\r\n",
      "@Scamdevlous lmao\r\n",
      "Clash euw, anybody wanna play? Send opgg\r\n",
      "Once again people going by headline only. It’s $25m option. The first price was the $250m liquidity line (debt). Buying Blockfi for $25m does nothing to liquidity issues + runway. Gotta have money to run it and absorb the run on assets deposited.\r\n",
      "@ichimikichiki @random_snakes I am legit terrified of snakes I can barely even look at pictures of snakes without scaring the crap out of myself\r\n",
      "LMAO\r\n",
      "when Gary gensler tells me I can’t have candy  https://t.co/COeZDrmTbL\r\n",
      "31, my coins are not going up at as high of a clip as I would like https://t.co/UVrxDe1jLs\r\n",
      "@thamirr17 @jimtalbot never said i didnt like women.\r\n",
      "@mev_pete I would agree with you in most other markets but I feel like if you're tilted enough in crypto that it's really affecting your QOL, it's pretty much impossible to make good moves. It's phrased severely but tbh I think it's pretty sound. Can always come back in the right mindset\r\n",
      "in jez we trust https://t.co/WyarCOvmvw\r\n",
      "What are you gonna do when you make it?\n",
      "I am going to be a college football booster\r\n",
      "Also, this is discord is going to be about transparency, not parading cherry picked winners and trying to push ref links. \n",
      "\n",
      "Losing is a part of trading. https://t.co/XosqMXKYbG\r\n",
      "Soon™  $ETH\r\n",
      "If you had told me a year ago that the best performing coin would be a meme token called shiba inu, I would’ve said “contract?”\r\n",
      "These are pretty fun.  Taking right-click-save-as to new levels\n",
      "\n",
      "https://t.co/H4YrPw9rvB\n",
      "\n",
      "can pay like 0.01 eth to copy another nft's metadata forever lol\r\n",
      "$SC low tf entry if you were not already in. https://t.co/u6PDjUJesO\r\n",
      "discuss\r\n",
      "@kurtoshi Niiiceee\r\n",
      "Time for the gym.\n",
      "\n",
      "Today was a big win, and it took 12 seconds.\r\n",
      "@Never_Botted Sorry you think on such small timescales, must be a rough life\r\n",
      "altperp liquidity is so mediocre its discouraging to even look at that product\r\n",
      "@NewsInSmol Taking a piss in the pool\r\n",
      "@gainzy222 Liar, you couldn’t help yourself in person. https://t.co/ab0NsX9lk6\r\n",
      "@Kir_BTC @gainzy5 I’m pretty sure you actually have to “move” there... all these ppl who think they could just game an actual audit are fucking insane.  Maybe skirting like thousand dollar bills, these would be 7 figure lies...\r\n",
      "@Milkman2228 @FastFoodPunks Say no more https://t.co/Mi3eqfLQNm\r\n",
      "@krakexxxx @tryingtamakeit The PA has been strong, which is what I mostly care about (apart from that strong ATH resistance). They're doing OK with NFTs, and a lot of people genuinely like the coin.\r\n",
      "did you know my virtual avatar is on OpenSea and you can rotate me around ?\n",
      "\n",
      "https://t.co/rInq3MmNTg\n",
      "(also smol alpha leek)\r\n",
      "@kevinsekniqi @Mothalamp @CanteringClark gana \n",
      "\n",
      "stream it?\r\n",
      "@CryptoB0ot @Rxtkv Once he got caught lying\r\n",
      "@zackvoell @conzimp This stuff is disgustingly predatory.\r\n",
      "\"If you just held your airdrops you would be good\" season\r\n",
      "@letsplayftse @Trader_XO @peta Fillet nice too\r\n",
      "@satsdart well maybe because we never had money on our bank accounts lmao\r\n",
      "@clueless_1337 @levantineking @DylanLeClair_ A millennium of suffering\r\n",
      "@CryptoCronkite @zachxbt any comment??\r\n"
     ]
    }
   ],
   "source": [
    "for i in data['text\\r'].sample(100):\n",
    "    print(i)"
   ]
  },
  {
   "cell_type": "code",
   "execution_count": 22,
   "id": "13f52783",
   "metadata": {},
   "outputs": [
    {
     "data": {
      "text/plain": [
       "61011"
      ]
     },
     "execution_count": 22,
     "metadata": {},
     "output_type": "execute_result"
    }
   ],
   "source": [
    "data['text\\r'].str.contains('Bitcoin|bitcoin|crypto',).sum()\n",
    "\n",
    "key_words = \n",
    "'Market',\n",
    "'Short',\n",
    "'Foo',\n",
    "'plan',\n",
    "'Ethereum',\n",
    "'eth',\n",
    "'🚀',\n",
    "'🔥',\n",
    "'bitcoin',\n",
    "'BTC',\n",
    "'HODL',\n",
    "'collapse',\n",
    "'crypto',\n",
    "'cryptocurrency',\n",
    "'currency',\n",
    "'price',\n",
    "'USD',\n",
    "'dollar',\n",
    "'scaling',\n",
    "'scale',\n"
   ]
  },
  {
   "cell_type": "code",
   "execution_count": 20,
   "id": "695d9740",
   "metadata": {},
   "outputs": [
    {
     "data": {
      "text/plain": [
       "12621"
      ]
     },
     "execution_count": 20,
     "metadata": {},
     "output_type": "execute_result"
    }
   ],
   "source": [
    "data['text\\r'].str.contains().sum()"
   ]
  },
  {
   "cell_type": "code",
   "execution_count": 30,
   "id": "7c94e462",
   "metadata": {},
   "outputs": [
    {
     "data": {
      "text/plain": [
       "['🚀']"
      ]
     },
     "execution_count": 30,
     "metadata": {},
     "output_type": "execute_result"
    }
   ],
   "source": [
    "list = []\n",
    "list.append('🚀')\n",
    "list"
   ]
  },
  {
   "cell_type": "code",
   "execution_count": null,
   "id": "3c8dd357",
   "metadata": {},
   "outputs": [],
   "source": [
    "#remove duplicates and add users to blacklist\n",
    "#remove users who post supiciouskly large frequency of tweets\n",
    "#remove suspicious n-grams in tweets"
   ]
  },
  {
   "cell_type": "code",
   "execution_count": null,
   "id": "077c0fe4",
   "metadata": {},
   "outputs": [],
   "source": [
    "#remove duplicates and add users to blacklist"
   ]
  },
  {
   "cell_type": "code",
   "execution_count": 7,
   "id": "8c58c1af",
   "metadata": {},
   "outputs": [
    {
     "data": {
      "text/html": [
       "<div>\n",
       "<style scoped>\n",
       "    .dataframe tbody tr th:only-of-type {\n",
       "        vertical-align: middle;\n",
       "    }\n",
       "\n",
       "    .dataframe tbody tr th {\n",
       "        vertical-align: top;\n",
       "    }\n",
       "\n",
       "    .dataframe thead th {\n",
       "        text-align: right;\n",
       "    }\n",
       "</style>\n",
       "<table border=\"1\" class=\"dataframe\">\n",
       "  <thead>\n",
       "    <tr style=\"text-align: right;\">\n",
       "      <th></th>\n",
       "      <th>Unnamed: 0.1</th>\n",
       "      <th>Unnamed: 0</th>\n",
       "      <th>datetime</th>\n",
       "      <th>username</th>\n",
       "      <th>text</th>\n",
       "      <th>date</th>\n",
       "      <th>negative_bert</th>\n",
       "      <th>neutral_bert</th>\n",
       "      <th>positive_bert</th>\n",
       "    </tr>\n",
       "  </thead>\n",
       "  <tbody>\n",
       "    <tr>\n",
       "      <th>0</th>\n",
       "      <td>0</td>\n",
       "      <td>0</td>\n",
       "      <td>2021-01-01 22:09:59+00:00</td>\n",
       "      <td>sivilianlife</td>\n",
       "      <td>What's the chances @Grayscale is hedging short...</td>\n",
       "      <td>2021-01-01</td>\n",
       "      <td>0.002040</td>\n",
       "      <td>0.951312</td>\n",
       "      <td>0.046648</td>\n",
       "    </tr>\n",
       "    <tr>\n",
       "      <th>1</th>\n",
       "      <td>1</td>\n",
       "      <td>1</td>\n",
       "      <td>2021-01-01 22:09:39+00:00</td>\n",
       "      <td>LudicrousSpeed9</td>\n",
       "      <td>@CNBC Buy #Bitcoin to hedge against the result...</td>\n",
       "      <td>2021-01-01</td>\n",
       "      <td>0.004157</td>\n",
       "      <td>0.400750</td>\n",
       "      <td>0.595093</td>\n",
       "    </tr>\n",
       "    <tr>\n",
       "      <th>2</th>\n",
       "      <td>2</td>\n",
       "      <td>2</td>\n",
       "      <td>2021-01-01 22:09:35+00:00</td>\n",
       "      <td>SergioBowers1</td>\n",
       "      <td>@APompliano @pepsi  @MonsterEnergy  $DEO $KO e...</td>\n",
       "      <td>2021-01-01</td>\n",
       "      <td>0.000248</td>\n",
       "      <td>0.582107</td>\n",
       "      <td>0.417644</td>\n",
       "    </tr>\n",
       "    <tr>\n",
       "      <th>3</th>\n",
       "      <td>3</td>\n",
       "      <td>3</td>\n",
       "      <td>2021-01-01 22:09:35+00:00</td>\n",
       "      <td>bmurphypointman</td>\n",
       "      <td>#entrepreneurs #selfemployed #traveling #Affil...</td>\n",
       "      <td>2021-01-01</td>\n",
       "      <td>0.000084</td>\n",
       "      <td>0.816604</td>\n",
       "      <td>0.183312</td>\n",
       "    </tr>\n",
       "    <tr>\n",
       "      <th>4</th>\n",
       "      <td>4</td>\n",
       "      <td>4</td>\n",
       "      <td>2021-01-01 22:09:21+00:00</td>\n",
       "      <td>bitvestor</td>\n",
       "      <td>Closed another chunk of this long now. Remaind...</td>\n",
       "      <td>2021-01-01</td>\n",
       "      <td>0.000974</td>\n",
       "      <td>0.807066</td>\n",
       "      <td>0.191960</td>\n",
       "    </tr>\n",
       "  </tbody>\n",
       "</table>\n",
       "</div>"
      ],
      "text/plain": [
       "   Unnamed: 0.1  Unnamed: 0                   datetime         username  \\\n",
       "0             0           0  2021-01-01 22:09:59+00:00     sivilianlife   \n",
       "1             1           1  2021-01-01 22:09:39+00:00  LudicrousSpeed9   \n",
       "2             2           2  2021-01-01 22:09:35+00:00    SergioBowers1   \n",
       "3             3           3  2021-01-01 22:09:35+00:00  bmurphypointman   \n",
       "4             4           4  2021-01-01 22:09:21+00:00        bitvestor   \n",
       "\n",
       "                                                text        date  \\\n",
       "0  What's the chances @Grayscale is hedging short...  2021-01-01   \n",
       "1  @CNBC Buy #Bitcoin to hedge against the result...  2021-01-01   \n",
       "2  @APompliano @pepsi  @MonsterEnergy  $DEO $KO e...  2021-01-01   \n",
       "3  #entrepreneurs #selfemployed #traveling #Affil...  2021-01-01   \n",
       "4  Closed another chunk of this long now. Remaind...  2021-01-01   \n",
       "\n",
       "   negative_bert  neutral_bert  positive_bert  \n",
       "0       0.002040      0.951312       0.046648  \n",
       "1       0.004157      0.400750       0.595093  \n",
       "2       0.000248      0.582107       0.417644  \n",
       "3       0.000084      0.816604       0.183312  \n",
       "4       0.000974      0.807066       0.191960  "
      ]
     },
     "execution_count": 7,
     "metadata": {},
     "output_type": "execute_result"
    }
   ],
   "source": [
    "data.head()"
   ]
  },
  {
   "cell_type": "code",
   "execution_count": 9,
   "id": "b090f1d0",
   "metadata": {},
   "outputs": [],
   "source": [
    "data= data[['datetime', 'username', 'text', 'date',\n",
    "       'negative_bert', 'neutral_bert', 'positive_bert']]"
   ]
  },
  {
   "cell_type": "code",
   "execution_count": 16,
   "id": "3a6f3c11",
   "metadata": {},
   "outputs": [],
   "source": [
    "dup_tweets = data[data['text'].duplicated()]\n",
    "blacklist = []\n",
    "for name in dup_tweets['username']:\n",
    "    blacklist.append(name)\n",
    "\n",
    "blacklist = list(set(blacklist))"
   ]
  },
  {
   "cell_type": "code",
   "execution_count": 19,
   "id": "daf2b143",
   "metadata": {},
   "outputs": [
    {
     "data": {
      "text/plain": [
       "1340"
      ]
     },
     "execution_count": 19,
     "metadata": {},
     "output_type": "execute_result"
    }
   ],
   "source": [
    "len(blacklist)"
   ]
  },
  {
   "cell_type": "code",
   "execution_count": 20,
   "id": "c0b9a4aa",
   "metadata": {},
   "outputs": [],
   "source": [
    "def to_remove(x):\n",
    "    if x in blacklist:\n",
    "        return True\n",
    "    else:\n",
    "        return False"
   ]
  },
  {
   "cell_type": "code",
   "execution_count": 21,
   "id": "790f5271",
   "metadata": {},
   "outputs": [],
   "source": [
    "data['to_remove'] = data['username'].apply(to_remove)"
   ]
  },
  {
   "cell_type": "code",
   "execution_count": 25,
   "id": "a9bffb00",
   "metadata": {},
   "outputs": [],
   "source": [
    "mask = data['to_remove']\n",
    "data2 = data[~mask]"
   ]
  },
  {
   "cell_type": "code",
   "execution_count": 26,
   "id": "dee67800",
   "metadata": {},
   "outputs": [
    {
     "data": {
      "text/plain": [
       "(347668, 8)"
      ]
     },
     "execution_count": 26,
     "metadata": {},
     "output_type": "execute_result"
    }
   ],
   "source": [
    "data2.shape"
   ]
  },
  {
   "cell_type": "code",
   "execution_count": 28,
   "id": "69376a98",
   "metadata": {},
   "outputs": [],
   "source": [
    "data2.to_csv('raw_tweets_without_dupes_120323.csv')"
   ]
  },
  {
   "cell_type": "code",
   "execution_count": 27,
   "id": "31afceb1",
   "metadata": {},
   "outputs": [],
   "source": [
    "#remove users who post supiciouskly large frequency of tweets"
   ]
  }
 ],
 "metadata": {
  "kernelspec": {
   "display_name": "Python 3 (ipykernel)",
   "language": "python",
   "name": "python3"
  },
  "language_info": {
   "codemirror_mode": {
    "name": "ipython",
    "version": 3
   },
   "file_extension": ".py",
   "mimetype": "text/x-python",
   "name": "python",
   "nbconvert_exporter": "python",
   "pygments_lexer": "ipython3",
   "version": "3.10.6"
  },
  "toc": {
   "base_numbering": 1,
   "nav_menu": {},
   "number_sections": true,
   "sideBar": true,
   "skip_h1_title": false,
   "title_cell": "Table of Contents",
   "title_sidebar": "Contents",
   "toc_cell": false,
   "toc_position": {},
   "toc_section_display": true,
   "toc_window_display": false
  }
 },
 "nbformat": 4,
 "nbformat_minor": 5
}
